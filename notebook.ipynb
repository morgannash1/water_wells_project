{
 "cells": [
  {
   "cell_type": "markdown",
   "id": "fad7a2f7-bf65-43aa-9f55-74c3d94a3170",
   "metadata": {},
   "source": [
    "# Tanzania Water Wells Project"
   ]
  },
  {
   "cell_type": "markdown",
   "id": "b66eea99-6ddc-4914-bc00-2dc8ecde384c",
   "metadata": {},
   "source": [
    "Morgan Nash"
   ]
  },
  {
   "cell_type": "markdown",
   "id": "d5627793-3168-48fd-a4a3-01487e7b4b68",
   "metadata": {},
   "source": [
    "August 2025"
   ]
  },
  {
   "cell_type": "markdown",
   "id": "cf55a236-1911-4358-87e6-7af9a2efe473",
   "metadata": {},
   "source": [
    "# Overview"
   ]
  },
  {
   "cell_type": "markdown",
   "id": "9dc4a10d-22fd-4e5f-8bcb-de60d5e40627",
   "metadata": {},
   "source": [
    "## Business Understanding"
   ]
  },
  {
   "cell_type": "code",
   "execution_count": 1,
   "id": "cfa1757e-fb65-423b-8486-36b916a04086",
   "metadata": {},
   "outputs": [],
   "source": [
    "#clean drinking water, look deeper to see looking at different features like pump creation or water to predict pump is functional or needs repair\n",
    "#predict which water pumps are faulty to promote access to clean, potable water across Tanzania\n",
    "#global climate change->water scarcity->increasing problem in Tanzania, either intense and destructive rainfall or long dry spells.\n",
    "#classification model to predict functionality of pumps"
   ]
  },
  {
   "cell_type": "markdown",
   "id": "7cf2002f-5f5d-4a25-b09f-9b2ee9c6eb4c",
   "metadata": {},
   "source": [
    "## Data Understanding"
   ]
  },
  {
   "cell_type": "markdown",
   "id": "f44af231-a015-4180-a9d0-7896fce3ec51",
   "metadata": {},
   "source": [
    "The data for this project comes from Taarifa, who compiled data from the Tanzania Ministry of Water, and was accessed through DrivenData.org. The data contains 59,400 records of water wells, each with 41 features. Our target is **status_group** which contains labeling of whether a pump is functional, functional needs repair, or non functional. After cleaning the data, we'll be using the features to build a classification model to predict the status of water wells.\n"
   ]
  },
  {
   "cell_type": "markdown",
   "id": "05b59882-a925-4ee5-8b4b-439eeaa831a4",
   "metadata": {},
   "source": [
    "Training Labels Dataset:\n",
    "* id: Unique identifier for each water pump\n",
    "* status_group: contains labels whether a pump is functional, functional needs repair, or non functional\n",
    "\n",
    "* (status_group will be our target)"
   ]
  },
  {
   "cell_type": "markdown",
   "id": "fd67f495-7134-4a60-b10b-12c0ae6a005f",
   "metadata": {},
   "source": [
    "Training Values Dataset:\n",
    "* id: Unique identifier for each water pump\n",
    "* amount_tsh: Total static head (amount of water available to pump)\n",
    "* date_recorded: Date the pump data was recorded\n",
    "* funder: Person or org funded the pump installation\n",
    "* gps_height: Altitude of the pump location\n",
    "* installer: Person or org that installed the pump\n",
    "* longitude: GPS longitude coordinate of the pump location\n",
    "* latitude: GPS latitude coordinate of the pump location\n",
    "* wpt_name: Name of the waterpoint (if available)\n",
    "* num_private: Number of private plots reserved for the waterpoint\n",
    "* basin: Geographic basin of the pump location\n",
    "* subvillage: Geographic location within the village\n",
    "* region: Geographic location\n",
    "* region_code: Coded- geographic region\n",
    "* district_code: Coded- administrative district\n",
    "* lga: Geographic location (Local Government Area)\n",
    "* ward: Geographic location (Administrative division)\n",
    "* population: Population served by the well\n",
    "* public_meeting: T/F Indicator of whether there was a public meeting about the well\n",
    "* recorded_by: Group entering this row of data\n",
    "* scheme_management: Who operates the waterpoint\n",
    "* scheme_name: Who operates the waterpoint\n",
    "* permit: Indicator of whether the waterpoint is permitted\n",
    "* construction_year: Year the pump was installed\n",
    "* extraction_type: The kind of extraction the waterpoint uses\n",
    "* extraction_type_group: The kind of extraction the waterpoint uses\n",
    "* extraction_type_class: The kind of extraction the waterpoint uses\n",
    "* management: Type of management for the pump\n",
    "* management_group: Grouped management type\n",
    "* payment: Payment type for water service\n",
    "* payment_type: Type of payment\n",
    "* water_quality: Quality of water provided by the pump\n",
    "* quality_group - The quality of the water\n",
    "* quantity - The quantity of water\n",
    "* quantity_group - The quantity of water\n",
    "* source - The source of the water\n",
    "* source_type - The source of the water\n",
    "* source_class - The source of the water\n",
    "* waterpoint_type - The kind of waterpoint\n",
    "* waterpoint_type_group - The kind of waterpoint"
   ]
  },
  {
   "cell_type": "markdown",
   "id": "ee3c8158-5488-4da0-84c2-ce0d9b61b17f",
   "metadata": {},
   "source": [
    "# Exploratory Data Analysis"
   ]
  },
  {
   "cell_type": "markdown",
   "id": "e4b2b448-abe2-40e2-9c85-60332ccc5f5d",
   "metadata": {},
   "source": [
    "## Data Preparation & Cleaning"
   ]
  },
  {
   "cell_type": "code",
   "execution_count": 2,
   "id": "0534272e-6782-4775-907d-12455d108908",
   "metadata": {},
   "outputs": [],
   "source": [
    "#import relevant libraries\n",
    "import pandas as pd\n",
    "import numpy as np\n",
    "import matplotlib.pyplot as plt\n",
    "%matplotlib inline\n",
    "import seaborn as sns\n",
    "from sklearn.model_selection import train_test_split, cross_val_score, GridSearchCV\n",
    "from sklearn.dummy import DummyClassifier\n",
    "from sklearn.preprocessing import LabelEncoder, OneHotEncoder, StandardScaler\n",
    "from sklearn.impute import SimpleImputer\n",
    "from sklearn.linear_model import LogisticRegression\n",
    "from sklearn.metrics import accuracy_score, classification_report, confusion_matrix, recall_score\n",
    "from sklearn.impute import SimpleImputer"
   ]
  },
  {
   "cell_type": "code",
   "execution_count": 3,
   "id": "d9c2f32c-ab11-40bd-ab15-c579b3f82194",
   "metadata": {},
   "outputs": [],
   "source": [
    "import warnings\n",
    "warnings.filterwarnings('ignore')"
   ]
  },
  {
   "cell_type": "code",
   "execution_count": 4,
   "id": "78717973-96d4-4911-87e9-ca3c4106e500",
   "metadata": {},
   "outputs": [
    {
     "data": {
      "text/html": [
       "<div>\n",
       "<style scoped>\n",
       "    .dataframe tbody tr th:only-of-type {\n",
       "        vertical-align: middle;\n",
       "    }\n",
       "\n",
       "    .dataframe tbody tr th {\n",
       "        vertical-align: top;\n",
       "    }\n",
       "\n",
       "    .dataframe thead th {\n",
       "        text-align: right;\n",
       "    }\n",
       "</style>\n",
       "<table border=\"1\" class=\"dataframe\">\n",
       "  <thead>\n",
       "    <tr style=\"text-align: right;\">\n",
       "      <th></th>\n",
       "      <th>id</th>\n",
       "      <th>amount_tsh</th>\n",
       "      <th>date_recorded</th>\n",
       "      <th>funder</th>\n",
       "      <th>gps_height</th>\n",
       "      <th>installer</th>\n",
       "      <th>longitude</th>\n",
       "      <th>latitude</th>\n",
       "      <th>wpt_name</th>\n",
       "      <th>num_private</th>\n",
       "      <th>...</th>\n",
       "      <th>payment_type</th>\n",
       "      <th>water_quality</th>\n",
       "      <th>quality_group</th>\n",
       "      <th>quantity</th>\n",
       "      <th>quantity_group</th>\n",
       "      <th>source</th>\n",
       "      <th>source_type</th>\n",
       "      <th>source_class</th>\n",
       "      <th>waterpoint_type</th>\n",
       "      <th>waterpoint_type_group</th>\n",
       "    </tr>\n",
       "  </thead>\n",
       "  <tbody>\n",
       "    <tr>\n",
       "      <th>0</th>\n",
       "      <td>69572</td>\n",
       "      <td>6000.0</td>\n",
       "      <td>2011-03-14</td>\n",
       "      <td>Roman</td>\n",
       "      <td>1390</td>\n",
       "      <td>Roman</td>\n",
       "      <td>34.938093</td>\n",
       "      <td>-9.856322</td>\n",
       "      <td>none</td>\n",
       "      <td>0</td>\n",
       "      <td>...</td>\n",
       "      <td>annually</td>\n",
       "      <td>soft</td>\n",
       "      <td>good</td>\n",
       "      <td>enough</td>\n",
       "      <td>enough</td>\n",
       "      <td>spring</td>\n",
       "      <td>spring</td>\n",
       "      <td>groundwater</td>\n",
       "      <td>communal standpipe</td>\n",
       "      <td>communal standpipe</td>\n",
       "    </tr>\n",
       "    <tr>\n",
       "      <th>1</th>\n",
       "      <td>8776</td>\n",
       "      <td>0.0</td>\n",
       "      <td>2013-03-06</td>\n",
       "      <td>Grumeti</td>\n",
       "      <td>1399</td>\n",
       "      <td>GRUMETI</td>\n",
       "      <td>34.698766</td>\n",
       "      <td>-2.147466</td>\n",
       "      <td>Zahanati</td>\n",
       "      <td>0</td>\n",
       "      <td>...</td>\n",
       "      <td>never pay</td>\n",
       "      <td>soft</td>\n",
       "      <td>good</td>\n",
       "      <td>insufficient</td>\n",
       "      <td>insufficient</td>\n",
       "      <td>rainwater harvesting</td>\n",
       "      <td>rainwater harvesting</td>\n",
       "      <td>surface</td>\n",
       "      <td>communal standpipe</td>\n",
       "      <td>communal standpipe</td>\n",
       "    </tr>\n",
       "    <tr>\n",
       "      <th>2</th>\n",
       "      <td>34310</td>\n",
       "      <td>25.0</td>\n",
       "      <td>2013-02-25</td>\n",
       "      <td>Lottery Club</td>\n",
       "      <td>686</td>\n",
       "      <td>World vision</td>\n",
       "      <td>37.460664</td>\n",
       "      <td>-3.821329</td>\n",
       "      <td>Kwa Mahundi</td>\n",
       "      <td>0</td>\n",
       "      <td>...</td>\n",
       "      <td>per bucket</td>\n",
       "      <td>soft</td>\n",
       "      <td>good</td>\n",
       "      <td>enough</td>\n",
       "      <td>enough</td>\n",
       "      <td>dam</td>\n",
       "      <td>dam</td>\n",
       "      <td>surface</td>\n",
       "      <td>communal standpipe multiple</td>\n",
       "      <td>communal standpipe</td>\n",
       "    </tr>\n",
       "    <tr>\n",
       "      <th>3</th>\n",
       "      <td>67743</td>\n",
       "      <td>0.0</td>\n",
       "      <td>2013-01-28</td>\n",
       "      <td>Unicef</td>\n",
       "      <td>263</td>\n",
       "      <td>UNICEF</td>\n",
       "      <td>38.486161</td>\n",
       "      <td>-11.155298</td>\n",
       "      <td>Zahanati Ya Nanyumbu</td>\n",
       "      <td>0</td>\n",
       "      <td>...</td>\n",
       "      <td>never pay</td>\n",
       "      <td>soft</td>\n",
       "      <td>good</td>\n",
       "      <td>dry</td>\n",
       "      <td>dry</td>\n",
       "      <td>machine dbh</td>\n",
       "      <td>borehole</td>\n",
       "      <td>groundwater</td>\n",
       "      <td>communal standpipe multiple</td>\n",
       "      <td>communal standpipe</td>\n",
       "    </tr>\n",
       "    <tr>\n",
       "      <th>4</th>\n",
       "      <td>19728</td>\n",
       "      <td>0.0</td>\n",
       "      <td>2011-07-13</td>\n",
       "      <td>Action In A</td>\n",
       "      <td>0</td>\n",
       "      <td>Artisan</td>\n",
       "      <td>31.130847</td>\n",
       "      <td>-1.825359</td>\n",
       "      <td>Shuleni</td>\n",
       "      <td>0</td>\n",
       "      <td>...</td>\n",
       "      <td>never pay</td>\n",
       "      <td>soft</td>\n",
       "      <td>good</td>\n",
       "      <td>seasonal</td>\n",
       "      <td>seasonal</td>\n",
       "      <td>rainwater harvesting</td>\n",
       "      <td>rainwater harvesting</td>\n",
       "      <td>surface</td>\n",
       "      <td>communal standpipe</td>\n",
       "      <td>communal standpipe</td>\n",
       "    </tr>\n",
       "  </tbody>\n",
       "</table>\n",
       "<p>5 rows × 40 columns</p>\n",
       "</div>"
      ],
      "text/plain": [
       "      id  amount_tsh date_recorded        funder  gps_height     installer  \\\n",
       "0  69572      6000.0    2011-03-14         Roman        1390         Roman   \n",
       "1   8776         0.0    2013-03-06       Grumeti        1399       GRUMETI   \n",
       "2  34310        25.0    2013-02-25  Lottery Club         686  World vision   \n",
       "3  67743         0.0    2013-01-28        Unicef         263        UNICEF   \n",
       "4  19728         0.0    2011-07-13   Action In A           0       Artisan   \n",
       "\n",
       "   longitude   latitude              wpt_name  num_private  ... payment_type  \\\n",
       "0  34.938093  -9.856322                  none            0  ...     annually   \n",
       "1  34.698766  -2.147466              Zahanati            0  ...    never pay   \n",
       "2  37.460664  -3.821329           Kwa Mahundi            0  ...   per bucket   \n",
       "3  38.486161 -11.155298  Zahanati Ya Nanyumbu            0  ...    never pay   \n",
       "4  31.130847  -1.825359               Shuleni            0  ...    never pay   \n",
       "\n",
       "  water_quality quality_group      quantity  quantity_group  \\\n",
       "0          soft          good        enough          enough   \n",
       "1          soft          good  insufficient    insufficient   \n",
       "2          soft          good        enough          enough   \n",
       "3          soft          good           dry             dry   \n",
       "4          soft          good      seasonal        seasonal   \n",
       "\n",
       "                 source           source_type  source_class  \\\n",
       "0                spring                spring   groundwater   \n",
       "1  rainwater harvesting  rainwater harvesting       surface   \n",
       "2                   dam                   dam       surface   \n",
       "3           machine dbh              borehole   groundwater   \n",
       "4  rainwater harvesting  rainwater harvesting       surface   \n",
       "\n",
       "               waterpoint_type waterpoint_type_group  \n",
       "0           communal standpipe    communal standpipe  \n",
       "1           communal standpipe    communal standpipe  \n",
       "2  communal standpipe multiple    communal standpipe  \n",
       "3  communal standpipe multiple    communal standpipe  \n",
       "4           communal standpipe    communal standpipe  \n",
       "\n",
       "[5 rows x 40 columns]"
      ]
     },
     "execution_count": 4,
     "metadata": {},
     "output_type": "execute_result"
    }
   ],
   "source": [
    "#load the data\n",
    "val = pd.read_csv('data/Training_set_values.csv')\n",
    "val.head()"
   ]
  },
  {
   "cell_type": "markdown",
   "id": "02ca95d5-6f2b-4989-8600-5bdcf82aa7b4",
   "metadata": {},
   "source": [
    "At first glance, it looks like there's many categorical columns that are similar or duplicates suggesting multicollinearity, as well as some categorical columns that will need to be OneHotEncoded!"
   ]
  },
  {
   "cell_type": "code",
   "execution_count": 5,
   "id": "ac2ceddc-3514-4086-8fcd-194d339b6857",
   "metadata": {},
   "outputs": [
    {
     "data": {
      "text/html": [
       "<div>\n",
       "<style scoped>\n",
       "    .dataframe tbody tr th:only-of-type {\n",
       "        vertical-align: middle;\n",
       "    }\n",
       "\n",
       "    .dataframe tbody tr th {\n",
       "        vertical-align: top;\n",
       "    }\n",
       "\n",
       "    .dataframe thead th {\n",
       "        text-align: right;\n",
       "    }\n",
       "</style>\n",
       "<table border=\"1\" class=\"dataframe\">\n",
       "  <thead>\n",
       "    <tr style=\"text-align: right;\">\n",
       "      <th></th>\n",
       "      <th>id</th>\n",
       "      <th>status_group</th>\n",
       "    </tr>\n",
       "  </thead>\n",
       "  <tbody>\n",
       "    <tr>\n",
       "      <th>0</th>\n",
       "      <td>69572</td>\n",
       "      <td>functional</td>\n",
       "    </tr>\n",
       "    <tr>\n",
       "      <th>1</th>\n",
       "      <td>8776</td>\n",
       "      <td>functional</td>\n",
       "    </tr>\n",
       "    <tr>\n",
       "      <th>2</th>\n",
       "      <td>34310</td>\n",
       "      <td>functional</td>\n",
       "    </tr>\n",
       "    <tr>\n",
       "      <th>3</th>\n",
       "      <td>67743</td>\n",
       "      <td>non functional</td>\n",
       "    </tr>\n",
       "    <tr>\n",
       "      <th>4</th>\n",
       "      <td>19728</td>\n",
       "      <td>functional</td>\n",
       "    </tr>\n",
       "  </tbody>\n",
       "</table>\n",
       "</div>"
      ],
      "text/plain": [
       "      id    status_group\n",
       "0  69572      functional\n",
       "1   8776      functional\n",
       "2  34310      functional\n",
       "3  67743  non functional\n",
       "4  19728      functional"
      ]
     },
     "execution_count": 5,
     "metadata": {},
     "output_type": "execute_result"
    }
   ],
   "source": [
    "#load the data\n",
    "labels = pd.read_csv('data/Training_set_labels.csv')\n",
    "labels.head()"
   ]
  },
  {
   "cell_type": "code",
   "execution_count": 6,
   "id": "2df90434-3d9c-412c-8c39-3e409f6ee6c4",
   "metadata": {},
   "outputs": [
    {
     "name": "stdout",
     "output_type": "stream",
     "text": [
      "<class 'pandas.core.frame.DataFrame'>\n",
      "RangeIndex: 59400 entries, 0 to 59399\n",
      "Data columns (total 40 columns):\n",
      " #   Column                 Non-Null Count  Dtype  \n",
      "---  ------                 --------------  -----  \n",
      " 0   id                     59400 non-null  int64  \n",
      " 1   amount_tsh             59400 non-null  float64\n",
      " 2   date_recorded          59400 non-null  object \n",
      " 3   funder                 55765 non-null  object \n",
      " 4   gps_height             59400 non-null  int64  \n",
      " 5   installer              55745 non-null  object \n",
      " 6   longitude              59400 non-null  float64\n",
      " 7   latitude               59400 non-null  float64\n",
      " 8   wpt_name               59400 non-null  object \n",
      " 9   num_private            59400 non-null  int64  \n",
      " 10  basin                  59400 non-null  object \n",
      " 11  subvillage             59029 non-null  object \n",
      " 12  region                 59400 non-null  object \n",
      " 13  region_code            59400 non-null  int64  \n",
      " 14  district_code          59400 non-null  int64  \n",
      " 15  lga                    59400 non-null  object \n",
      " 16  ward                   59400 non-null  object \n",
      " 17  population             59400 non-null  int64  \n",
      " 18  public_meeting         56066 non-null  object \n",
      " 19  recorded_by            59400 non-null  object \n",
      " 20  scheme_management      55523 non-null  object \n",
      " 21  scheme_name            31234 non-null  object \n",
      " 22  permit                 56344 non-null  object \n",
      " 23  construction_year      59400 non-null  int64  \n",
      " 24  extraction_type        59400 non-null  object \n",
      " 25  extraction_type_group  59400 non-null  object \n",
      " 26  extraction_type_class  59400 non-null  object \n",
      " 27  management             59400 non-null  object \n",
      " 28  management_group       59400 non-null  object \n",
      " 29  payment                59400 non-null  object \n",
      " 30  payment_type           59400 non-null  object \n",
      " 31  water_quality          59400 non-null  object \n",
      " 32  quality_group          59400 non-null  object \n",
      " 33  quantity               59400 non-null  object \n",
      " 34  quantity_group         59400 non-null  object \n",
      " 35  source                 59400 non-null  object \n",
      " 36  source_type            59400 non-null  object \n",
      " 37  source_class           59400 non-null  object \n",
      " 38  waterpoint_type        59400 non-null  object \n",
      " 39  waterpoint_type_group  59400 non-null  object \n",
      "dtypes: float64(3), int64(7), object(30)\n",
      "memory usage: 18.1+ MB\n"
     ]
    }
   ],
   "source": [
    "val.info()"
   ]
  },
  {
   "cell_type": "code",
   "execution_count": 7,
   "id": "9817eeda-76ae-44b6-9e5a-4421613b437e",
   "metadata": {},
   "outputs": [
    {
     "name": "stdout",
     "output_type": "stream",
     "text": [
      "<class 'pandas.core.frame.DataFrame'>\n",
      "RangeIndex: 59400 entries, 0 to 59399\n",
      "Data columns (total 2 columns):\n",
      " #   Column        Non-Null Count  Dtype \n",
      "---  ------        --------------  ----- \n",
      " 0   id            59400 non-null  int64 \n",
      " 1   status_group  59400 non-null  object\n",
      "dtypes: int64(1), object(1)\n",
      "memory usage: 928.2+ KB\n"
     ]
    }
   ],
   "source": [
    "labels.info()"
   ]
  },
  {
   "cell_type": "code",
   "execution_count": 8,
   "id": "f4ab15ed-f99e-4cbc-b0c9-093bff1d5bba",
   "metadata": {},
   "outputs": [
    {
     "data": {
      "text/plain": [
       "functional                 32259\n",
       "non functional             22824\n",
       "functional needs repair     4317\n",
       "Name: status_group, dtype: int64"
      ]
     },
     "execution_count": 8,
     "metadata": {},
     "output_type": "execute_result"
    }
   ],
   "source": [
    "labels['status_group'].value_counts()"
   ]
  },
  {
   "cell_type": "code",
   "execution_count": 9,
   "id": "e76e8833-98d8-4358-b1c2-d01d4289361f",
   "metadata": {},
   "outputs": [
    {
     "data": {
      "text/plain": [
       "functional                 0.543081\n",
       "non functional             0.384242\n",
       "functional needs repair    0.072677\n",
       "Name: status_group, dtype: float64"
      ]
     },
     "execution_count": 9,
     "metadata": {},
     "output_type": "execute_result"
    }
   ],
   "source": [
    "# Check target class (im)balance with percentages: Pretty significant imbalance!!\n",
    "labels['status_group'].value_counts(normalize=True)"
   ]
  },
  {
   "cell_type": "markdown",
   "id": "0885bcc7-2683-4c36-8f2f-f6fc6e792163",
   "metadata": {},
   "source": [
    "### Make the target binary:"
   ]
  },
  {
   "cell_type": "code",
   "execution_count": 10,
   "id": "c17ccb2a-6801-4c5c-8f4f-1ca35ed07515",
   "metadata": {},
   "outputs": [],
   "source": [
    "# make problem binary: change the status_group labels 'non functional' and 'functinoal needs repair' into 'needs repair'\n",
    "labels['status_group'] = labels['status_group'].map({'non functional':'needs repair',\n",
    "                                                       'functional needs repair':'needs repair',\n",
    "                                                       'functional':'functional'})"
   ]
  },
  {
   "cell_type": "code",
   "execution_count": 11,
   "id": "2acc043a-8841-48f5-957f-cdab7934e893",
   "metadata": {},
   "outputs": [
    {
     "data": {
      "text/plain": [
       "functional      32259\n",
       "needs repair    27141\n",
       "Name: status_group, dtype: int64"
      ]
     },
     "execution_count": 11,
     "metadata": {},
     "output_type": "execute_result"
    }
   ],
   "source": [
    "labels['status_group'].value_counts()"
   ]
  },
  {
   "cell_type": "code",
   "execution_count": 12,
   "id": "90241002-351e-446d-863a-b16001de4570",
   "metadata": {},
   "outputs": [
    {
     "data": {
      "text/plain": [
       "functional      0.543081\n",
       "needs repair    0.456919\n",
       "Name: status_group, dtype: float64"
      ]
     },
     "execution_count": 12,
     "metadata": {},
     "output_type": "execute_result"
    }
   ],
   "source": [
    "#although not all, this fixes a good amount of class imbalance\n",
    "labels['status_group'].value_counts(normalize=True)"
   ]
  },
  {
   "cell_type": "markdown",
   "id": "4b1badbe-d903-4773-acde-b047f2e4409a",
   "metadata": {},
   "source": [
    "### Combine Values & Labels into One Dataframe"
   ]
  },
  {
   "cell_type": "code",
   "execution_count": 13,
   "id": "61309614-047b-4565-8fce-73f62369ff0f",
   "metadata": {},
   "outputs": [
    {
     "data": {
      "text/html": [
       "<div>\n",
       "<style scoped>\n",
       "    .dataframe tbody tr th:only-of-type {\n",
       "        vertical-align: middle;\n",
       "    }\n",
       "\n",
       "    .dataframe tbody tr th {\n",
       "        vertical-align: top;\n",
       "    }\n",
       "\n",
       "    .dataframe thead th {\n",
       "        text-align: right;\n",
       "    }\n",
       "</style>\n",
       "<table border=\"1\" class=\"dataframe\">\n",
       "  <thead>\n",
       "    <tr style=\"text-align: right;\">\n",
       "      <th></th>\n",
       "      <th>id</th>\n",
       "      <th>amount_tsh</th>\n",
       "      <th>date_recorded</th>\n",
       "      <th>funder</th>\n",
       "      <th>gps_height</th>\n",
       "      <th>installer</th>\n",
       "      <th>longitude</th>\n",
       "      <th>latitude</th>\n",
       "      <th>wpt_name</th>\n",
       "      <th>num_private</th>\n",
       "      <th>...</th>\n",
       "      <th>water_quality</th>\n",
       "      <th>quality_group</th>\n",
       "      <th>quantity</th>\n",
       "      <th>quantity_group</th>\n",
       "      <th>source</th>\n",
       "      <th>source_type</th>\n",
       "      <th>source_class</th>\n",
       "      <th>waterpoint_type</th>\n",
       "      <th>waterpoint_type_group</th>\n",
       "      <th>status_group</th>\n",
       "    </tr>\n",
       "  </thead>\n",
       "  <tbody>\n",
       "    <tr>\n",
       "      <th>0</th>\n",
       "      <td>69572</td>\n",
       "      <td>6000.0</td>\n",
       "      <td>2011-03-14</td>\n",
       "      <td>Roman</td>\n",
       "      <td>1390</td>\n",
       "      <td>Roman</td>\n",
       "      <td>34.938093</td>\n",
       "      <td>-9.856322</td>\n",
       "      <td>none</td>\n",
       "      <td>0</td>\n",
       "      <td>...</td>\n",
       "      <td>soft</td>\n",
       "      <td>good</td>\n",
       "      <td>enough</td>\n",
       "      <td>enough</td>\n",
       "      <td>spring</td>\n",
       "      <td>spring</td>\n",
       "      <td>groundwater</td>\n",
       "      <td>communal standpipe</td>\n",
       "      <td>communal standpipe</td>\n",
       "      <td>functional</td>\n",
       "    </tr>\n",
       "    <tr>\n",
       "      <th>1</th>\n",
       "      <td>8776</td>\n",
       "      <td>0.0</td>\n",
       "      <td>2013-03-06</td>\n",
       "      <td>Grumeti</td>\n",
       "      <td>1399</td>\n",
       "      <td>GRUMETI</td>\n",
       "      <td>34.698766</td>\n",
       "      <td>-2.147466</td>\n",
       "      <td>Zahanati</td>\n",
       "      <td>0</td>\n",
       "      <td>...</td>\n",
       "      <td>soft</td>\n",
       "      <td>good</td>\n",
       "      <td>insufficient</td>\n",
       "      <td>insufficient</td>\n",
       "      <td>rainwater harvesting</td>\n",
       "      <td>rainwater harvesting</td>\n",
       "      <td>surface</td>\n",
       "      <td>communal standpipe</td>\n",
       "      <td>communal standpipe</td>\n",
       "      <td>functional</td>\n",
       "    </tr>\n",
       "    <tr>\n",
       "      <th>2</th>\n",
       "      <td>34310</td>\n",
       "      <td>25.0</td>\n",
       "      <td>2013-02-25</td>\n",
       "      <td>Lottery Club</td>\n",
       "      <td>686</td>\n",
       "      <td>World vision</td>\n",
       "      <td>37.460664</td>\n",
       "      <td>-3.821329</td>\n",
       "      <td>Kwa Mahundi</td>\n",
       "      <td>0</td>\n",
       "      <td>...</td>\n",
       "      <td>soft</td>\n",
       "      <td>good</td>\n",
       "      <td>enough</td>\n",
       "      <td>enough</td>\n",
       "      <td>dam</td>\n",
       "      <td>dam</td>\n",
       "      <td>surface</td>\n",
       "      <td>communal standpipe multiple</td>\n",
       "      <td>communal standpipe</td>\n",
       "      <td>functional</td>\n",
       "    </tr>\n",
       "    <tr>\n",
       "      <th>3</th>\n",
       "      <td>67743</td>\n",
       "      <td>0.0</td>\n",
       "      <td>2013-01-28</td>\n",
       "      <td>Unicef</td>\n",
       "      <td>263</td>\n",
       "      <td>UNICEF</td>\n",
       "      <td>38.486161</td>\n",
       "      <td>-11.155298</td>\n",
       "      <td>Zahanati Ya Nanyumbu</td>\n",
       "      <td>0</td>\n",
       "      <td>...</td>\n",
       "      <td>soft</td>\n",
       "      <td>good</td>\n",
       "      <td>dry</td>\n",
       "      <td>dry</td>\n",
       "      <td>machine dbh</td>\n",
       "      <td>borehole</td>\n",
       "      <td>groundwater</td>\n",
       "      <td>communal standpipe multiple</td>\n",
       "      <td>communal standpipe</td>\n",
       "      <td>needs repair</td>\n",
       "    </tr>\n",
       "    <tr>\n",
       "      <th>4</th>\n",
       "      <td>19728</td>\n",
       "      <td>0.0</td>\n",
       "      <td>2011-07-13</td>\n",
       "      <td>Action In A</td>\n",
       "      <td>0</td>\n",
       "      <td>Artisan</td>\n",
       "      <td>31.130847</td>\n",
       "      <td>-1.825359</td>\n",
       "      <td>Shuleni</td>\n",
       "      <td>0</td>\n",
       "      <td>...</td>\n",
       "      <td>soft</td>\n",
       "      <td>good</td>\n",
       "      <td>seasonal</td>\n",
       "      <td>seasonal</td>\n",
       "      <td>rainwater harvesting</td>\n",
       "      <td>rainwater harvesting</td>\n",
       "      <td>surface</td>\n",
       "      <td>communal standpipe</td>\n",
       "      <td>communal standpipe</td>\n",
       "      <td>functional</td>\n",
       "    </tr>\n",
       "  </tbody>\n",
       "</table>\n",
       "<p>5 rows × 41 columns</p>\n",
       "</div>"
      ],
      "text/plain": [
       "      id  amount_tsh date_recorded        funder  gps_height     installer  \\\n",
       "0  69572      6000.0    2011-03-14         Roman        1390         Roman   \n",
       "1   8776         0.0    2013-03-06       Grumeti        1399       GRUMETI   \n",
       "2  34310        25.0    2013-02-25  Lottery Club         686  World vision   \n",
       "3  67743         0.0    2013-01-28        Unicef         263        UNICEF   \n",
       "4  19728         0.0    2011-07-13   Action In A           0       Artisan   \n",
       "\n",
       "   longitude   latitude              wpt_name  num_private  ... water_quality  \\\n",
       "0  34.938093  -9.856322                  none            0  ...          soft   \n",
       "1  34.698766  -2.147466              Zahanati            0  ...          soft   \n",
       "2  37.460664  -3.821329           Kwa Mahundi            0  ...          soft   \n",
       "3  38.486161 -11.155298  Zahanati Ya Nanyumbu            0  ...          soft   \n",
       "4  31.130847  -1.825359               Shuleni            0  ...          soft   \n",
       "\n",
       "  quality_group      quantity  quantity_group                source  \\\n",
       "0          good        enough          enough                spring   \n",
       "1          good  insufficient    insufficient  rainwater harvesting   \n",
       "2          good        enough          enough                   dam   \n",
       "3          good           dry             dry           machine dbh   \n",
       "4          good      seasonal        seasonal  rainwater harvesting   \n",
       "\n",
       "            source_type source_class              waterpoint_type  \\\n",
       "0                spring  groundwater           communal standpipe   \n",
       "1  rainwater harvesting      surface           communal standpipe   \n",
       "2                   dam      surface  communal standpipe multiple   \n",
       "3              borehole  groundwater  communal standpipe multiple   \n",
       "4  rainwater harvesting      surface           communal standpipe   \n",
       "\n",
       "  waterpoint_type_group  status_group  \n",
       "0    communal standpipe    functional  \n",
       "1    communal standpipe    functional  \n",
       "2    communal standpipe    functional  \n",
       "3    communal standpipe  needs repair  \n",
       "4    communal standpipe    functional  \n",
       "\n",
       "[5 rows x 41 columns]"
      ]
     },
     "execution_count": 13,
     "metadata": {},
     "output_type": "execute_result"
    }
   ],
   "source": [
    "# Merge the two dataframes using shared 'id' column\n",
    "df = pd.merge(val, labels, how = 'left', on='id')\n",
    "df.head()"
   ]
  },
  {
   "cell_type": "code",
   "execution_count": 14,
   "id": "2ccd48dd-06ef-4c82-8d86-f16c2fcf8fd2",
   "metadata": {},
   "outputs": [
    {
     "data": {
      "text/plain": [
       "(59400, 41)"
      ]
     },
     "execution_count": 14,
     "metadata": {},
     "output_type": "execute_result"
    }
   ],
   "source": [
    "df.shape"
   ]
  },
  {
   "cell_type": "code",
   "execution_count": 15,
   "id": "37be859a-4605-466d-8748-aa6d9b050860",
   "metadata": {},
   "outputs": [
    {
     "data": {
      "text/plain": [
       "id                           0\n",
       "amount_tsh                   0\n",
       "date_recorded                0\n",
       "funder                    3635\n",
       "gps_height                   0\n",
       "installer                 3655\n",
       "longitude                    0\n",
       "latitude                     0\n",
       "wpt_name                     0\n",
       "num_private                  0\n",
       "basin                        0\n",
       "subvillage                 371\n",
       "region                       0\n",
       "region_code                  0\n",
       "district_code                0\n",
       "lga                          0\n",
       "ward                         0\n",
       "population                   0\n",
       "public_meeting            3334\n",
       "recorded_by                  0\n",
       "scheme_management         3877\n",
       "scheme_name              28166\n",
       "permit                    3056\n",
       "construction_year            0\n",
       "extraction_type              0\n",
       "extraction_type_group        0\n",
       "extraction_type_class        0\n",
       "management                   0\n",
       "management_group             0\n",
       "payment                      0\n",
       "payment_type                 0\n",
       "water_quality                0\n",
       "quality_group                0\n",
       "quantity                     0\n",
       "quantity_group               0\n",
       "source                       0\n",
       "source_type                  0\n",
       "source_class                 0\n",
       "waterpoint_type              0\n",
       "waterpoint_type_group        0\n",
       "status_group                 0\n",
       "dtype: int64"
      ]
     },
     "execution_count": 15,
     "metadata": {},
     "output_type": "execute_result"
    }
   ],
   "source": [
    "#Check for nulls\n",
    "df.isna().sum()"
   ]
  },
  {
   "cell_type": "markdown",
   "id": "8235b4cb-6c0a-4722-a3d5-6afb2a0949f4",
   "metadata": {},
   "source": [
    "## Cleaning Categorical Columns:"
   ]
  },
  {
   "cell_type": "markdown",
   "id": "2127208d-95f0-4c1f-b166-5705d087d782",
   "metadata": {},
   "source": [
    "Decide which columns to drop, which that have missing values, and which that we will One Hot Encode after splitting:"
   ]
  },
  {
   "cell_type": "code",
   "execution_count": 16,
   "id": "909abcc6-aede-4e5c-aa69-2ca0e7796288",
   "metadata": {},
   "outputs": [
    {
     "data": {
      "text/plain": [
       "['date_recorded',\n",
       " 'funder',\n",
       " 'installer',\n",
       " 'wpt_name',\n",
       " 'basin',\n",
       " 'subvillage',\n",
       " 'region',\n",
       " 'lga',\n",
       " 'ward',\n",
       " 'public_meeting',\n",
       " 'recorded_by',\n",
       " 'scheme_management',\n",
       " 'scheme_name',\n",
       " 'permit',\n",
       " 'extraction_type',\n",
       " 'extraction_type_group',\n",
       " 'extraction_type_class',\n",
       " 'management',\n",
       " 'management_group',\n",
       " 'payment',\n",
       " 'payment_type',\n",
       " 'water_quality',\n",
       " 'quality_group',\n",
       " 'quantity',\n",
       " 'quantity_group',\n",
       " 'source',\n",
       " 'source_type',\n",
       " 'source_class',\n",
       " 'waterpoint_type',\n",
       " 'waterpoint_type_group',\n",
       " 'status_group']"
      ]
     },
     "execution_count": 16,
     "metadata": {},
     "output_type": "execute_result"
    }
   ],
   "source": [
    "#Look further at categorical columns\n",
    "#compare columns that seem to have overlap and decide which to keep/which to get rid of (ensuring no multicolinearity)\n",
    "categorical = [var for var in df.columns if df[var].dtype=='O']\n",
    "categorical"
   ]
  },
  {
   "cell_type": "code",
   "execution_count": 17,
   "id": "77a7c2cd-1b6f-4ae4-8dd9-0114e4414c63",
   "metadata": {},
   "outputs": [
    {
     "data": {
      "text/plain": [
       "GeoData Consultants Ltd    59400\n",
       "Name: recorded_by, dtype: int64"
      ]
     },
     "execution_count": 17,
     "metadata": {},
     "output_type": "execute_result"
    }
   ],
   "source": [
    "#same value for every record, will drop\n",
    "df['recorded_by'].value_counts()"
   ]
  },
  {
   "cell_type": "code",
   "execution_count": 18,
   "id": "c09bea78-f007-41fe-99bf-185157ac4c70",
   "metadata": {},
   "outputs": [
    {
     "data": {
      "text/plain": [
       "Lake Victoria              10248\n",
       "Pangani                     8940\n",
       "Rufiji                      7976\n",
       "Internal                    7785\n",
       "Lake Tanganyika             6432\n",
       "Wami / Ruvu                 5987\n",
       "Lake Nyasa                  5085\n",
       "Ruvuma / Southern Coast     4493\n",
       "Lake Rukwa                  2454\n",
       "Name: basin, dtype: int64"
      ]
     },
     "execution_count": 18,
     "metadata": {},
     "output_type": "execute_result"
    }
   ],
   "source": [
    "#basin and region will probably overlap..\n",
    "df['basin'].value_counts()"
   ]
  },
  {
   "cell_type": "code",
   "execution_count": 19,
   "id": "ccd59b4c-00d1-4943-9b6e-f7e5e58bd50d",
   "metadata": {},
   "outputs": [
    {
     "data": {
      "text/plain": [
       "management_group  management      \n",
       "user-group        vwc                 40507\n",
       "                  wug                  6515\n",
       "                  water board          2933\n",
       "                  wua                  2535\n",
       "commercial        private operator     1971\n",
       "parastatal        parastatal           1768\n",
       "commercial        water authority       904\n",
       "other             other                 844\n",
       "commercial        company               685\n",
       "unknown           unknown               561\n",
       "other             other - school         99\n",
       "commercial        trust                  78\n",
       "dtype: int64"
      ]
     },
     "execution_count": 19,
     "metadata": {},
     "output_type": "execute_result"
    }
   ],
   "source": [
    "#management group is slightly broader categories of the management column, I'll keep management_group\n",
    "df[['management_group', 'management']].value_counts()"
   ]
  },
  {
   "cell_type": "code",
   "execution_count": 20,
   "id": "5d831eb5-a235-4eb9-9293-598f2464d5eb",
   "metadata": {},
   "outputs": [
    {
     "data": {
      "text/plain": [
       "waterpoint_type_group  waterpoint_type            \n",
       "communal standpipe     communal standpipe             28522\n",
       "hand pump              hand pump                      17488\n",
       "other                  other                           6380\n",
       "communal standpipe     communal standpipe multiple     6103\n",
       "improved spring        improved spring                  784\n",
       "cattle trough          cattle trough                    116\n",
       "dam                    dam                                7\n",
       "dtype: int64"
      ]
     },
     "execution_count": 20,
     "metadata": {},
     "output_type": "execute_result"
    }
   ],
   "source": [
    "#waterpoint_type_group and waterpoint_type columns contain the same information:\n",
    "df[['waterpoint_type_group', 'waterpoint_type']].value_counts()"
   ]
  },
  {
   "cell_type": "code",
   "execution_count": 21,
   "id": "9f0b211f-e81d-4a4c-b740-d575b22c3806",
   "metadata": {},
   "outputs": [
    {
     "data": {
      "text/plain": [
       "VWC                 36793\n",
       "WUG                  5206\n",
       "Water authority      3153\n",
       "WUA                  2883\n",
       "Water Board          2748\n",
       "Parastatal           1680\n",
       "Private operator     1063\n",
       "Company              1061\n",
       "Other                 766\n",
       "SWC                    97\n",
       "Trust                  72\n",
       "None                    1\n",
       "Name: scheme_management, dtype: int64"
      ]
     },
     "execution_count": 21,
     "metadata": {},
     "output_type": "execute_result"
    }
   ],
   "source": [
    "df['scheme_management'].value_counts()"
   ]
  },
  {
   "cell_type": "code",
   "execution_count": 22,
   "id": "14b0faa5-5b42-4866-ad6e-181eecb0cacf",
   "metadata": {},
   "outputs": [
    {
     "data": {
      "text/plain": [
       "K                         682\n",
       "None                      644\n",
       "Borehole                  546\n",
       "Chalinze wate             405\n",
       "M                         400\n",
       "                         ... \n",
       "Njinjo water supply         1\n",
       "UNICRF                      1\n",
       "Lion's                      1\n",
       "Mkabenga spring source      1\n",
       "Misambo mlimani             1\n",
       "Name: scheme_name, Length: 2696, dtype: int64"
      ]
     },
     "execution_count": 22,
     "metadata": {},
     "output_type": "execute_result"
    }
   ],
   "source": [
    "#reminder scheme_name has over half null values- will drop this column\n",
    "df['scheme_name'].value_counts()"
   ]
  },
  {
   "cell_type": "code",
   "execution_count": 23,
   "id": "646741b5-4047-462e-8679-79bde0daf5de",
   "metadata": {},
   "outputs": [
    {
     "data": {
      "text/plain": [
       "extraction_type_class  extraction_type_group  extraction_type          \n",
       "gravity                gravity                gravity                      26780\n",
       "handpump               nira/tanira            nira/tanira                   8154\n",
       "other                  other                  other                         6430\n",
       "submersible            submersible            submersible                   4764\n",
       "handpump               swn 80                 swn 80                        3670\n",
       "motorpump              mono                   mono                          2865\n",
       "handpump               india mark ii          india mark ii                 2400\n",
       "                       afridev                afridev                       1770\n",
       "submersible            submersible            ksb                           1415\n",
       "rope pump              rope pump              other - rope pump              451\n",
       "handpump               other handpump         other - swn 81                 229\n",
       "wind-powered           wind-powered           windmill                       117\n",
       "handpump               india mark iii         india mark iii                  98\n",
       "motorpump              other motorpump        cemo                            90\n",
       "handpump               other handpump         other - play pump               85\n",
       "                                              walimi                          48\n",
       "motorpump              other motorpump        climax                          32\n",
       "handpump               other handpump         other - mkulima/shinyanga        2\n",
       "dtype: int64"
      ]
     },
     "execution_count": 23,
     "metadata": {},
     "output_type": "execute_result"
    }
   ],
   "source": [
    "#extraction columns are very similar, going to keep extraction_type_class as it is cleaner/concise (all \"other..\" are in one \"other\" column. \n",
    "df[['extraction_type_class', 'extraction_type_group' , 'extraction_type']].value_counts()"
   ]
  },
  {
   "cell_type": "code",
   "execution_count": 24,
   "id": "2d8d4c14-a6a9-46f1-909d-9f5bb6ef2a89",
   "metadata": {},
   "outputs": [
    {
     "data": {
      "text/plain": [
       "payment_type  payment              \n",
       "never pay     never pay                25348\n",
       "per bucket    pay per bucket            8985\n",
       "monthly       pay monthly               8300\n",
       "unknown       unknown                   8157\n",
       "on failure    pay when scheme fails     3914\n",
       "annually      pay annually              3642\n",
       "other         other                     1054\n",
       "dtype: int64"
      ]
     },
     "execution_count": 24,
     "metadata": {},
     "output_type": "execute_result"
    }
   ],
   "source": [
    "#these have the same info just slightly different labels\n",
    "df[['payment_type', 'payment']].value_counts()"
   ]
  },
  {
   "cell_type": "code",
   "execution_count": 25,
   "id": "642ce376-7040-40ae-a6d4-bd2bb71846e5",
   "metadata": {},
   "outputs": [
    {
     "data": {
      "text/plain": [
       "water_quality       quality_group\n",
       "soft                good             50818\n",
       "salty               salty             4856\n",
       "unknown             unknown           1876\n",
       "milky               milky              804\n",
       "coloured            colored            490\n",
       "salty abandoned     salty              339\n",
       "fluoride            fluoride           200\n",
       "fluoride abandoned  fluoride            17\n",
       "dtype: int64"
      ]
     },
     "execution_count": 25,
     "metadata": {},
     "output_type": "execute_result"
    }
   ],
   "source": [
    "#quality_group almost the same as water_quality, for both, over 85% of the values are the same , these offer litle information gain\n",
    "#and have significant LACK of variance\n",
    "#will drop for now\n",
    "df[['water_quality', 'quality_group']].value_counts()"
   ]
  },
  {
   "cell_type": "code",
   "execution_count": 26,
   "id": "267a85c9-7459-43cd-8ff9-7ea1c7ce370e",
   "metadata": {},
   "outputs": [
    {
     "data": {
      "text/plain": [
       "quantity_group  quantity    \n",
       "enough          enough          33186\n",
       "insufficient    insufficient    15129\n",
       "dry             dry              6246\n",
       "seasonal        seasonal         4050\n",
       "unknown         unknown           789\n",
       "dtype: int64"
      ]
     },
     "execution_count": 26,
     "metadata": {},
     "output_type": "execute_result"
    }
   ],
   "source": [
    "#quantity_group and quantity are duplicates\n",
    "df[['quantity_group', 'quantity']].value_counts()"
   ]
  },
  {
   "cell_type": "code",
   "execution_count": 27,
   "id": "0f1877d3-1bab-41ae-b1ba-28a7cf14ac0b",
   "metadata": {},
   "outputs": [
    {
     "data": {
      "text/plain": [
       "groundwater    45794\n",
       "surface        13328\n",
       "unknown          278\n",
       "Name: source_class, dtype: int64"
      ]
     },
     "execution_count": 27,
     "metadata": {},
     "output_type": "execute_result"
    }
   ],
   "source": [
    "df['source_class'].value_counts()"
   ]
  },
  {
   "cell_type": "code",
   "execution_count": 28,
   "id": "97ec1cc2-4488-468b-b7f1-00a15da0158e",
   "metadata": {},
   "outputs": [
    {
     "data": {
      "text/plain": [
       "spring                  17021\n",
       "shallow well            16824\n",
       "machine dbh             11075\n",
       "river                    9612\n",
       "rainwater harvesting     2295\n",
       "hand dtw                  874\n",
       "lake                      765\n",
       "dam                       656\n",
       "other                     212\n",
       "unknown                    66\n",
       "Name: source, dtype: int64"
      ]
     },
     "execution_count": 28,
     "metadata": {},
     "output_type": "execute_result"
    }
   ],
   "source": [
    "df['source'].value_counts()"
   ]
  },
  {
   "cell_type": "code",
   "execution_count": 29,
   "id": "1fea3cc1-1f2f-4cb9-b8cf-028886a54395",
   "metadata": {},
   "outputs": [
    {
     "data": {
      "text/plain": [
       "spring                  17021\n",
       "shallow well            16824\n",
       "borehole                11949\n",
       "river/lake              10377\n",
       "rainwater harvesting     2295\n",
       "dam                       656\n",
       "other                     278\n",
       "Name: source_type, dtype: int64"
      ]
     },
     "execution_count": 29,
     "metadata": {},
     "output_type": "execute_result"
    }
   ],
   "source": [
    "#going to keep source_type where the distribution is more balanced.\n",
    "df['source_type'].value_counts()"
   ]
  },
  {
   "cell_type": "code",
   "execution_count": 30,
   "id": "3c9d1ea2-3105-4abf-8509-a42e68491913",
   "metadata": {},
   "outputs": [
    {
     "data": {
      "text/plain": [
       "True     51011\n",
       "False     5055\n",
       "Name: public_meeting, dtype: int64"
      ]
     },
     "execution_count": 30,
     "metadata": {},
     "output_type": "execute_result"
    }
   ],
   "source": [
    "#will One Hot Encode\n",
    "df['public_meeting'].value_counts()"
   ]
  },
  {
   "cell_type": "code",
   "execution_count": 31,
   "id": "68e74a47-fa4c-47e8-929d-4aed507cb7cd",
   "metadata": {},
   "outputs": [
    {
     "data": {
      "text/plain": [
       "0.05612794612794613"
      ]
     },
     "execution_count": 31,
     "metadata": {},
     "output_type": "execute_result"
    }
   ],
   "source": [
    "#percent missing of public_meeting column:\n",
    "pub_meet_null = (df['public_meeting'].isnull().sum() / len(df['public_meeting']))\n",
    "pub_meet_null"
   ]
  },
  {
   "cell_type": "code",
   "execution_count": 32,
   "id": "4e4f54e7-8b62-4933-94b8-2fdbb7f4cce2",
   "metadata": {},
   "outputs": [
    {
     "data": {
      "text/plain": [
       "True     38852\n",
       "False    17492\n",
       "Name: permit, dtype: int64"
      ]
     },
     "execution_count": 32,
     "metadata": {},
     "output_type": "execute_result"
    }
   ],
   "source": [
    "#will One Hot Encode\n",
    "df['permit'].value_counts()"
   ]
  },
  {
   "cell_type": "code",
   "execution_count": 33,
   "id": "78c5d78e-a58b-4ecb-8f7a-31955ed12fb1",
   "metadata": {},
   "outputs": [
    {
     "data": {
      "text/plain": [
       "0.05144781144781145"
      ]
     },
     "execution_count": 33,
     "metadata": {},
     "output_type": "execute_result"
    }
   ],
   "source": [
    "#percent missing of permit column:\n",
    "perm_null = (df['permit'].isnull().sum() / len(df['permit']))\n",
    "perm_null"
   ]
  },
  {
   "cell_type": "code",
   "execution_count": 34,
   "id": "5e18f27a-a577-48da-87ce-a4e2697b9fde",
   "metadata": {},
   "outputs": [
    {
     "data": {
      "text/plain": [
       "none                    3563\n",
       "Shuleni                 1748\n",
       "Zahanati                 830\n",
       "Msikitini                535\n",
       "Kanisani                 323\n",
       "                        ... \n",
       "Gati La Ngumo              1\n",
       "Shule Ya Msingi Lutu       1\n",
       "Ichambali                  1\n",
       "Kwa Fenta                  1\n",
       "Kwa Bagamba                1\n",
       "Name: wpt_name, Length: 37400, dtype: int64"
      ]
     },
     "execution_count": 34,
     "metadata": {},
     "output_type": "execute_result"
    }
   ],
   "source": [
    "#will drop, just name for waterpoint\n",
    "df['wpt_name'].value_counts()"
   ]
  },
  {
   "cell_type": "code",
   "execution_count": 35,
   "id": "9fd72586-b5a7-42d1-97b8-6ada0264079f",
   "metadata": {},
   "outputs": [
    {
     "data": {
      "text/plain": [
       "DWE                      17402\n",
       "Government                1825\n",
       "RWE                       1206\n",
       "Commu                     1060\n",
       "DANIDA                    1050\n",
       "                         ...  \n",
       "Altai Co. ltd                1\n",
       "Institutional                1\n",
       "Shule ya msingi ufala        1\n",
       "Wizara  ya maji              1\n",
       "Ester Ndege                  1\n",
       "Name: installer, Length: 2145, dtype: int64"
      ]
     },
     "execution_count": 35,
     "metadata": {},
     "output_type": "execute_result"
    }
   ],
   "source": [
    "#both installer and funder have very high cardinality..:\n",
    "df['installer'].value_counts()"
   ]
  },
  {
   "cell_type": "code",
   "execution_count": 36,
   "id": "7b4f3687-aa71-4f5e-abaf-50ae3a002cc0",
   "metadata": {},
   "outputs": [
    {
     "data": {
      "text/plain": [
       "Government Of Tanzania    9084\n",
       "Danida                    3114\n",
       "Hesawa                    2202\n",
       "Rwssp                     1374\n",
       "World Bank                1349\n",
       "                          ... \n",
       "Csf                          1\n",
       "Lungwe                       1\n",
       "Steven Nyangarika            1\n",
       "Mbuzi Mawe                   1\n",
       "Ester Ndege                  1\n",
       "Name: funder, Length: 1897, dtype: int64"
      ]
     },
     "execution_count": 36,
     "metadata": {},
     "output_type": "execute_result"
    }
   ],
   "source": [
    "df['funder'].value_counts()"
   ]
  },
  {
   "cell_type": "code",
   "execution_count": 37,
   "id": "017bbf15-d346-430d-b847-36d463e2323e",
   "metadata": {},
   "outputs": [
    {
     "name": "stdout",
     "output_type": "stream",
     "text": [
      "Chi-squared test between 'basin' and 'status_group': chi2 = 1579.7734, p-value = 0.0000000000\n",
      "Chi-squared test between 'region' and 'status_group': chi2 = 2967.8915, p-value = 0.0000000000\n"
     ]
    }
   ],
   "source": [
    "#use chi2 test to see if basin or region has stronger statistical relationship: will keep region, drop basin\n",
    "from scipy.stats import chi2_contingency\n",
    "\n",
    "#test relationship between 'basin' and 'status_group'\n",
    "contingency_table_basin = pd.crosstab(df['basin'], df['status_group'])\n",
    "chi2_basin, p_value_basin, _, _ = chi2_contingency(contingency_table_basin)\n",
    "print(f\"Chi-squared test between 'basin' and 'status_group': chi2 = {chi2_basin:.4f}, p-value = {p_value_basin:.10f}\")\n",
    "\n",
    "#test relationship between 'region' and 'status_group'\n",
    "contingency_table_region = pd.crosstab(df['region'], df['status_group'])\n",
    "chi2_region, p_value_region, _, _ = chi2_contingency(contingency_table_region)\n",
    "print(f\"Chi-squared test between 'region' and 'status_group': chi2 = {chi2_region:.4f}, p-value = {p_value_region:.10f}\")"
   ]
  },
  {
   "cell_type": "markdown",
   "id": "4fc19e92-5c87-40b5-810b-62a762cf3626",
   "metadata": {},
   "source": [
    "## Dropping Categorical Columns:"
   ]
  },
  {
   "cell_type": "markdown",
   "id": "9a9fcd6a-6189-473b-82a9-31e7527f5df4",
   "metadata": {},
   "source": [
    "As you can see, many categorical column pairs have duplicate and/or very similar information. The following are the categorical columns that I will drop as well as the reason to drop:\\\n",
    "**recorded_by**: This is the same string for every entry\\\n",
    "**management**: I will keep management_group which contains slightly broader categories of management\\\n",
    "**waterpoint_type**: redundant with waterpoint_type_group\\\n",
    "**payment**: redundant with payment_type\\\n",
    "**extraction_type** & **extraction_type_group**: keeping extraction_type_class so these are not necessary\\\n",
    "**date_recorded**: I'm keeping construction_year so this is not necessary\\\n",
    "**source_class** & **source**: dropping these as I'll be keeping source_type\\\n",
    "**quantity_group**: redundant with quantity\\\n",
    "**quality_group** & **water_quality**: both have 85% of the values that are the same, lack of variance \\\n",
    "**wpt_name**: just a name for the waterpoint, won't help with modeling\\\n",
    "**subvillage**, **lga**, **ward**: can all be represented by region column\\\n",
    "**scheme_name**: contains too many unique values and too many nulls, keeping scheme_management\\\n",
    "**funder** & **installer**: both have very very high cardinality\\\n",
    "**basin**: too similar to region"
   ]
  },
  {
   "cell_type": "code",
   "execution_count": 38,
   "id": "c0cd0170-9aed-4249-b424-e12136eedcd3",
   "metadata": {},
   "outputs": [],
   "source": [
    "df_cleaned = df.drop(['recorded_by', 'management', 'waterpoint_type', 'payment', 'extraction_type', 'extraction_type_group', \n",
    "        'date_recorded', 'source_class', 'source', 'quantity_group', 'quality_group', 'water_quality', 'wpt_name', 'subvillage', 'lga', 'ward',\n",
    "         'scheme_name', 'funder', 'installer', 'basin'], axis=1)"
   ]
  },
  {
   "cell_type": "code",
   "execution_count": 39,
   "id": "8bc43e54-2251-43cc-a7ad-134f91477cb6",
   "metadata": {},
   "outputs": [
    {
     "name": "stdout",
     "output_type": "stream",
     "text": [
      "Percentage of null values per column:\n",
      "                         column_name  percent_missing\n",
      "scheme_management  scheme_management         6.526936\n",
      "public_meeting        public_meeting         5.612795\n",
      "permit                        permit         5.144781\n"
     ]
    }
   ],
   "source": [
    "#check what's left that has missing values:\n",
    "percent_missing = (df_cleaned.isnull().sum() / len(df_cleaned)) * 100\n",
    "\n",
    "#only show columns with nulls\n",
    "missing_value_df = pd.DataFrame({'column_name': df_cleaned.columns,\n",
    "                                 'percent_missing': percent_missing})\n",
    "missing_value_df = missing_value_df[missing_value_df['percent_missing'] > 0]\n",
    "\n",
    "#print result\n",
    "print(\"Percentage of null values per column:\")\n",
    "print(missing_value_df.sort_values('percent_missing', ascending=False))"
   ]
  },
  {
   "cell_type": "code",
   "execution_count": 40,
   "id": "a38dc5f6-c2e5-4232-b7a2-7d53bc6e8390",
   "metadata": {},
   "outputs": [],
   "source": [
    "#drop rows where permit, public_meeting, and scheme_management have missing values:\n",
    "df_cleaned1 = df_cleaned.dropna(subset=['permit', 'public_meeting', 'scheme_management'])"
   ]
  },
  {
   "cell_type": "code",
   "execution_count": 41,
   "id": "4733fde7-7c1b-45b7-b11c-2cb8944988ec",
   "metadata": {},
   "outputs": [
    {
     "data": {
      "text/plain": [
       "(49841, 21)"
      ]
     },
     "execution_count": 41,
     "metadata": {},
     "output_type": "execute_result"
    }
   ],
   "source": [
    "df_cleaned1.shape"
   ]
  },
  {
   "cell_type": "code",
   "execution_count": 42,
   "id": "b7d5c226-bfd3-4181-b17f-2a62aa3345ad",
   "metadata": {},
   "outputs": [
    {
     "data": {
      "text/html": [
       "<div>\n",
       "<style scoped>\n",
       "    .dataframe tbody tr th:only-of-type {\n",
       "        vertical-align: middle;\n",
       "    }\n",
       "\n",
       "    .dataframe tbody tr th {\n",
       "        vertical-align: top;\n",
       "    }\n",
       "\n",
       "    .dataframe thead th {\n",
       "        text-align: right;\n",
       "    }\n",
       "</style>\n",
       "<table border=\"1\" class=\"dataframe\">\n",
       "  <thead>\n",
       "    <tr style=\"text-align: right;\">\n",
       "      <th></th>\n",
       "      <th>id</th>\n",
       "      <th>amount_tsh</th>\n",
       "      <th>gps_height</th>\n",
       "      <th>longitude</th>\n",
       "      <th>latitude</th>\n",
       "      <th>num_private</th>\n",
       "      <th>region</th>\n",
       "      <th>region_code</th>\n",
       "      <th>district_code</th>\n",
       "      <th>population</th>\n",
       "      <th>...</th>\n",
       "      <th>scheme_management</th>\n",
       "      <th>permit</th>\n",
       "      <th>construction_year</th>\n",
       "      <th>extraction_type_class</th>\n",
       "      <th>management_group</th>\n",
       "      <th>payment_type</th>\n",
       "      <th>quantity</th>\n",
       "      <th>source_type</th>\n",
       "      <th>waterpoint_type_group</th>\n",
       "      <th>status_group</th>\n",
       "    </tr>\n",
       "  </thead>\n",
       "  <tbody>\n",
       "    <tr>\n",
       "      <th>0</th>\n",
       "      <td>69572</td>\n",
       "      <td>6000.0</td>\n",
       "      <td>1390</td>\n",
       "      <td>34.938093</td>\n",
       "      <td>-9.856322</td>\n",
       "      <td>0</td>\n",
       "      <td>Iringa</td>\n",
       "      <td>11</td>\n",
       "      <td>5</td>\n",
       "      <td>109</td>\n",
       "      <td>...</td>\n",
       "      <td>VWC</td>\n",
       "      <td>False</td>\n",
       "      <td>1999</td>\n",
       "      <td>gravity</td>\n",
       "      <td>user-group</td>\n",
       "      <td>annually</td>\n",
       "      <td>enough</td>\n",
       "      <td>spring</td>\n",
       "      <td>communal standpipe</td>\n",
       "      <td>functional</td>\n",
       "    </tr>\n",
       "    <tr>\n",
       "      <th>2</th>\n",
       "      <td>34310</td>\n",
       "      <td>25.0</td>\n",
       "      <td>686</td>\n",
       "      <td>37.460664</td>\n",
       "      <td>-3.821329</td>\n",
       "      <td>0</td>\n",
       "      <td>Manyara</td>\n",
       "      <td>21</td>\n",
       "      <td>4</td>\n",
       "      <td>250</td>\n",
       "      <td>...</td>\n",
       "      <td>VWC</td>\n",
       "      <td>True</td>\n",
       "      <td>2009</td>\n",
       "      <td>gravity</td>\n",
       "      <td>user-group</td>\n",
       "      <td>per bucket</td>\n",
       "      <td>enough</td>\n",
       "      <td>dam</td>\n",
       "      <td>communal standpipe</td>\n",
       "      <td>functional</td>\n",
       "    </tr>\n",
       "    <tr>\n",
       "      <th>3</th>\n",
       "      <td>67743</td>\n",
       "      <td>0.0</td>\n",
       "      <td>263</td>\n",
       "      <td>38.486161</td>\n",
       "      <td>-11.155298</td>\n",
       "      <td>0</td>\n",
       "      <td>Mtwara</td>\n",
       "      <td>90</td>\n",
       "      <td>63</td>\n",
       "      <td>58</td>\n",
       "      <td>...</td>\n",
       "      <td>VWC</td>\n",
       "      <td>True</td>\n",
       "      <td>1986</td>\n",
       "      <td>submersible</td>\n",
       "      <td>user-group</td>\n",
       "      <td>never pay</td>\n",
       "      <td>dry</td>\n",
       "      <td>borehole</td>\n",
       "      <td>communal standpipe</td>\n",
       "      <td>needs repair</td>\n",
       "    </tr>\n",
       "    <tr>\n",
       "      <th>5</th>\n",
       "      <td>9944</td>\n",
       "      <td>20.0</td>\n",
       "      <td>0</td>\n",
       "      <td>39.172796</td>\n",
       "      <td>-4.765587</td>\n",
       "      <td>0</td>\n",
       "      <td>Tanga</td>\n",
       "      <td>4</td>\n",
       "      <td>8</td>\n",
       "      <td>1</td>\n",
       "      <td>...</td>\n",
       "      <td>VWC</td>\n",
       "      <td>True</td>\n",
       "      <td>2009</td>\n",
       "      <td>submersible</td>\n",
       "      <td>user-group</td>\n",
       "      <td>per bucket</td>\n",
       "      <td>enough</td>\n",
       "      <td>other</td>\n",
       "      <td>communal standpipe</td>\n",
       "      <td>functional</td>\n",
       "    </tr>\n",
       "    <tr>\n",
       "      <th>6</th>\n",
       "      <td>19816</td>\n",
       "      <td>0.0</td>\n",
       "      <td>0</td>\n",
       "      <td>33.362410</td>\n",
       "      <td>-3.766365</td>\n",
       "      <td>0</td>\n",
       "      <td>Shinyanga</td>\n",
       "      <td>17</td>\n",
       "      <td>3</td>\n",
       "      <td>0</td>\n",
       "      <td>...</td>\n",
       "      <td>VWC</td>\n",
       "      <td>True</td>\n",
       "      <td>0</td>\n",
       "      <td>handpump</td>\n",
       "      <td>user-group</td>\n",
       "      <td>never pay</td>\n",
       "      <td>enough</td>\n",
       "      <td>borehole</td>\n",
       "      <td>hand pump</td>\n",
       "      <td>needs repair</td>\n",
       "    </tr>\n",
       "  </tbody>\n",
       "</table>\n",
       "<p>5 rows × 21 columns</p>\n",
       "</div>"
      ],
      "text/plain": [
       "      id  amount_tsh  gps_height  longitude   latitude  num_private  \\\n",
       "0  69572      6000.0        1390  34.938093  -9.856322            0   \n",
       "2  34310        25.0         686  37.460664  -3.821329            0   \n",
       "3  67743         0.0         263  38.486161 -11.155298            0   \n",
       "5   9944        20.0           0  39.172796  -4.765587            0   \n",
       "6  19816         0.0           0  33.362410  -3.766365            0   \n",
       "\n",
       "      region  region_code  district_code  population  ... scheme_management  \\\n",
       "0     Iringa           11              5         109  ...               VWC   \n",
       "2    Manyara           21              4         250  ...               VWC   \n",
       "3     Mtwara           90             63          58  ...               VWC   \n",
       "5      Tanga            4              8           1  ...               VWC   \n",
       "6  Shinyanga           17              3           0  ...               VWC   \n",
       "\n",
       "  permit construction_year  extraction_type_class management_group  \\\n",
       "0  False              1999                gravity       user-group   \n",
       "2   True              2009                gravity       user-group   \n",
       "3   True              1986            submersible       user-group   \n",
       "5   True              2009            submersible       user-group   \n",
       "6   True                 0               handpump       user-group   \n",
       "\n",
       "  payment_type quantity source_type waterpoint_type_group  status_group  \n",
       "0     annually   enough      spring    communal standpipe    functional  \n",
       "2   per bucket   enough         dam    communal standpipe    functional  \n",
       "3    never pay      dry    borehole    communal standpipe  needs repair  \n",
       "5   per bucket   enough       other    communal standpipe    functional  \n",
       "6    never pay   enough    borehole             hand pump  needs repair  \n",
       "\n",
       "[5 rows x 21 columns]"
      ]
     },
     "execution_count": 42,
     "metadata": {},
     "output_type": "execute_result"
    }
   ],
   "source": [
    "df_cleaned1.head()"
   ]
  },
  {
   "cell_type": "code",
   "execution_count": 43,
   "id": "ad220cba-f6bb-47b3-9d36-a3545e8d9556",
   "metadata": {},
   "outputs": [
    {
     "data": {
      "text/plain": [
       "['region',\n",
       " 'public_meeting',\n",
       " 'scheme_management',\n",
       " 'permit',\n",
       " 'extraction_type_class',\n",
       " 'management_group',\n",
       " 'payment_type',\n",
       " 'quantity',\n",
       " 'source_type',\n",
       " 'waterpoint_type_group',\n",
       " 'status_group']"
      ]
     },
     "execution_count": 43,
     "metadata": {},
     "output_type": "execute_result"
    }
   ],
   "source": [
    "#print categorical columns after dropping some:\n",
    "cat_clean = [var for var in df_cleaned1.columns if df_cleaned1[var].dtype=='O']\n",
    "cat_clean"
   ]
  },
  {
   "cell_type": "code",
   "execution_count": 44,
   "id": "f3eedd4c-b21b-4170-bba2-96a98fbd594b",
   "metadata": {},
   "outputs": [
    {
     "data": {
      "text/plain": [
       "id                       0\n",
       "amount_tsh               0\n",
       "gps_height               0\n",
       "longitude                0\n",
       "latitude                 0\n",
       "num_private              0\n",
       "region                   0\n",
       "region_code              0\n",
       "district_code            0\n",
       "population               0\n",
       "public_meeting           0\n",
       "scheme_management        0\n",
       "permit                   0\n",
       "construction_year        0\n",
       "extraction_type_class    0\n",
       "management_group         0\n",
       "payment_type             0\n",
       "quantity                 0\n",
       "source_type              0\n",
       "waterpoint_type_group    0\n",
       "status_group             0\n",
       "dtype: int64"
      ]
     },
     "execution_count": 44,
     "metadata": {},
     "output_type": "execute_result"
    }
   ],
   "source": [
    "#double check for nulls:\n",
    "df_cleaned1.isna().sum()"
   ]
  },
  {
   "cell_type": "markdown",
   "id": "86eca9c8-aa2a-4ba6-8fdd-6f62d655fd01",
   "metadata": {},
   "source": [
    "### Cleaning Numerical Columns:"
   ]
  },
  {
   "cell_type": "code",
   "execution_count": 45,
   "id": "b8255f78-18c0-49f8-848a-af31460b3c00",
   "metadata": {},
   "outputs": [
    {
     "data": {
      "text/plain": [
       "['id',\n",
       " 'amount_tsh',\n",
       " 'gps_height',\n",
       " 'longitude',\n",
       " 'latitude',\n",
       " 'num_private',\n",
       " 'region_code',\n",
       " 'district_code',\n",
       " 'population',\n",
       " 'construction_year']"
      ]
     },
     "execution_count": 45,
     "metadata": {},
     "output_type": "execute_result"
    }
   ],
   "source": [
    "#print numerical columns\n",
    "numerical = [var for var in df_cleaned1.columns if df_cleaned1[var].dtype!='O']\n",
    "numerical"
   ]
  },
  {
   "cell_type": "code",
   "execution_count": 46,
   "id": "e90a17f3-ac67-47f2-8d13-18c78052d038",
   "metadata": {},
   "outputs": [
    {
     "data": {
      "text/plain": [
       "0"
      ]
     },
     "execution_count": 46,
     "metadata": {},
     "output_type": "execute_result"
    }
   ],
   "source": [
    "#check for duplicate records using the id column, if no duplicates in id column, i will assume each row is its own pump\n",
    "df_cleaned1.duplicated(subset=['id']).sum()"
   ]
  },
  {
   "cell_type": "code",
   "execution_count": 47,
   "id": "3423fd3e-cdb6-4e20-b65f-6d2fc606f6db",
   "metadata": {},
   "outputs": [
    {
     "name": "stdout",
     "output_type": "stream",
     "text": [
      "Numeric Column Summary Statistics:\n",
      "                 id     amount_tsh    gps_height     longitude      latitude  \\\n",
      "count  49841.000000   49841.000000  49841.000000  49841.000000  4.984100e+04   \n",
      "mean   37111.313316     352.215854    680.790253     34.228834 -5.750202e+00   \n",
      "std    21437.495653    2793.448736    698.628110      6.260939  2.867979e+00   \n",
      "min        2.000000       0.000000    -90.000000      0.000000 -1.164944e+01   \n",
      "25%    18545.000000       0.000000      0.000000     33.060320 -8.431873e+00   \n",
      "50%    37032.000000       0.000000    404.000000     35.125791 -5.099327e+00   \n",
      "75%    55641.000000      30.000000   1323.000000     37.314108 -3.342912e+00   \n",
      "max    74247.000000  250000.000000   2770.000000     40.323402 -2.000000e-08   \n",
      "\n",
      "        num_private   region_code  district_code    population  \\\n",
      "count  49841.000000  49841.000000   49841.000000  49841.000000   \n",
      "mean       0.537168     14.751891       5.865231    172.184507   \n",
      "std       13.092193     17.157662       9.901819    466.902049   \n",
      "min        0.000000      1.000000       0.000000      0.000000   \n",
      "25%        0.000000      5.000000       2.000000      0.000000   \n",
      "50%        0.000000     12.000000       3.000000     25.000000   \n",
      "75%        0.000000     17.000000       5.000000    200.000000   \n",
      "max     1776.000000     99.000000      80.000000  30500.000000   \n",
      "\n",
      "       construction_year  \n",
      "count       49841.000000  \n",
      "mean         1302.614956  \n",
      "std           950.938838  \n",
      "min             0.000000  \n",
      "25%             0.000000  \n",
      "50%          1985.000000  \n",
      "75%          2004.000000  \n",
      "max          2013.000000  \n"
     ]
    }
   ],
   "source": [
    "#look at Summary Statistics for Numerical Columns:\n",
    "print(\"Numeric Column Summary Statistics:\")\n",
    "numerical_stats = df_cleaned1.describe()\n",
    "print(numerical_stats)"
   ]
  },
  {
   "cell_type": "code",
   "execution_count": 48,
   "id": "ca16e57a-27b4-476c-8ae9-f98e32f1836a",
   "metadata": {},
   "outputs": [
    {
     "data": {
      "text/plain": [
       "0.0         33667\n",
       "500.0        2790\n",
       "50.0         2042\n",
       "1000.0       1382\n",
       "20.0         1381\n",
       "            ...  \n",
       "5400.0          1\n",
       "200000.0        1\n",
       "900.0           1\n",
       "53.0            1\n",
       "12.0            1\n",
       "Name: amount_tsh, Length: 91, dtype: int64"
      ]
     },
     "execution_count": 48,
     "metadata": {},
     "output_type": "execute_result"
    }
   ],
   "source": [
    "#amount total static head- many records have 0.0 but technically, 0.0 could be accurrate, i.e. if the source is groundwater..\n",
    "df_cleaned1['amount_tsh'].value_counts()"
   ]
  },
  {
   "cell_type": "code",
   "execution_count": 49,
   "id": "db285344-7204-4232-9c10-e2eba7184585",
   "metadata": {},
   "outputs": [
    {
     "data": {
      "text/plain": [
       "0     49119\n",
       "6        73\n",
       "1        68\n",
       "8        46\n",
       "5        44\n",
       "32       40\n",
       "45       36\n",
       "15       35\n",
       "39       30\n",
       "93       28\n",
       "Name: num_private, dtype: int64"
      ]
     },
     "execution_count": 49,
     "metadata": {},
     "output_type": "execute_result"
    }
   ],
   "source": [
    "#Over 98% have value 0, will drop as this won't be helpful for modeling..\n",
    "df_cleaned1['num_private'].value_counts()[:10]"
   ]
  },
  {
   "cell_type": "code",
   "execution_count": 50,
   "id": "eb89e7f4-c01e-4029-916f-ed2f140c9886",
   "metadata": {},
   "outputs": [
    {
     "data": {
      "text/plain": [
       "0.000000     1336\n",
       "33.090347       2\n",
       "32.967009       2\n",
       "38.180538       2\n",
       "37.538602       2\n",
       "             ... \n",
       "35.399587       1\n",
       "33.556570       1\n",
       "35.833951       1\n",
       "39.341224       1\n",
       "35.416063       1\n",
       "Name: longitude, Length: 48459, dtype: int64"
      ]
     },
     "execution_count": 50,
     "metadata": {},
     "output_type": "execute_result"
    }
   ],
   "source": [
    "#many listed as 0..\n",
    "df_cleaned1['longitude'].value_counts()"
   ]
  },
  {
   "cell_type": "code",
   "execution_count": 51,
   "id": "62be4c34-6429-4b9b-87fb-b5b99ad417d8",
   "metadata": {},
   "outputs": [
    {
     "data": {
      "text/plain": [
       "-2.000000e-08    1336\n",
       "-2.480043e+00       2\n",
       "-7.104923e+00       2\n",
       "-2.467137e+00       2\n",
       "-2.491942e+00       2\n",
       "                 ... \n",
       "-3.293825e+00       1\n",
       "-1.223421e+00       1\n",
       "-4.127133e+00       1\n",
       "-1.401503e+00       1\n",
       "-1.101275e+01       1\n",
       "Name: latitude, Length: 48461, dtype: int64"
      ]
     },
     "execution_count": 51,
     "metadata": {},
     "output_type": "execute_result"
    }
   ],
   "source": [
    "#similar to longitude, same 1336 values are listed as very close to 0, suggesting placeholder values for lat and lon\n",
    "df_cleaned1['latitude'].value_counts()"
   ]
  },
  {
   "cell_type": "code",
   "execution_count": 52,
   "id": "d5802531-1451-4cb2-af36-9a8e26cb1e43",
   "metadata": {},
   "outputs": [
    {
     "data": {
      "text/plain": [
       " 0       17148\n",
       "-15         56\n",
       "-13         48\n",
       " 1290       47\n",
       "-20         44\n",
       "         ...  \n",
       " 2332        1\n",
       " 2417        1\n",
       " 616         1\n",
       " 2464        1\n",
       " 2285        1\n",
       "Name: gps_height, Length: 2426, dtype: int64"
      ]
     },
     "execution_count": 52,
     "metadata": {},
     "output_type": "execute_result"
    }
   ],
   "source": [
    "#a large portion are listed as 0, will need to fix!\n",
    "df_cleaned1['gps_height'].value_counts()"
   ]
  },
  {
   "cell_type": "markdown",
   "id": "c343c84e-6042-4bb8-b81c-4ba390dba1cf",
   "metadata": {},
   "source": [
    "### Dropping Numerical Columns"
   ]
  },
  {
   "cell_type": "markdown",
   "id": "208b0096-79a1-41e4-a3ce-dfddc9bcbcbf",
   "metadata": {},
   "source": [
    "The following are the numerical columns I will drop as well as the reason to drop:\\\n",
    "**id**: this is just a unique identifier, will not help with modeling\\\n",
    "**num_private**: over 98% have the value 0\\\n",
    "**region_code** & **district_code**: too similar/redundant with region column\\"
   ]
  },
  {
   "cell_type": "code",
   "execution_count": 53,
   "id": "49b44eb5-7cc3-4ddc-b15f-1659aa46f044",
   "metadata": {},
   "outputs": [],
   "source": [
    "df_cleaned2 = df_cleaned1.drop(['id', 'num_private', 'region_code', 'district_code'], axis=1)"
   ]
  },
  {
   "cell_type": "code",
   "execution_count": 54,
   "id": "de1ea971-8889-4c96-b304-67af786a0767",
   "metadata": {},
   "outputs": [
    {
     "data": {
      "text/html": [
       "<div>\n",
       "<style scoped>\n",
       "    .dataframe tbody tr th:only-of-type {\n",
       "        vertical-align: middle;\n",
       "    }\n",
       "\n",
       "    .dataframe tbody tr th {\n",
       "        vertical-align: top;\n",
       "    }\n",
       "\n",
       "    .dataframe thead th {\n",
       "        text-align: right;\n",
       "    }\n",
       "</style>\n",
       "<table border=\"1\" class=\"dataframe\">\n",
       "  <thead>\n",
       "    <tr style=\"text-align: right;\">\n",
       "      <th></th>\n",
       "      <th>amount_tsh</th>\n",
       "      <th>gps_height</th>\n",
       "      <th>longitude</th>\n",
       "      <th>latitude</th>\n",
       "      <th>region</th>\n",
       "      <th>population</th>\n",
       "      <th>public_meeting</th>\n",
       "      <th>scheme_management</th>\n",
       "      <th>permit</th>\n",
       "      <th>construction_year</th>\n",
       "      <th>extraction_type_class</th>\n",
       "      <th>management_group</th>\n",
       "      <th>payment_type</th>\n",
       "      <th>quantity</th>\n",
       "      <th>source_type</th>\n",
       "      <th>waterpoint_type_group</th>\n",
       "      <th>status_group</th>\n",
       "    </tr>\n",
       "  </thead>\n",
       "  <tbody>\n",
       "    <tr>\n",
       "      <th>0</th>\n",
       "      <td>6000.0</td>\n",
       "      <td>1390</td>\n",
       "      <td>34.938093</td>\n",
       "      <td>-9.856322</td>\n",
       "      <td>Iringa</td>\n",
       "      <td>109</td>\n",
       "      <td>True</td>\n",
       "      <td>VWC</td>\n",
       "      <td>False</td>\n",
       "      <td>1999</td>\n",
       "      <td>gravity</td>\n",
       "      <td>user-group</td>\n",
       "      <td>annually</td>\n",
       "      <td>enough</td>\n",
       "      <td>spring</td>\n",
       "      <td>communal standpipe</td>\n",
       "      <td>functional</td>\n",
       "    </tr>\n",
       "    <tr>\n",
       "      <th>2</th>\n",
       "      <td>25.0</td>\n",
       "      <td>686</td>\n",
       "      <td>37.460664</td>\n",
       "      <td>-3.821329</td>\n",
       "      <td>Manyara</td>\n",
       "      <td>250</td>\n",
       "      <td>True</td>\n",
       "      <td>VWC</td>\n",
       "      <td>True</td>\n",
       "      <td>2009</td>\n",
       "      <td>gravity</td>\n",
       "      <td>user-group</td>\n",
       "      <td>per bucket</td>\n",
       "      <td>enough</td>\n",
       "      <td>dam</td>\n",
       "      <td>communal standpipe</td>\n",
       "      <td>functional</td>\n",
       "    </tr>\n",
       "    <tr>\n",
       "      <th>3</th>\n",
       "      <td>0.0</td>\n",
       "      <td>263</td>\n",
       "      <td>38.486161</td>\n",
       "      <td>-11.155298</td>\n",
       "      <td>Mtwara</td>\n",
       "      <td>58</td>\n",
       "      <td>True</td>\n",
       "      <td>VWC</td>\n",
       "      <td>True</td>\n",
       "      <td>1986</td>\n",
       "      <td>submersible</td>\n",
       "      <td>user-group</td>\n",
       "      <td>never pay</td>\n",
       "      <td>dry</td>\n",
       "      <td>borehole</td>\n",
       "      <td>communal standpipe</td>\n",
       "      <td>needs repair</td>\n",
       "    </tr>\n",
       "    <tr>\n",
       "      <th>5</th>\n",
       "      <td>20.0</td>\n",
       "      <td>0</td>\n",
       "      <td>39.172796</td>\n",
       "      <td>-4.765587</td>\n",
       "      <td>Tanga</td>\n",
       "      <td>1</td>\n",
       "      <td>True</td>\n",
       "      <td>VWC</td>\n",
       "      <td>True</td>\n",
       "      <td>2009</td>\n",
       "      <td>submersible</td>\n",
       "      <td>user-group</td>\n",
       "      <td>per bucket</td>\n",
       "      <td>enough</td>\n",
       "      <td>other</td>\n",
       "      <td>communal standpipe</td>\n",
       "      <td>functional</td>\n",
       "    </tr>\n",
       "    <tr>\n",
       "      <th>6</th>\n",
       "      <td>0.0</td>\n",
       "      <td>0</td>\n",
       "      <td>33.362410</td>\n",
       "      <td>-3.766365</td>\n",
       "      <td>Shinyanga</td>\n",
       "      <td>0</td>\n",
       "      <td>True</td>\n",
       "      <td>VWC</td>\n",
       "      <td>True</td>\n",
       "      <td>0</td>\n",
       "      <td>handpump</td>\n",
       "      <td>user-group</td>\n",
       "      <td>never pay</td>\n",
       "      <td>enough</td>\n",
       "      <td>borehole</td>\n",
       "      <td>hand pump</td>\n",
       "      <td>needs repair</td>\n",
       "    </tr>\n",
       "  </tbody>\n",
       "</table>\n",
       "</div>"
      ],
      "text/plain": [
       "   amount_tsh  gps_height  longitude   latitude     region  population  \\\n",
       "0      6000.0        1390  34.938093  -9.856322     Iringa         109   \n",
       "2        25.0         686  37.460664  -3.821329    Manyara         250   \n",
       "3         0.0         263  38.486161 -11.155298     Mtwara          58   \n",
       "5        20.0           0  39.172796  -4.765587      Tanga           1   \n",
       "6         0.0           0  33.362410  -3.766365  Shinyanga           0   \n",
       "\n",
       "  public_meeting scheme_management permit  construction_year  \\\n",
       "0           True               VWC  False               1999   \n",
       "2           True               VWC   True               2009   \n",
       "3           True               VWC   True               1986   \n",
       "5           True               VWC   True               2009   \n",
       "6           True               VWC   True                  0   \n",
       "\n",
       "  extraction_type_class management_group payment_type quantity source_type  \\\n",
       "0               gravity       user-group     annually   enough      spring   \n",
       "2               gravity       user-group   per bucket   enough         dam   \n",
       "3           submersible       user-group    never pay      dry    borehole   \n",
       "5           submersible       user-group   per bucket   enough       other   \n",
       "6              handpump       user-group    never pay   enough    borehole   \n",
       "\n",
       "  waterpoint_type_group  status_group  \n",
       "0    communal standpipe    functional  \n",
       "2    communal standpipe    functional  \n",
       "3    communal standpipe  needs repair  \n",
       "5    communal standpipe    functional  \n",
       "6             hand pump  needs repair  "
      ]
     },
     "execution_count": 54,
     "metadata": {},
     "output_type": "execute_result"
    }
   ],
   "source": [
    "#Longitude column has 1336 rows with 0.0 and latitude has a matching amount of rows with -2.000000e-08 which is basically zero\n",
    "#I'll assume these are placeholders as the true values are most likely unknown\n",
    "#I will drop these rows as it accounts for less than 3% of our remaining data.\n",
    "df_clean = df_cleaned2[(df_cleaned2['longitude'] != 0.0) | (df_cleaned2['latitude'] != -2.000000e-08)]\n",
    "df_clean.head()"
   ]
  },
  {
   "cell_type": "code",
   "execution_count": 55,
   "id": "ad9f7114-a921-4ec4-aaa9-a8a4703881f8",
   "metadata": {},
   "outputs": [
    {
     "data": {
      "text/plain": [
       "(48505, 17)"
      ]
     },
     "execution_count": 55,
     "metadata": {},
     "output_type": "execute_result"
    }
   ],
   "source": [
    "df_clean.shape"
   ]
  },
  {
   "cell_type": "code",
   "execution_count": 56,
   "id": "fbb38819-33d8-4186-a3df-870bb1d33ebf",
   "metadata": {},
   "outputs": [
    {
     "data": {
      "text/plain": [
       "Index(['amount_tsh', 'gps_height', 'longitude', 'latitude', 'region',\n",
       "       'population', 'public_meeting', 'scheme_management', 'permit',\n",
       "       'construction_year', 'extraction_type_class', 'management_group',\n",
       "       'payment_type', 'quantity', 'source_type', 'waterpoint_type_group',\n",
       "       'status_group'],\n",
       "      dtype='object')"
      ]
     },
     "execution_count": 56,
     "metadata": {},
     "output_type": "execute_result"
    }
   ],
   "source": [
    "df_clean.columns"
   ]
  },
  {
   "cell_type": "code",
   "execution_count": 57,
   "id": "ff54700d-e0f5-4808-8af0-6c734c16ccc9",
   "metadata": {},
   "outputs": [
    {
     "data": {
      "text/plain": [
       "0       15990\n",
       "2008     2431\n",
       "2009     2306\n",
       "2010     2012\n",
       "2007     1425\n",
       "2006     1329\n",
       "2000     1253\n",
       "2003     1191\n",
       "2011     1032\n",
       "1978      999\n",
       "2004      989\n",
       "2002      955\n",
       "2005      881\n",
       "1999      881\n",
       "2012      836\n",
       "1998      790\n",
       "1995      783\n",
       "1985      767\n",
       "1984      711\n",
       "1982      695\n",
       "Name: construction_year, dtype: int64"
      ]
     },
     "execution_count": 57,
     "metadata": {},
     "output_type": "execute_result"
    }
   ],
   "source": [
    "#will need to fix years listed as 0:\n",
    "df_clean['construction_year'].value_counts()[:20]"
   ]
  },
  {
   "cell_type": "code",
   "execution_count": 58,
   "id": "3cb1f7e4-f065-4003-8bf2-a2b796753994",
   "metadata": {},
   "outputs": [
    {
     "data": {
      "text/plain": [
       "0      16752\n",
       "1       5763\n",
       "150     1690\n",
       "200     1503\n",
       "250     1279\n",
       "300     1100\n",
       "50      1020\n",
       "100      918\n",
       "120      812\n",
       "350      798\n",
       "500      794\n",
       "400      566\n",
       "30       560\n",
       "60       543\n",
       "40       526\n",
       "80       462\n",
       "20       428\n",
       "450      390\n",
       "230      324\n",
       "600      308\n",
       "Name: population, dtype: int64"
      ]
     },
     "execution_count": 58,
     "metadata": {},
     "output_type": "execute_result"
    }
   ],
   "source": [
    "df_clean['population'].value_counts()[:20]"
   ]
  },
  {
   "cell_type": "code",
   "execution_count": 59,
   "id": "61520397-32cc-4e8b-8af7-4e4c3bab837c",
   "metadata": {},
   "outputs": [
    {
     "data": {
      "text/plain": [
       "['amount_tsh',\n",
       " 'gps_height',\n",
       " 'longitude',\n",
       " 'latitude',\n",
       " 'population',\n",
       " 'construction_year']"
      ]
     },
     "execution_count": 59,
     "metadata": {},
     "output_type": "execute_result"
    }
   ],
   "source": [
    "#look at numerical columns after dropping some:\n",
    "num_clean = [var for var in df_clean.columns if df_clean[var].dtype!='O']\n",
    "num_clean"
   ]
  },
  {
   "cell_type": "markdown",
   "id": "e22b50b6-edbf-4a94-979a-da4ac1f2a33e",
   "metadata": {},
   "source": [
    "## Modeling"
   ]
  },
  {
   "cell_type": "code",
   "execution_count": 60,
   "id": "d009e9ad-d60d-4d01-b11b-6c8aed619353",
   "metadata": {},
   "outputs": [
    {
     "data": {
      "text/html": [
       "<div>\n",
       "<style scoped>\n",
       "    .dataframe tbody tr th:only-of-type {\n",
       "        vertical-align: middle;\n",
       "    }\n",
       "\n",
       "    .dataframe tbody tr th {\n",
       "        vertical-align: top;\n",
       "    }\n",
       "\n",
       "    .dataframe thead th {\n",
       "        text-align: right;\n",
       "    }\n",
       "</style>\n",
       "<table border=\"1\" class=\"dataframe\">\n",
       "  <thead>\n",
       "    <tr style=\"text-align: right;\">\n",
       "      <th></th>\n",
       "      <th>amount_tsh</th>\n",
       "      <th>gps_height</th>\n",
       "      <th>longitude</th>\n",
       "      <th>latitude</th>\n",
       "      <th>region</th>\n",
       "      <th>population</th>\n",
       "      <th>public_meeting</th>\n",
       "      <th>scheme_management</th>\n",
       "      <th>permit</th>\n",
       "      <th>construction_year</th>\n",
       "      <th>extraction_type_class</th>\n",
       "      <th>management_group</th>\n",
       "      <th>payment_type</th>\n",
       "      <th>quantity</th>\n",
       "      <th>source_type</th>\n",
       "      <th>waterpoint_type_group</th>\n",
       "      <th>status_group</th>\n",
       "    </tr>\n",
       "  </thead>\n",
       "  <tbody>\n",
       "    <tr>\n",
       "      <th>0</th>\n",
       "      <td>6000.0</td>\n",
       "      <td>1390</td>\n",
       "      <td>34.938093</td>\n",
       "      <td>-9.856322</td>\n",
       "      <td>Iringa</td>\n",
       "      <td>109</td>\n",
       "      <td>True</td>\n",
       "      <td>VWC</td>\n",
       "      <td>False</td>\n",
       "      <td>1999</td>\n",
       "      <td>gravity</td>\n",
       "      <td>user-group</td>\n",
       "      <td>annually</td>\n",
       "      <td>enough</td>\n",
       "      <td>spring</td>\n",
       "      <td>communal standpipe</td>\n",
       "      <td>functional</td>\n",
       "    </tr>\n",
       "    <tr>\n",
       "      <th>2</th>\n",
       "      <td>25.0</td>\n",
       "      <td>686</td>\n",
       "      <td>37.460664</td>\n",
       "      <td>-3.821329</td>\n",
       "      <td>Manyara</td>\n",
       "      <td>250</td>\n",
       "      <td>True</td>\n",
       "      <td>VWC</td>\n",
       "      <td>True</td>\n",
       "      <td>2009</td>\n",
       "      <td>gravity</td>\n",
       "      <td>user-group</td>\n",
       "      <td>per bucket</td>\n",
       "      <td>enough</td>\n",
       "      <td>dam</td>\n",
       "      <td>communal standpipe</td>\n",
       "      <td>functional</td>\n",
       "    </tr>\n",
       "    <tr>\n",
       "      <th>3</th>\n",
       "      <td>0.0</td>\n",
       "      <td>263</td>\n",
       "      <td>38.486161</td>\n",
       "      <td>-11.155298</td>\n",
       "      <td>Mtwara</td>\n",
       "      <td>58</td>\n",
       "      <td>True</td>\n",
       "      <td>VWC</td>\n",
       "      <td>True</td>\n",
       "      <td>1986</td>\n",
       "      <td>submersible</td>\n",
       "      <td>user-group</td>\n",
       "      <td>never pay</td>\n",
       "      <td>dry</td>\n",
       "      <td>borehole</td>\n",
       "      <td>communal standpipe</td>\n",
       "      <td>needs repair</td>\n",
       "    </tr>\n",
       "    <tr>\n",
       "      <th>5</th>\n",
       "      <td>20.0</td>\n",
       "      <td>0</td>\n",
       "      <td>39.172796</td>\n",
       "      <td>-4.765587</td>\n",
       "      <td>Tanga</td>\n",
       "      <td>1</td>\n",
       "      <td>True</td>\n",
       "      <td>VWC</td>\n",
       "      <td>True</td>\n",
       "      <td>2009</td>\n",
       "      <td>submersible</td>\n",
       "      <td>user-group</td>\n",
       "      <td>per bucket</td>\n",
       "      <td>enough</td>\n",
       "      <td>other</td>\n",
       "      <td>communal standpipe</td>\n",
       "      <td>functional</td>\n",
       "    </tr>\n",
       "    <tr>\n",
       "      <th>6</th>\n",
       "      <td>0.0</td>\n",
       "      <td>0</td>\n",
       "      <td>33.362410</td>\n",
       "      <td>-3.766365</td>\n",
       "      <td>Shinyanga</td>\n",
       "      <td>0</td>\n",
       "      <td>True</td>\n",
       "      <td>VWC</td>\n",
       "      <td>True</td>\n",
       "      <td>0</td>\n",
       "      <td>handpump</td>\n",
       "      <td>user-group</td>\n",
       "      <td>never pay</td>\n",
       "      <td>enough</td>\n",
       "      <td>borehole</td>\n",
       "      <td>hand pump</td>\n",
       "      <td>needs repair</td>\n",
       "    </tr>\n",
       "  </tbody>\n",
       "</table>\n",
       "</div>"
      ],
      "text/plain": [
       "   amount_tsh  gps_height  longitude   latitude     region  population  \\\n",
       "0      6000.0        1390  34.938093  -9.856322     Iringa         109   \n",
       "2        25.0         686  37.460664  -3.821329    Manyara         250   \n",
       "3         0.0         263  38.486161 -11.155298     Mtwara          58   \n",
       "5        20.0           0  39.172796  -4.765587      Tanga           1   \n",
       "6         0.0           0  33.362410  -3.766365  Shinyanga           0   \n",
       "\n",
       "  public_meeting scheme_management permit  construction_year  \\\n",
       "0           True               VWC  False               1999   \n",
       "2           True               VWC   True               2009   \n",
       "3           True               VWC   True               1986   \n",
       "5           True               VWC   True               2009   \n",
       "6           True               VWC   True                  0   \n",
       "\n",
       "  extraction_type_class management_group payment_type quantity source_type  \\\n",
       "0               gravity       user-group     annually   enough      spring   \n",
       "2               gravity       user-group   per bucket   enough         dam   \n",
       "3           submersible       user-group    never pay      dry    borehole   \n",
       "5           submersible       user-group   per bucket   enough       other   \n",
       "6              handpump       user-group    never pay   enough    borehole   \n",
       "\n",
       "  waterpoint_type_group  status_group  \n",
       "0    communal standpipe    functional  \n",
       "2    communal standpipe    functional  \n",
       "3    communal standpipe  needs repair  \n",
       "5    communal standpipe    functional  \n",
       "6             hand pump  needs repair  "
      ]
     },
     "execution_count": 60,
     "metadata": {},
     "output_type": "execute_result"
    }
   ],
   "source": [
    "df_clean.head()"
   ]
  },
  {
   "cell_type": "code",
   "execution_count": 61,
   "id": "352adca7-6c73-419f-95de-6637f9e33930",
   "metadata": {},
   "outputs": [
    {
     "data": {
      "image/png": "[encoded data removed]",
      "text/plain": [
       "<Figure size 720x576 with 2 Axes>"
      ]
     },
     "metadata": {
      "needs_background": "light"
     },
     "output_type": "display_data"
    }
   ],
   "source": [
    "#Check for multicollinearity among numerical columns as they are:\n",
    "#Select only the numerical columns from df_clean\n",
    "numerical_df = df_clean.select_dtypes(include=np.number)\n",
    "\n",
    "#Calculate the correlation matrix\n",
    "correlation_matrix = numerical_df.corr()\n",
    "\n",
    "#Display the correlation matrix as a heatmap\n",
    "plt.figure(figsize=(10, 8))\n",
    "sns.heatmap(correlation_matrix, annot=True, cmap='coolwarm', fmt=\".2f\")\n",
    "plt.title('Correlation Matrix of Numerical Features')\n",
    "plt.show()"
   ]
  },
  {
   "cell_type": "markdown",
   "id": "83271275-2499-4e4d-b60a-ab3c945f6cfd",
   "metadata": {},
   "source": [
    "**gps_height** and **construction_year** seem to be correlated, it is not a very strong correlation. This could suggest that as a water pump's construction year increases (the pump is newer), its gps_height tends to be higher potentially indicating a trend of building newer water pumps in areas with higher elevation."
   ]
  },
  {
   "cell_type": "code",
   "execution_count": 62,
   "id": "ff93a1ab-5c70-4f94-b414-7b5593725d7a",
   "metadata": {},
   "outputs": [
    {
     "data": {
      "text/plain": [
       "Index(['amount_tsh', 'gps_height', 'longitude', 'latitude', 'region',\n",
       "       'population', 'public_meeting', 'scheme_management', 'permit',\n",
       "       'construction_year', 'extraction_type_class', 'management_group',\n",
       "       'payment_type', 'quantity', 'source_type', 'waterpoint_type_group',\n",
       "       'status_group'],\n",
       "      dtype='object')"
      ]
     },
     "execution_count": 62,
     "metadata": {},
     "output_type": "execute_result"
    }
   ],
   "source": [
    "df_clean.columns"
   ]
  },
  {
   "cell_type": "code",
   "execution_count": 63,
   "id": "b1191201-36e9-4b08-8ad9-eb0d73bb1428",
   "metadata": {},
   "outputs": [
    {
     "name": "stdout",
     "output_type": "stream",
     "text": [
      "<class 'pandas.core.frame.DataFrame'>\n",
      "Int64Index: 48505 entries, 0 to 59399\n",
      "Data columns (total 17 columns):\n",
      " #   Column                 Non-Null Count  Dtype  \n",
      "---  ------                 --------------  -----  \n",
      " 0   amount_tsh             48505 non-null  float64\n",
      " 1   gps_height             48505 non-null  int64  \n",
      " 2   longitude              48505 non-null  float64\n",
      " 3   latitude               48505 non-null  float64\n",
      " 4   region                 48505 non-null  object \n",
      " 5   population             48505 non-null  int64  \n",
      " 6   public_meeting         48505 non-null  object \n",
      " 7   scheme_management      48505 non-null  object \n",
      " 8   permit                 48505 non-null  object \n",
      " 9   construction_year      48505 non-null  int64  \n",
      " 10  extraction_type_class  48505 non-null  object \n",
      " 11  management_group       48505 non-null  object \n",
      " 12  payment_type           48505 non-null  object \n",
      " 13  quantity               48505 non-null  object \n",
      " 14  source_type            48505 non-null  object \n",
      " 15  waterpoint_type_group  48505 non-null  object \n",
      " 16  status_group           48505 non-null  object \n",
      "dtypes: float64(3), int64(3), object(11)\n",
      "memory usage: 6.7+ MB\n"
     ]
    }
   ],
   "source": [
    "df_clean.info()"
   ]
  },
  {
   "cell_type": "code",
   "execution_count": 78,
   "id": "c9b40ae2-1c34-4a4d-9b85-8649078a16f2",
   "metadata": {},
   "outputs": [],
   "source": [
    "# Label Encode target variable, status_group\n",
    "le = LabelEncoder()\n",
    "y = le.fit_transform(df_clean['status_group'])\n",
    "\n",
    "# Set X to dataframe features without target variable\n",
    "X = df_clean.drop('status_group', axis=1)\n",
    "\n",
    "# Split data into training and testing sets\n",
    "X_train, X_test, y_train, y_test = train_test_split(X, y, test_size=0.2, random_state=42, stratify=y)"
   ]
  },
  {
   "cell_type": "code",
   "execution_count": 79,
   "id": "fb826acc-f3ae-49a5-be20-72fd52b149d1",
   "metadata": {},
   "outputs": [
    {
     "name": "stdout",
     "output_type": "stream",
     "text": [
      "Mapping of original labels to integers:\n",
      "functional is encoded as 0\n",
      "needs repair is encoded as 1\n"
     ]
    }
   ],
   "source": [
    "print(\"Mapping of original labels to integers:\")\n",
    "for i, label in enumerate(le.classes_):\n",
    "    print(f\"{label} is encoded as {i}\")"
   ]
  },
  {
   "cell_type": "code",
   "execution_count": 80,
   "id": "7e8fd56a-1f4a-4b74-9434-c1cd4890d177",
   "metadata": {},
   "outputs": [
    {
     "data": {
      "text/plain": [
       "((38804, 16), (9701, 16))"
      ]
     },
     "execution_count": 80,
     "metadata": {},
     "output_type": "execute_result"
    }
   ],
   "source": [
    "X_train.shape, X_test.shape"
   ]
  },
  {
   "cell_type": "code",
   "execution_count": 81,
   "id": "6ed90d9d-79de-4b00-9985-0e4523c38657",
   "metadata": {},
   "outputs": [
    {
     "name": "stdout",
     "output_type": "stream",
     "text": [
      "Dummy Model Classification Report:\n",
      "              precision    recall  f1-score   support\n",
      "\n",
      "           0       0.55      1.00      0.71      5358\n",
      "           1       0.00      0.00      0.00      4343\n",
      "\n",
      "    accuracy                           0.55      9701\n",
      "   macro avg       0.28      0.50      0.36      9701\n",
      "weighted avg       0.31      0.55      0.39      9701\n",
      "\n"
     ]
    }
   ],
   "source": [
    "#instantiate DummyClassifier:\n",
    "dummy_model = DummyClassifier(strategy='most_frequent', random_state=42)\n",
    "\n",
    "# Fit the dummy model to your training data\n",
    "# This is a formality, as it doesn't learn from the features\n",
    "dummy_model.fit(X_train, y_train)\n",
    "\n",
    "# Make predictions on the test set\n",
    "dummy_pred = dummy_model.predict(X_test)\n",
    "\n",
    "# Evaluate the dummy model's performance\n",
    "print(\"Dummy Model Classification Report:\")\n",
    "print(classification_report(y_test, dummy_pred))"
   ]
  },
  {
   "cell_type": "markdown",
   "id": "b37917fe-aae6-4450-8903-2f357fd71411",
   "metadata": {},
   "source": [
    "#### Imputation for Numeric Columns:"
   ]
  },
  {
   "cell_type": "code",
   "execution_count": 82,
   "id": "e8256091-d0d0-4b01-be65-d6a0b4adc07a",
   "metadata": {},
   "outputs": [],
   "source": [
    "#GPS Height Column Imputation (using KNN), takes the nearest 5 records and imputes the average gps_height:\n",
    "from sklearn.impute import KNNImputer\n",
    "X_train['gps_height'] = X_train['gps_height'].replace(0.0, np.nan)\n",
    "X_test['gps_height'] = X_test['gps_height'].replace(0.0, np.nan)\n",
    "\n",
    "imputer = KNNImputer(n_neighbors=5)\n",
    "imputer.fit(X_train[['longitude', 'latitude', 'gps_height']])\n",
    "\n",
    "X_train[['longitude', 'latitude', 'gps_height']] = imputer.transform(X_train[['longitude', 'latitude', 'gps_height']])\n",
    "X_test[['longitude', 'latitude', 'gps_height']] = imputer.transform(X_test[['longitude', 'latitude', 'gps_height']])"
   ]
  },
  {
   "cell_type": "code",
   "execution_count": 83,
   "id": "f5d427c3-bceb-4e6e-a931-469c8918702c",
   "metadata": {},
   "outputs": [],
   "source": [
    "#Population Column Imputation (dealing with placeholder values in population column)\n",
    "#Create indicator column in both sets is_population_missing\n",
    "X_train['is_population_missing'] = (X_train['population'] == 0)\n",
    "X_test['is_population_missing'] = (X_test['population'] == 0)\n",
    "\n",
    "#Calculate median poplation on the TRAINING data only by region:\n",
    "median_by_region = X_train[X_train['population'] != 0].groupby('region')['population'].median()\n",
    "\n",
    "#Fill missing values in both sets using the training data's median\n",
    "X_train['population'] = X_train.apply(\n",
    "    lambda row: median_by_region.get(row['region'], 0) if row['population'] == 0 else row['population'],\n",
    "    axis=1\n",
    ")\n",
    "X_test['population'] = X_test.apply(\n",
    "    lambda row: median_by_region.get(row['region'], 0) if row['population'] == 0 else row['population'],\n",
    "    axis=1\n",
    ")"
   ]
  },
  {
   "cell_type": "code",
   "execution_count": 84,
   "id": "b6eee94d-1435-4ddb-8a62-b2fa59cba4fd",
   "metadata": {},
   "outputs": [],
   "source": [
    "#Construction Year Column Imputation (dealing with placeholder values in construction_year)\n",
    "#Create indicator column in both sets is_year_missing\n",
    "X_train['is_year_missing'] = (X_train['construction_year'] == 0)\n",
    "X_test['is_year_missing'] = (X_test['construction_year'] == 0)\n",
    "\n",
    "#Calculate the median year on the TRAINING data only\n",
    "median_year = X_train.loc[X_train['construction_year'] != 0, 'construction_year'].median()\n",
    "\n",
    "# Replace the 0s in both sets with the TRAINING median\n",
    "X_train['construction_year'] = X_train['construction_year'].replace(0, median_year)\n",
    "X_test['construction_year'] = X_test['construction_year'].replace(0, median_year)"
   ]
  },
  {
   "cell_type": "markdown",
   "id": "3289fe96-13bc-4ec6-9da6-a0a639d9420a",
   "metadata": {},
   "source": [
    "#### Handling Outliers in Numeric Columns:"
   ]
  },
  {
   "cell_type": "code",
   "execution_count": 85,
   "id": "1b5aff75-cf42-4f25-a821-92bbf996f379",
   "metadata": {},
   "outputs": [
    {
     "data": {
      "image/png": "[encoded data removed]",
      "text/plain": [
       "<Figure size 1080x720 with 6 Axes>"
      ]
     },
     "metadata": {
      "needs_background": "light"
     },
     "output_type": "display_data"
    }
   ],
   "source": [
    "#check outliers in numeric columns:\n",
    "numerical_cols = ['amount_tsh', 'longitude', 'latitude', 'population', 'gps_height', 'construction_year']\n",
    "\n",
    "# Create subplots for each numerical column\n",
    "plt.figure(figsize=(15, 10))\n",
    "\n",
    "for i, col in enumerate(numerical_cols, 1):\n",
    "    plt.subplot(2, 3, i)\n",
    "    X_train.boxplot(column=col)\n",
    "    plt.title(f'Outliers for {col}')\n",
    "\n",
    "plt.tight_layout()\n",
    "plt.show()"
   ]
  },
  {
   "cell_type": "code",
   "execution_count": 86,
   "id": "c31c3353-7612-4bcc-b47c-50b1c8319372",
   "metadata": {},
   "outputs": [],
   "source": [
    "#define functions that use IQR capping to handle outliers, 1st gets fences, 2nd caps column values to those fences:\n",
    "def get_iqr_fences(df, column_name):\n",
    "    \"\"\"\n",
    "    Calculates the lower and upper fences for outliers using the IQR method.\n",
    "    \n",
    "    Args:\n",
    "        df (pd.DataFrame): The DataFrame to use for calculation.\n",
    "        column_name (str): The name of the column to analyze.\n",
    "        \n",
    "    Returns:\n",
    "        tuple: A tuple containing the lower and upper fences.\n",
    "    \"\"\"\n",
    "    Q1 = df[column_name].quantile(0.25)\n",
    "    Q3 = df[column_name].quantile(0.75)\n",
    "    IQR = Q3 - Q1\n",
    "    \n",
    "    lower_fence = Q1 - (1.5 * IQR)\n",
    "    upper_fence = Q3 + (1.5 * IQR)\n",
    "    \n",
    "    return lower_fence, upper_fence\n",
    "\n",
    "\n",
    "def cap_outliers_with_fences(df, column_name, lower_fence, upper_fence):\n",
    "    \"\"\"\n",
    "    Caps the values in a column to the provided lower and upper fences.\n",
    "    \n",
    "    Args:\n",
    "        df (pd.DataFrame): The DataFrame to modify.\n",
    "        column_name (str): The name of the column to cap.\n",
    "        lower_fence (float): The lower boundary to cap values at.\n",
    "        upper_fence (float): The upper boundary to cap values at.\n",
    "        \n",
    "    Returns:\n",
    "        pd.DataFrame: The DataFrame with the capped column.\n",
    "    \"\"\"\n",
    "    df[column_name] = np.where(\n",
    "        df[column_name] > upper_fence,\n",
    "        upper_fence,\n",
    "        df[column_name]\n",
    "    )\n",
    "    df[column_name] = np.where(\n",
    "        df[column_name] < lower_fence,\n",
    "        lower_fence,\n",
    "        df[column_name]\n",
    "    )\n",
    "    return df\n"
   ]
  },
  {
   "cell_type": "code",
   "execution_count": 98,
   "id": "ba2f8ad1-2687-4588-af24-5aff5c5dcc73",
   "metadata": {},
   "outputs": [
    {
     "name": "stdout",
     "output_type": "stream",
     "text": [
      "Population fences: Lower: 0, Upper: 798.5\n"
     ]
    }
   ],
   "source": [
    "#Handling Population Column Outliers:\n",
    "#For population, I'll use IQR to find the upper fence, but set the lower fence to a minimum of 0.\n",
    "lower_fence_pop, upper_fence_pop = get_iqr_fences(X_train, 'population')\n",
    "#Using a logical minimum of 0\n",
    "lower_fence_pop = max(0, lower_fence_pop)\n",
    "print(f\"Population fences: Lower: {lower_fence_pop}, Upper: {upper_fence_pop}\")\n",
    "\n",
    "X_train = cap_outliers_with_fences(X_train, 'population', lower_fence_pop, upper_fence_pop)\n",
    "X_test = cap_outliers_with_fences(X_test, 'population', lower_fence_pop, upper_fence_pop)"
   ]
  },
  {
   "cell_type": "code",
   "execution_count": 99,
   "id": "e16e8c7f-e51e-4286-953f-b946807c7b6c",
   "metadata": {},
   "outputs": [
    {
     "name": "stdout",
     "output_type": "stream",
     "text": [
      "Amount_tsh percentile fences: Lower: 0, Upper: 1807.062499998423\n"
     ]
    }
   ],
   "source": [
    "#Handling Amount_tsh Column Outliers:\n",
    "#For amount_tsh, I'll set upper fence to 95%, but set the lower fence to a minimum of 0.\n",
    "upper_fence_tsh = X_train['amount_tsh'].quantile(0.95)\n",
    "# Set a logical minimum of 0\n",
    "lower_fence_tsh = 0\n",
    "\n",
    "print(f\"Amount_tsh percentile fences: Lower: {lower_fence_tsh}, Upper: {upper_fence_tsh}\")\n",
    "\n",
    "# Cap the values in the training and test sets\n",
    "X_train = cap_outliers_with_fences(X_train, 'amount_tsh', lower_fence_tsh, upper_fence_tsh)\n",
    "X_test = cap_outliers_with_fences(X_test, 'amount_tsh', lower_fence_tsh, upper_fence_tsh)\n"
   ]
  },
  {
   "cell_type": "code",
   "execution_count": 100,
   "id": "7c6d8a7d-3931-4957-bf04-0146da4bf159",
   "metadata": {},
   "outputs": [
    {
     "name": "stdout",
     "output_type": "stream",
     "text": [
      "gps_height fences: Lower: -181.4999999999999, Upper: 2457.7\n"
     ]
    }
   ],
   "source": [
    "#Handling GPS_Height Column Outliers:\n",
    "#For gps_height, I'll use the standard IQR method to find both the lower and upper fences and cap values that fall outside that range.\n",
    "lower_fence_gps, upper_fence_gps = get_iqr_fences(X_train, 'gps_height')\n",
    "print(f\"gps_height fences: Lower: {lower_fence_gps}, Upper: {upper_fence_gps}\")\n",
    "\n",
    "X_train = cap_outliers_with_fences(X_train, 'gps_height', lower_fence_gps, upper_fence_gps)\n",
    "X_test = cap_outliers_with_fences(X_test, 'gps_height', lower_fence_gps, upper_fence_gps)"
   ]
  },
  {
   "cell_type": "code",
   "execution_count": 101,
   "id": "dfa0b365-41ee-4db1-bda5-7cc45cd51bf2",
   "metadata": {},
   "outputs": [
    {
     "name": "stdout",
     "output_type": "stream",
     "text": [
      "construction_year fences: Lower: 1980.0, Upper: 2020.0\n"
     ]
    }
   ],
   "source": [
    "#Handling Construction_Year Column Outliers:\n",
    "#For construction_year, I'll use the IQR to find both the lower and upper fences, but also set a logical lower bound.\n",
    "lower_fence_year, upper_fence_year = get_iqr_fences(X_train, 'construction_year')\n",
    "# Enforce a logical minimum of 1900\n",
    "lower_fence_year = max(1900, lower_fence_year)\n",
    "print(f\"construction_year fences: Lower: {lower_fence_year}, Upper: {upper_fence_year}\")\n",
    "\n",
    "X_train = cap_outliers_with_fences(X_train, 'construction_year', lower_fence_year, upper_fence_year)\n",
    "X_test = cap_outliers_with_fences(X_test, 'construction_year', lower_fence_year, upper_fence_year)"
   ]
  },
  {
   "cell_type": "code",
   "execution_count": 104,
   "id": "3f596418-faac-4597-bdf9-d6d286847bed",
   "metadata": {},
   "outputs": [
    {
     "data": {
      "image/png": "[encoded data removed]",
      "text/plain": [
       "<Figure size 720x576 with 2 Axes>"
      ]
     },
     "metadata": {
      "needs_background": "light"
     },
     "output_type": "display_data"
    }
   ],
   "source": [
    "#Check for multicollinearity among numerical columns after outliers handled and columns imputed:\n",
    "#Select only the numerical columns from df_clean\n",
    "numerical_df2 = X_train.select_dtypes(include=np.number)\n",
    "\n",
    "#Calculate the correlation matrix\n",
    "correlation_matrix2 = numerical_df2.corr()\n",
    "\n",
    "#Display the correlation matrix as a heatmap\n",
    "plt.figure(figsize=(10, 8))\n",
    "sns.heatmap(correlation_matrix2, annot=True, cmap='coolwarm', fmt=\".2f\")\n",
    "plt.title('Correlation Matrix of Numerical Features')\n",
    "plt.show()"
   ]
  },
  {
   "cell_type": "markdown",
   "id": "e7beab96-b410-49a1-91b3-837aa166bdab",
   "metadata": {},
   "source": [
    "#### One Hot Encode Categorical Features:"
   ]
  },
  {
   "cell_type": "code",
   "execution_count": 109,
   "id": "51b66fd6-19cd-4ea5-b410-cefb49cb436a",
   "metadata": {},
   "outputs": [],
   "source": [
    "#Select categorical columns to one hot encode:\n",
    "categorical_features = ['region', 'public_meeting', 'scheme_management', 'permit', 'extraction_type_class',\n",
    "                        'management_group', 'payment_type', 'quantity', 'source_type', 'waterpoint_type_group']\n",
    "\n",
    "#Instantiate Encoder, drop first to avoid dummy variable trap\n",
    "ohe = OneHotEncoder(handle_unknown='error', sparse=False, drop='first')\n",
    "\n",
    "#Fit encoder on the training data only\n",
    "ohe.fit(X_train[categorical_features])\n",
    "\n",
    "# Transform both the training and testing sets\n",
    "X_train_ohe = ohe.transform(X_train[categorical_features])\n",
    "X_test_ohe = ohe.transform(X_test[categorical_features])\n",
    "\n",
    "# Get the names of the new one-hot encoded columns\n",
    "ohe_feature_names = ohe.get_feature_names(categorical_features)\n",
    "\n",
    "# Create a DataFrame from the transformed array\n",
    "X_train_ohe_df = pd.DataFrame(X_train_ohe, index=X_train.index, columns=ohe_feature_names)\n",
    "X_test_ohe_df = pd.DataFrame(X_test_ohe, index=X_test.index, columns=ohe_feature_names)\n"
   ]
  },
  {
   "cell_type": "markdown",
   "id": "84d5310e-cbed-48ff-9676-2661eacabd5d",
   "metadata": {},
   "source": [
    "#### Use Standard Scaler to Scale Numeric Features:"
   ]
  },
  {
   "cell_type": "code",
   "execution_count": 110,
   "id": "595460c8-d8e7-4fcf-b186-560c29ee5b6d",
   "metadata": {},
   "outputs": [],
   "source": [
    "#Select numerical columns to scale:\n",
    "numerical_features = ['amount_tsh', 'gps_height', 'longitude', 'latitude', 'population', 'construction_year']\n",
    "\n",
    "#Instantiate Scaler\n",
    "scaler = StandardScaler()\n",
    "X_train_scaled = X_train.copy()\n",
    "X_test_scaled = X_test.copy()\n",
    "\n",
    "#Fit scaler on training data only, transform both training and testing sets\n",
    "X_train_scaled[numerical_features] = scaler.fit_transform(X_train_scaled[numerical_features])\n",
    "X_test_scaled[numerical_features] = scaler.transform(X_test_scaled[numerical_features])\n",
    "\n",
    "# Create a DataFrame from the transformed array\n",
    "X_train_scaled_df = pd.DataFrame(X_train_scaled[numerical_features], index=X_train.index, columns=numerical_features)\n",
    "X_test_scaled_df = pd.DataFrame(X_test_scaled[numerical_features], index=X_test.index, columns=numerical_features)\n"
   ]
  },
  {
   "cell_type": "code",
   "execution_count": 112,
   "id": "cf8a1a35-07e1-4cec-9073-2c80076bbe04",
   "metadata": {},
   "outputs": [
    {
     "name": "stdout",
     "output_type": "stream",
     "text": [
      "Final training data shape: (38804, 70)\n",
      "Final testing data shape: (9701, 70)\n"
     ]
    }
   ],
   "source": [
    "# Concatenate the preprocessed numeric and one-hot encoded categorical data\n",
    "X_train_comb = pd.concat([X_train_scaled_df, X_train_ohe_df], axis=1)\n",
    "X_test_comb = pd.concat([X_test_scaled_df, X_test_ohe_df], axis=1)\n",
    "\n",
    "print(\"Final training data shape:\", X_train_comb.shape)\n",
    "print(\"Final testing data shape:\", X_test_comb.shape)"
   ]
  },
  {
   "cell_type": "markdown",
   "id": "b8ad136c-cf78-4fa1-907a-919117ca3529",
   "metadata": {},
   "source": [
    "#### Modeling:"
   ]
  },
  {
   "cell_type": "code",
   "execution_count": 133,
   "id": "55c76673-6fd5-49a4-9263-2eb6ab780933",
   "metadata": {},
   "outputs": [
    {
     "name": "stdout",
     "output_type": "stream",
     "text": [
      "Model using Numeric Features Classification Report:\n",
      "              precision    recall  f1-score   support\n",
      "\n",
      "           0       0.64      0.73      0.68      5358\n",
      "           1       0.60      0.48      0.53      4343\n",
      "\n",
      "    accuracy                           0.62      9701\n",
      "   macro avg       0.62      0.61      0.61      9701\n",
      "weighted avg       0.62      0.62      0.62      9701\n",
      "\n"
     ]
    }
   ],
   "source": [
    "#Numeric Only Model\n",
    "#instantiate model\n",
    "numeric_model = LogisticRegression(random_state=42, max_iter=2000)\n",
    "\n",
    "#fit model\n",
    "numeric_model.fit(X_train_scaled_df, y_train)\n",
    "\n",
    "#make predictions on the test set\n",
    "y_pred_num = numeric_model.predict(X_test_scaled_df)\n",
    "\n",
    "# Evaluate the model with a classification report\n",
    "print(\"Model using Numeric Features Classification Report:\")\n",
    "print(classification_report(y_test, y_pred_num))"
   ]
  },
  {
   "cell_type": "code",
   "execution_count": 134,
   "id": "67d928b1-ad7a-498d-97ad-0a6ef8f979cb",
   "metadata": {},
   "outputs": [
    {
     "name": "stdout",
     "output_type": "stream",
     "text": [
      "Model using Combined Features Classification Report:\n",
      "              precision    recall  f1-score   support\n",
      "\n",
      "           0       0.73      0.87      0.79      5358\n",
      "           1       0.79      0.60      0.68      4343\n",
      "\n",
      "    accuracy                           0.75      9701\n",
      "   macro avg       0.76      0.73      0.74      9701\n",
      "weighted avg       0.75      0.75      0.74      9701\n",
      "\n"
     ]
    }
   ],
   "source": [
    "#Combined Numerical and Categorical Model using all features:\n",
    "#instantiate model\n",
    "comb_model = LogisticRegression(random_state=42, max_iter=2000)\n",
    "\n",
    "#fit model\n",
    "comb_model.fit(X_train_comb, y_train)\n",
    "\n",
    "#make predictions on the test set\n",
    "y_pred_comb = comb_model.predict(X_test_comb)\n",
    "\n",
    "# Evaluate the model with a classification report\n",
    "print(\"Model using Combined Features Classification Report:\")\n",
    "print(classification_report(y_test, y_pred_comb))"
   ]
  },
  {
   "cell_type": "code",
   "execution_count": 122,
   "id": "039b80a2-a6aa-4a53-bf71-a84058c8d771",
   "metadata": {},
   "outputs": [
    {
     "name": "stdout",
     "output_type": "stream",
     "text": [
      "Individual recall scores from each fold: [0.75248035 0.75299575 0.75106301 0.7432032  0.75927835]\n",
      "Mean recall score (your baseline): 0.7518041303530605\n"
     ]
    }
   ],
   "source": [
    "#Instantiate LogReg model, setting max_iter high to ensure the model converges\n",
    "baseline_model = LogisticRegression(random_state=42, max_iter=2000)\n",
    "\n",
    "#cross-validation to get recall scores\n",
    "#using 'recall_weighted' because it's a multiclass problem and\n",
    "#it accounts for class imbalance by weighting the scores by the number of samples in each class.\n",
    "recall_scores = cross_val_score(baseline_model, X_train_comb, y_train, cv=5, scoring='recall_weighted')\n",
    "\n",
    "# 3. Print the results\n",
    "print(\"Individual recall scores from each fold:\", recall_scores)\n",
    "print(\"Mean recall score (your baseline):\", np.mean(recall_scores))"
   ]
  },
  {
   "cell_type": "code",
   "execution_count": 126,
   "id": "33a16da5-74af-43fe-9e3a-84f86d3d49b4",
   "metadata": {},
   "outputs": [
    {
     "name": "stdout",
     "output_type": "stream",
     "text": [
      "                          Feature  Coefficient  Absolute_Coefficient\n",
      "55                quantity_enough    -4.240252              4.240252\n",
      "57              quantity_seasonal    -3.971743              3.971743\n",
      "56          quantity_insufficient    -3.743946              3.743946\n",
      "58               quantity_unknown    -2.371609              2.371609\n",
      "69    waterpoint_type_group_other     2.101104              2.101104\n",
      "36  scheme_management_Water Board    -1.824155              1.824155\n",
      "28        scheme_management_Other    -1.725756              1.725756\n",
      "15                   region_Mbeya     1.662795              1.662795\n",
      "12                   region_Lindi     1.645373              1.645373\n",
      "17                  region_Mtwara     1.615588              1.615588\n"
     ]
    }
   ],
   "source": [
    "#Feature Importance Analysis using Model Coefficients:\n",
    "#get the feature names from dataframe columns\n",
    "feature_names = X_train_comb.columns\n",
    "\n",
    "#get the coefficients from the fitted model\n",
    "#coefficients are stored in the 'coef_' attribute\n",
    "coefficients = comb_model.coef_[0]  #take the first row for multiclass\n",
    "\n",
    "#create new dataframe to view the coefficients easily\n",
    "coefficients_df = pd.DataFrame({\n",
    "    'Feature': feature_names,\n",
    "    'Coefficient': coefficients,\n",
    "    'Absolute_Coefficient': np.abs(coefficients)\n",
    "})\n",
    "\n",
    "#sort the dataframe to see the most influential features:\n",
    "coefficients_df = coefficients_df.sort_values(by='Absolute_Coefficient', ascending=False)\n",
    "\n",
    "print(coefficients_df.head(10))"
   ]
  },
  {
   "cell_type": "code",
   "execution_count": 124,
   "id": "2205133f-e0c1-4a8d-84f6-1cd9123d8045",
   "metadata": {},
   "outputs": [
    {
     "data": {
      "text/plain": [
       "enough          28157\n",
       "insufficient    11652\n",
       "dry              4958\n",
       "seasonal         3428\n",
       "unknown           310\n",
       "Name: quantity, dtype: int64"
      ]
     },
     "execution_count": 124,
     "metadata": {},
     "output_type": "execute_result"
    }
   ],
   "source": [
    "df_clean['quantity'].value_counts()"
   ]
  },
  {
   "cell_type": "code",
   "execution_count": 125,
   "id": "46d32ac1-ecd6-4714-8660-4d95dd6c5c71",
   "metadata": {},
   "outputs": [
    {
     "data": {
      "text/plain": [
       "\"\\nFurther analysis of the dataset revealed that water wells with the 'enough' water quantity have a higher likelihood of being functional,while water wells that are 'dry' are almost certainly non-functional\\n\""
      ]
     },
     "execution_count": 125,
     "metadata": {},
     "output_type": "execute_result"
    }
   ],
   "source": [
    "\"\"\"\n",
    "Further analysis of the dataset revealed that water wells with the 'enough' water quantity have a higher likelihood of being functional,\\\n",
    "while water wells that are 'dry' are almost certainly non-functional\n",
    "\"\"\""
   ]
  },
  {
   "cell_type": "code",
   "execution_count": 139,
   "id": "1fedabd9-1c67-47a9-a918-d064bbeea9c9",
   "metadata": {},
   "outputs": [],
   "source": [
    "#list numeric features\n",
    "numerical_features = ['amount_tsh', 'gps_height', 'longitude', 'latitude', 'population', 'construction_year']\n",
    "\n",
    "#find all one-hot encoded columns that belong to 'quantity'\n",
    "quantity_ohe_cols = [col for col in X_train_comb.columns if col.startswith('quantity_')]\n",
    "\n",
    "#combine the two lists\n",
    "final_features = numerical_features + quantity_ohe_cols\n",
    "\n",
    "#create new dataframes with only the selected features\n",
    "X_train_num_quan = X_train_comb[final_features]\n",
    "X_test_num_quan = X_test_comb[final_features]\n"
   ]
  },
  {
   "cell_type": "code",
   "execution_count": 135,
   "id": "37764f9e-5e0b-48e6-b070-1ca899a08c56",
   "metadata": {},
   "outputs": [
    {
     "name": "stdout",
     "output_type": "stream",
     "text": [
      "Model using Numeric Features + Quantity Columns Classification Report:\n",
      "              precision    recall  f1-score   support\n",
      "\n",
      "           0       0.68      0.85      0.75      5358\n",
      "           1       0.73      0.49      0.59      4343\n",
      "\n",
      "    accuracy                           0.69      9701\n",
      "   macro avg       0.70      0.67      0.67      9701\n",
      "weighted avg       0.70      0.69      0.68      9701\n",
      "\n"
     ]
    }
   ],
   "source": [
    "#Combined Numerical and all one hot encoded Quantity columns:\n",
    "#instantiate model\n",
    "num_quan_model = LogisticRegression(random_state=42, max_iter=2000)\n",
    "\n",
    "#fit model\n",
    "num_quan_model.fit(X_train_num_quan, y_train)\n",
    "\n",
    "#make predictions on the test set\n",
    "y_pred_num_quan = num_quan_model.predict(X_test_num_quan)\n",
    "\n",
    "# Evaluate the model with a classification report\n",
    "print(\"Model using Numeric Features + Quantity Columns Classification Report:\")\n",
    "print(classification_report(y_test, y_pred_num_quan))"
   ]
  },
  {
   "cell_type": "code",
   "execution_count": 137,
   "id": "79e4f3a2-94ca-4339-ae9f-411b80db0f44",
   "metadata": {},
   "outputs": [
    {
     "name": "stdout",
     "output_type": "stream",
     "text": [
      "Shape of selected training data: (38804, 41)\n",
      "Shape of selected testing data: (9701, 41)\n"
     ]
    }
   ],
   "source": [
    "#find all one-hot encoded columns for quantity, scheme_management, and region:\n",
    "quantity_ohe_cols = [col for col in X_train_comb.columns if col.startswith('quantity_')]\n",
    "scheme_management_ohe_cols = [col for col in X_train_comb.columns if col.startswith('scheme_management_')]\n",
    "region_ohe_cols = [col for col in X_train_comb.columns if col.startswith('region_')]\n",
    "\n",
    "#combine all the lists\n",
    "final_features = numerical_features + quantity_ohe_cols + scheme_management_ohe_cols + region_ohe_cols\n",
    "\n",
    "#create new modeling dataframes with the selected features\n",
    "X_train_selected = X_train_comb[final_features]\n",
    "X_test_selected = X_test_comb[final_features]\n",
    "\n",
    "print(\"Shape of selected training data:\", X_train_selected.shape)\n",
    "print(\"Shape of selected testing data:\", X_test_selected.shape)"
   ]
  },
  {
   "cell_type": "code",
   "execution_count": 138,
   "id": "d98e380a-caa9-4c63-9a60-f114d5be6eb4",
   "metadata": {},
   "outputs": [
    {
     "name": "stdout",
     "output_type": "stream",
     "text": [
      "Model using Numeric Features+ Quantity, Scheme_Management, and Region Classification Report:\n",
      "              precision    recall  f1-score   support\n",
      "\n",
      "           0       0.69      0.84      0.76      5358\n",
      "           1       0.74      0.53      0.62      4343\n",
      "\n",
      "    accuracy                           0.70      9701\n",
      "   macro avg       0.71      0.69      0.69      9701\n",
      "weighted avg       0.71      0.70      0.70      9701\n",
      "\n"
     ]
    }
   ],
   "source": [
    "#Combined Numerical and all one hot encoded Quantity, Scheme_Management, and Region columns Model:\n",
    "#instantiate the model\n",
    "selected_model = LogisticRegression(random_state=42, max_iter=2000)\n",
    "\n",
    "#fit the model\n",
    "selected_model.fit(X_train_selected, y_train)\n",
    "\n",
    "#make predictions on the test set\n",
    "y_pred_selected = selected_model.predict(X_test_selected)\n",
    "\n",
    "#evaluate the model with a classification report\n",
    "print(\"Model using Numeric Features+ Quantity, Scheme_Management, and Region Classification Report:\")\n",
    "print(classification_report(y_test, y_pred_selected))"
   ]
  },
  {
   "cell_type": "code",
   "execution_count": 140,
   "id": "16e089d5-7ed5-4131-827c-26059e3e30a5",
   "metadata": {},
   "outputs": [],
   "source": [
    "#create a dictionary of hyperparameters to tune\n",
    "param_grid = {\n",
    "    'C': [0.01, 0.1, 1, 10, 100],  # Example values for C\n",
    "    'solver': ['liblinear', 'lbfgs'] # Solvers that work with C\n",
    "}"
   ]
  },
  {
   "cell_type": "code",
   "execution_count": 141,
   "id": "2bbd5ff0-e9a4-4720-97c2-e424c2d480e9",
   "metadata": {},
   "outputs": [],
   "source": [
    "from sklearn.model_selection import GridSearchCV\n",
    "\n",
    "# Instantiate your model\n",
    "lr_tune = LogisticRegression(random_state=42, max_iter=2000)\n",
    "\n",
    "# Instantiate GridSearchCV\n",
    "# 'recall' is used as the scoring metric since that is your priority\n",
    "grid_search = GridSearchCV(\n",
    "    estimator=lr_tune,\n",
    "    param_grid=param_grid,\n",
    "    cv=5,                # Number of cross-validation folds\n",
    "    scoring='recall',    # Your priority metric\n",
    "    n_jobs=-1,           # Use all available CPU cores\n",
    "    verbose=1            # Provides detailed progress during tuning\n",
    ")"
   ]
  },
  {
   "cell_type": "code",
   "execution_count": 142,
   "id": "315b3fb0-956a-4f5d-a9c5-f0b21ebcbe71",
   "metadata": {},
   "outputs": [
    {
     "name": "stdout",
     "output_type": "stream",
     "text": [
      "Fitting 5 folds for each of 10 candidates, totalling 50 fits\n",
      "Best parameters found:  {'C': 100, 'solver': 'liblinear'}\n",
      "Best recall score: 0.6117\n"
     ]
    }
   ],
   "source": [
    "# Fit the grid search to your combined training data\n",
    "grid_search.fit(X_train_comb, y_train)\n",
    "\n",
    "# Print the best parameters found\n",
    "print(\"Best parameters found: \", grid_search.best_params_)\n",
    "\n",
    "# Print the best score achieved\n",
    "print(\"Best recall score: {:.4f}\".format(grid_search.best_score_))"
   ]
  },
  {
   "cell_type": "code",
   "execution_count": 143,
   "id": "33de0a00-8e94-464d-8263-6c12d85944d1",
   "metadata": {},
   "outputs": [
    {
     "name": "stdout",
     "output_type": "stream",
     "text": [
      "Tuned Model Classification Report:\n",
      "              precision    recall  f1-score   support\n",
      "\n",
      "           0       0.73      0.86      0.79      5358\n",
      "           1       0.78      0.60      0.68      4343\n",
      "\n",
      "    accuracy                           0.75      9701\n",
      "   macro avg       0.76      0.73      0.74      9701\n",
      "weighted avg       0.75      0.75      0.74      9701\n",
      "\n"
     ]
    }
   ],
   "source": [
    "# Get the best model from the grid search\n",
    "best_tuned_model = grid_search.best_estimator_\n",
    "\n",
    "# Make predictions on the test set using the best model\n",
    "y_pred_tuned = best_tuned_model.predict(X_test_comb)\n",
    "\n",
    "# Evaluate the final, tuned model with a classification report\n",
    "print(\"Tuned Model Classification Report:\")\n",
    "print(classification_report(y_test, y_pred_tuned))"
   ]
  },
  {
   "cell_type": "code",
   "execution_count": 144,
   "id": "ab38b1bb-b84d-48b8-b6b7-c1b4750af67e",
   "metadata": {},
   "outputs": [
    {
     "name": "stdout",
     "output_type": "stream",
     "text": [
      "AUC Score: 0.8165\n"
     ]
    },
    {
     "data": {
      "image/png": "[encoded data removed]",
      "text/plain": [
       "<Figure size 432x288 with 1 Axes>"
      ]
     },
     "metadata": {
      "needs_background": "light"
     },
     "output_type": "display_data"
    }
   ],
   "source": [
    "from sklearn.metrics import roc_curve, auc, RocCurveDisplay\n",
    "\n",
    "# Get the best model from your grid search\n",
    "best_tuned_model = grid_search.best_estimator_\n",
    "\n",
    "# Get the probability of the positive class (Class 1)\n",
    "# You must use .predict_proba() for ROC/AUC analysis\n",
    "y_pred_proba = best_tuned_model.predict_proba(X_test_comb)[:, 1]\n",
    "\n",
    "# Calculate the ROC curve data points\n",
    "fpr, tpr, thresholds = roc_curve(y_test, y_pred_proba)\n",
    "\n",
    "# Calculate the AUC score\n",
    "roc_auc = auc(fpr, tpr)\n",
    "\n",
    "print(f\"AUC Score: {roc_auc:.4f}\")\n",
    "\n",
    "# Plot the ROC curve\n",
    "display = RocCurveDisplay(fpr=fpr, tpr=tpr, roc_auc=roc_auc, estimator_name='Tuned Logistic Regression')\n",
    "display.plot()\n",
    "plt.plot([0, 1], [0, 1], 'k--', lw=2)\n",
    "plt.title('ROC Curve')\n",
    "plt.show()"
   ]
  },
  {
   "cell_type": "code",
   "execution_count": 145,
   "id": "c1effe0c-6340-4edd-b1f8-079dc4de6c80",
   "metadata": {},
   "outputs": [
    {
     "data": {
      "text/plain": [
       "'Your score of 0.8165 means there is an 81.65% chance that your model can correctly distinguish between a randomly selected pump that needs repair (Class 1) and a randomly selected pump that does not need repair (Class 0).'"
      ]
     },
     "execution_count": 145,
     "metadata": {},
     "output_type": "execute_result"
    }
   ],
   "source": [
    "\"Your score of 0.8165 means there is an 81.65% chance that your model can correctly distinguish between a randomly selected pump that needs repair (Class 1) and a randomly selected pump that does not need repair (Class 0).\""
   ]
  },
  {
   "cell_type": "markdown",
   "id": "0c8b327b-dc2c-4576-aa96-b4cc2fb54a49",
   "metadata": {},
   "source": [
    "# Conclusions"
   ]
  },
  {
   "cell_type": "markdown",
   "id": "c161aac0-0043-4007-9cf6-75c634dccc44",
   "metadata": {},
   "source": [
    "## Limitations"
   ]
  },
  {
   "cell_type": "markdown",
   "id": "c0ae3672-938b-4b76-ae45-15b352c74a87",
   "metadata": {},
   "source": [
    "## Recommendations"
   ]
  },
  {
   "cell_type": "markdown",
   "id": "6cbb8b4f-a687-4963-af98-f29d78046a84",
   "metadata": {},
   "source": [
    "## Next Steps"
   ]
  }
 ],
 "metadata": {
  "kernelspec": {
   "display_name": "Python (learn-env)",
   "language": "python",
   "name": "learn-env"
  },
  "language_info": {
   "codemirror_mode": {
    "name": "ipython",
    "version": 3
   },
   "file_extension": ".py",
   "mimetype": "text/x-python",
   "name": "python",
   "nbconvert_exporter": "python",
   "pygments_lexer": "ipython3",
   "version": "3.8.5"
  }
 },
 "nbformat": 4,
 "nbformat_minor": 5
}
