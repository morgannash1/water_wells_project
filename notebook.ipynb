{
 "cells": [
  {
   "cell_type": "markdown",
   "id": "fad7a2f7-bf65-43aa-9f55-74c3d94a3170",
   "metadata": {},
   "source": [
    "# Tanzania Water Wells Project"
   ]
  },
  {
   "cell_type": "markdown",
   "id": "b66eea99-6ddc-4914-bc00-2dc8ecde384c",
   "metadata": {},
   "source": [
    "Morgan Nash"
   ]
  },
  {
   "cell_type": "markdown",
   "id": "d5627793-3168-48fd-a4a3-01487e7b4b68",
   "metadata": {},
   "source": [
    "August 2025"
   ]
  },
  {
   "cell_type": "markdown",
   "id": "cf55a236-1911-4358-87e6-7af9a2efe473",
   "metadata": {},
   "source": [
    "# Overview"
   ]
  },
  {
   "cell_type": "markdown",
   "id": "9dc4a10d-22fd-4e5f-8bcb-de60d5e40627",
   "metadata": {},
   "source": [
    "## Business Understanding"
   ]
  },
  {
   "cell_type": "code",
   "execution_count": 1,
   "id": "cfa1757e-fb65-423b-8486-36b916a04086",
   "metadata": {},
   "outputs": [],
   "source": [
    "#clean drinking water, look deeper to see looking at different features like pump creation or water to predict pump is functional or needs repair\n",
    "#predict which water pumps are faulty to promote access to clean, potable water across Tanzania\n",
    "#global climate change->water scarcity->increasing problem in Tanzania, either intense and destructive rainfall or long dry spells.\n",
    "#classification model to predict functionality of pumps"
   ]
  },
  {
   "cell_type": "markdown",
   "id": "7cf2002f-5f5d-4a25-b09f-9b2ee9c6eb4c",
   "metadata": {},
   "source": [
    "## Data Understanding"
   ]
  },
  {
   "cell_type": "markdown",
   "id": "f44af231-a015-4180-a9d0-7896fce3ec51",
   "metadata": {},
   "source": [
    "The data for this project comes from Taarifa, who compiled data from the Tanzania Ministry of Water, and was accessed through DrivenData.org. The data contains 59,400 records of water wells, each with 41 features. Our target is **status_group** which contains labeling of whether a pump is functional, functional needs repair, or non functional. After cleaning the data, we'll be using the features to build a classification model to predict the status of water wells.\n"
   ]
  },
  {
   "cell_type": "markdown",
   "id": "05b59882-a925-4ee5-8b4b-439eeaa831a4",
   "metadata": {},
   "source": [
    "Training Labels Dataset:\n",
    "* id: Unique identifier for each water pump\n",
    "* status_group: contains labels whether a pump is functional, functional needs repair, or non functional\n",
    "\n",
    "* (status_group will be our target)"
   ]
  },
  {
   "cell_type": "markdown",
   "id": "fd67f495-7134-4a60-b10b-12c0ae6a005f",
   "metadata": {},
   "source": [
    "Training Values Dataset:\n",
    "* id: Unique identifier for each water pump\n",
    "* amount_tsh: Total static head (amount of water available to pump)\n",
    "* date_recorded: Date the pump data was recorded\n",
    "* funder: Person or org funded the pump installation\n",
    "* gps_height: Altitude of the pump location\n",
    "* installer: Person or org that installed the pump\n",
    "* longitude: GPS longitude coordinate of the pump location\n",
    "* latitude: GPS latitude coordinate of the pump location\n",
    "* wpt_name: Name of the waterpoint (if available)\n",
    "* num_private: Number of private plots reserved for the waterpoint\n",
    "* basin: Geographic basin of the pump location\n",
    "* subvillage: Geographic location within the village\n",
    "* region: Geographic location\n",
    "* region_code: Coded- geographic region\n",
    "* district_code: Coded- administrative district\n",
    "* lga: Geographic location (Local Government Area)\n",
    "* ward: Geographic location (Administrative division)\n",
    "* population: Population served by the well\n",
    "* public_meeting: T/F Indicator of whether there was a public meeting about the well\n",
    "* recorded_by: Group entering this row of data\n",
    "* scheme_management: Who operates the waterpoint\n",
    "* scheme_name: Who operates the waterpoint\n",
    "* permit: Indicator of whether the waterpoint is permitted\n",
    "* construction_year: Year the pump was installed\n",
    "* extraction_type: The kind of extraction the waterpoint uses\n",
    "* extraction_type_group: The kind of extraction the waterpoint uses\n",
    "* extraction_type_class: The kind of extraction the waterpoint uses\n",
    "* management: Type of management for the pump\n",
    "* management_group: Grouped management type\n",
    "* payment: Payment type for water service\n",
    "* payment_type: Type of payment\n",
    "* water_quality: Quality of water provided by the pump\n",
    "* quality_group - The quality of the water\n",
    "* quantity - The quantity of water\n",
    "* quantity_group - The quantity of water\n",
    "* source - The source of the water\n",
    "* source_type - The source of the water\n",
    "* source_class - The source of the water\n",
    "* waterpoint_type - The kind of waterpoint\n",
    "* waterpoint_type_group - The kind of waterpoint"
   ]
  },
  {
   "cell_type": "markdown",
   "id": "ee3c8158-5488-4da0-84c2-ce0d9b61b17f",
   "metadata": {},
   "source": [
    "# Exploratory Data Analysis"
   ]
  },
  {
   "cell_type": "markdown",
   "id": "e4b2b448-abe2-40e2-9c85-60332ccc5f5d",
   "metadata": {},
   "source": [
    "## Data Preparation & Cleaning"
   ]
  },
  {
   "cell_type": "code",
   "execution_count": 6,
   "id": "0534272e-6782-4775-907d-12455d108908",
   "metadata": {},
   "outputs": [],
   "source": [
    "#import relevant libraries\n",
    "import pandas as pd\n",
    "import numpy as np\n",
    "import matplotlib.pyplot as plt\n",
    "%matplotlib inline\n",
    "import seaborn as sns\n",
    "from sklearn.model_selection import train_test_split, cross_val_score\n",
    "from sklearn.preprocessing import LabelEncoder, OneHotEncoder, StandardScaler\n",
    "from sklearn.impute import SimpleImputer\n",
    "from sklearn.linear_model import LogisticRegression\n",
    "from sklearn.metrics import accuracy_score, classification_report, confusion_matrix\n",
    "from sklearn.impute import SimpleImputer"
   ]
  },
  {
   "cell_type": "code",
   "execution_count": 7,
   "id": "d9c2f32c-ab11-40bd-ab15-c579b3f82194",
   "metadata": {},
   "outputs": [],
   "source": [
    "import warnings\n",
    "warnings.filterwarnings('ignore')"
   ]
  },
  {
   "cell_type": "code",
   "execution_count": 8,
   "id": "78717973-96d4-4911-87e9-ca3c4106e500",
   "metadata": {},
   "outputs": [
    {
     "data": {
      "text/html": [
       "<div>\n",
       "<style scoped>\n",
       "    .dataframe tbody tr th:only-of-type {\n",
       "        vertical-align: middle;\n",
       "    }\n",
       "\n",
       "    .dataframe tbody tr th {\n",
       "        vertical-align: top;\n",
       "    }\n",
       "\n",
       "    .dataframe thead th {\n",
       "        text-align: right;\n",
       "    }\n",
       "</style>\n",
       "<table border=\"1\" class=\"dataframe\">\n",
       "  <thead>\n",
       "    <tr style=\"text-align: right;\">\n",
       "      <th></th>\n",
       "      <th>id</th>\n",
       "      <th>amount_tsh</th>\n",
       "      <th>date_recorded</th>\n",
       "      <th>funder</th>\n",
       "      <th>gps_height</th>\n",
       "      <th>installer</th>\n",
       "      <th>longitude</th>\n",
       "      <th>latitude</th>\n",
       "      <th>wpt_name</th>\n",
       "      <th>num_private</th>\n",
       "      <th>...</th>\n",
       "      <th>payment_type</th>\n",
       "      <th>water_quality</th>\n",
       "      <th>quality_group</th>\n",
       "      <th>quantity</th>\n",
       "      <th>quantity_group</th>\n",
       "      <th>source</th>\n",
       "      <th>source_type</th>\n",
       "      <th>source_class</th>\n",
       "      <th>waterpoint_type</th>\n",
       "      <th>waterpoint_type_group</th>\n",
       "    </tr>\n",
       "  </thead>\n",
       "  <tbody>\n",
       "    <tr>\n",
       "      <th>0</th>\n",
       "      <td>69572</td>\n",
       "      <td>6000.0</td>\n",
       "      <td>2011-03-14</td>\n",
       "      <td>Roman</td>\n",
       "      <td>1390</td>\n",
       "      <td>Roman</td>\n",
       "      <td>34.938093</td>\n",
       "      <td>-9.856322</td>\n",
       "      <td>none</td>\n",
       "      <td>0</td>\n",
       "      <td>...</td>\n",
       "      <td>annually</td>\n",
       "      <td>soft</td>\n",
       "      <td>good</td>\n",
       "      <td>enough</td>\n",
       "      <td>enough</td>\n",
       "      <td>spring</td>\n",
       "      <td>spring</td>\n",
       "      <td>groundwater</td>\n",
       "      <td>communal standpipe</td>\n",
       "      <td>communal standpipe</td>\n",
       "    </tr>\n",
       "    <tr>\n",
       "      <th>1</th>\n",
       "      <td>8776</td>\n",
       "      <td>0.0</td>\n",
       "      <td>2013-03-06</td>\n",
       "      <td>Grumeti</td>\n",
       "      <td>1399</td>\n",
       "      <td>GRUMETI</td>\n",
       "      <td>34.698766</td>\n",
       "      <td>-2.147466</td>\n",
       "      <td>Zahanati</td>\n",
       "      <td>0</td>\n",
       "      <td>...</td>\n",
       "      <td>never pay</td>\n",
       "      <td>soft</td>\n",
       "      <td>good</td>\n",
       "      <td>insufficient</td>\n",
       "      <td>insufficient</td>\n",
       "      <td>rainwater harvesting</td>\n",
       "      <td>rainwater harvesting</td>\n",
       "      <td>surface</td>\n",
       "      <td>communal standpipe</td>\n",
       "      <td>communal standpipe</td>\n",
       "    </tr>\n",
       "    <tr>\n",
       "      <th>2</th>\n",
       "      <td>34310</td>\n",
       "      <td>25.0</td>\n",
       "      <td>2013-02-25</td>\n",
       "      <td>Lottery Club</td>\n",
       "      <td>686</td>\n",
       "      <td>World vision</td>\n",
       "      <td>37.460664</td>\n",
       "      <td>-3.821329</td>\n",
       "      <td>Kwa Mahundi</td>\n",
       "      <td>0</td>\n",
       "      <td>...</td>\n",
       "      <td>per bucket</td>\n",
       "      <td>soft</td>\n",
       "      <td>good</td>\n",
       "      <td>enough</td>\n",
       "      <td>enough</td>\n",
       "      <td>dam</td>\n",
       "      <td>dam</td>\n",
       "      <td>surface</td>\n",
       "      <td>communal standpipe multiple</td>\n",
       "      <td>communal standpipe</td>\n",
       "    </tr>\n",
       "    <tr>\n",
       "      <th>3</th>\n",
       "      <td>67743</td>\n",
       "      <td>0.0</td>\n",
       "      <td>2013-01-28</td>\n",
       "      <td>Unicef</td>\n",
       "      <td>263</td>\n",
       "      <td>UNICEF</td>\n",
       "      <td>38.486161</td>\n",
       "      <td>-11.155298</td>\n",
       "      <td>Zahanati Ya Nanyumbu</td>\n",
       "      <td>0</td>\n",
       "      <td>...</td>\n",
       "      <td>never pay</td>\n",
       "      <td>soft</td>\n",
       "      <td>good</td>\n",
       "      <td>dry</td>\n",
       "      <td>dry</td>\n",
       "      <td>machine dbh</td>\n",
       "      <td>borehole</td>\n",
       "      <td>groundwater</td>\n",
       "      <td>communal standpipe multiple</td>\n",
       "      <td>communal standpipe</td>\n",
       "    </tr>\n",
       "    <tr>\n",
       "      <th>4</th>\n",
       "      <td>19728</td>\n",
       "      <td>0.0</td>\n",
       "      <td>2011-07-13</td>\n",
       "      <td>Action In A</td>\n",
       "      <td>0</td>\n",
       "      <td>Artisan</td>\n",
       "      <td>31.130847</td>\n",
       "      <td>-1.825359</td>\n",
       "      <td>Shuleni</td>\n",
       "      <td>0</td>\n",
       "      <td>...</td>\n",
       "      <td>never pay</td>\n",
       "      <td>soft</td>\n",
       "      <td>good</td>\n",
       "      <td>seasonal</td>\n",
       "      <td>seasonal</td>\n",
       "      <td>rainwater harvesting</td>\n",
       "      <td>rainwater harvesting</td>\n",
       "      <td>surface</td>\n",
       "      <td>communal standpipe</td>\n",
       "      <td>communal standpipe</td>\n",
       "    </tr>\n",
       "  </tbody>\n",
       "</table>\n",
       "<p>5 rows × 40 columns</p>\n",
       "</div>"
      ],
      "text/plain": [
       "      id  amount_tsh date_recorded        funder  gps_height     installer  \\\n",
       "0  69572      6000.0    2011-03-14         Roman        1390         Roman   \n",
       "1   8776         0.0    2013-03-06       Grumeti        1399       GRUMETI   \n",
       "2  34310        25.0    2013-02-25  Lottery Club         686  World vision   \n",
       "3  67743         0.0    2013-01-28        Unicef         263        UNICEF   \n",
       "4  19728         0.0    2011-07-13   Action In A           0       Artisan   \n",
       "\n",
       "   longitude   latitude              wpt_name  num_private  ... payment_type  \\\n",
       "0  34.938093  -9.856322                  none            0  ...     annually   \n",
       "1  34.698766  -2.147466              Zahanati            0  ...    never pay   \n",
       "2  37.460664  -3.821329           Kwa Mahundi            0  ...   per bucket   \n",
       "3  38.486161 -11.155298  Zahanati Ya Nanyumbu            0  ...    never pay   \n",
       "4  31.130847  -1.825359               Shuleni            0  ...    never pay   \n",
       "\n",
       "  water_quality quality_group      quantity  quantity_group  \\\n",
       "0          soft          good        enough          enough   \n",
       "1          soft          good  insufficient    insufficient   \n",
       "2          soft          good        enough          enough   \n",
       "3          soft          good           dry             dry   \n",
       "4          soft          good      seasonal        seasonal   \n",
       "\n",
       "                 source           source_type  source_class  \\\n",
       "0                spring                spring   groundwater   \n",
       "1  rainwater harvesting  rainwater harvesting       surface   \n",
       "2                   dam                   dam       surface   \n",
       "3           machine dbh              borehole   groundwater   \n",
       "4  rainwater harvesting  rainwater harvesting       surface   \n",
       "\n",
       "               waterpoint_type waterpoint_type_group  \n",
       "0           communal standpipe    communal standpipe  \n",
       "1           communal standpipe    communal standpipe  \n",
       "2  communal standpipe multiple    communal standpipe  \n",
       "3  communal standpipe multiple    communal standpipe  \n",
       "4           communal standpipe    communal standpipe  \n",
       "\n",
       "[5 rows x 40 columns]"
      ]
     },
     "execution_count": 8,
     "metadata": {},
     "output_type": "execute_result"
    }
   ],
   "source": [
    "#load the data\n",
    "val = pd.read_csv('data/Training_set_values.csv')\n",
    "val.head()"
   ]
  },
  {
   "cell_type": "markdown",
   "id": "02ca95d5-6f2b-4989-8600-5bdcf82aa7b4",
   "metadata": {},
   "source": [
    "At first glance, it looks like there's many categorical columns that are similar or duplicates suggesting multicollinearity, as well as some categorical columns that will need to be OneHotEncoded!"
   ]
  },
  {
   "cell_type": "code",
   "execution_count": 9,
   "id": "ac2ceddc-3514-4086-8fcd-194d339b6857",
   "metadata": {},
   "outputs": [
    {
     "data": {
      "text/html": [
       "<div>\n",
       "<style scoped>\n",
       "    .dataframe tbody tr th:only-of-type {\n",
       "        vertical-align: middle;\n",
       "    }\n",
       "\n",
       "    .dataframe tbody tr th {\n",
       "        vertical-align: top;\n",
       "    }\n",
       "\n",
       "    .dataframe thead th {\n",
       "        text-align: right;\n",
       "    }\n",
       "</style>\n",
       "<table border=\"1\" class=\"dataframe\">\n",
       "  <thead>\n",
       "    <tr style=\"text-align: right;\">\n",
       "      <th></th>\n",
       "      <th>id</th>\n",
       "      <th>status_group</th>\n",
       "    </tr>\n",
       "  </thead>\n",
       "  <tbody>\n",
       "    <tr>\n",
       "      <th>0</th>\n",
       "      <td>69572</td>\n",
       "      <td>functional</td>\n",
       "    </tr>\n",
       "    <tr>\n",
       "      <th>1</th>\n",
       "      <td>8776</td>\n",
       "      <td>functional</td>\n",
       "    </tr>\n",
       "    <tr>\n",
       "      <th>2</th>\n",
       "      <td>34310</td>\n",
       "      <td>functional</td>\n",
       "    </tr>\n",
       "    <tr>\n",
       "      <th>3</th>\n",
       "      <td>67743</td>\n",
       "      <td>non functional</td>\n",
       "    </tr>\n",
       "    <tr>\n",
       "      <th>4</th>\n",
       "      <td>19728</td>\n",
       "      <td>functional</td>\n",
       "    </tr>\n",
       "  </tbody>\n",
       "</table>\n",
       "</div>"
      ],
      "text/plain": [
       "      id    status_group\n",
       "0  69572      functional\n",
       "1   8776      functional\n",
       "2  34310      functional\n",
       "3  67743  non functional\n",
       "4  19728      functional"
      ]
     },
     "execution_count": 9,
     "metadata": {},
     "output_type": "execute_result"
    }
   ],
   "source": [
    "#load the data\n",
    "labels = pd.read_csv('data/Training_set_labels.csv')\n",
    "labels.head()"
   ]
  },
  {
   "cell_type": "code",
   "execution_count": 10,
   "id": "2df90434-3d9c-412c-8c39-3e409f6ee6c4",
   "metadata": {},
   "outputs": [
    {
     "name": "stdout",
     "output_type": "stream",
     "text": [
      "<class 'pandas.core.frame.DataFrame'>\n",
      "RangeIndex: 59400 entries, 0 to 59399\n",
      "Data columns (total 40 columns):\n",
      " #   Column                 Non-Null Count  Dtype  \n",
      "---  ------                 --------------  -----  \n",
      " 0   id                     59400 non-null  int64  \n",
      " 1   amount_tsh             59400 non-null  float64\n",
      " 2   date_recorded          59400 non-null  object \n",
      " 3   funder                 55765 non-null  object \n",
      " 4   gps_height             59400 non-null  int64  \n",
      " 5   installer              55745 non-null  object \n",
      " 6   longitude              59400 non-null  float64\n",
      " 7   latitude               59400 non-null  float64\n",
      " 8   wpt_name               59400 non-null  object \n",
      " 9   num_private            59400 non-null  int64  \n",
      " 10  basin                  59400 non-null  object \n",
      " 11  subvillage             59029 non-null  object \n",
      " 12  region                 59400 non-null  object \n",
      " 13  region_code            59400 non-null  int64  \n",
      " 14  district_code          59400 non-null  int64  \n",
      " 15  lga                    59400 non-null  object \n",
      " 16  ward                   59400 non-null  object \n",
      " 17  population             59400 non-null  int64  \n",
      " 18  public_meeting         56066 non-null  object \n",
      " 19  recorded_by            59400 non-null  object \n",
      " 20  scheme_management      55523 non-null  object \n",
      " 21  scheme_name            31234 non-null  object \n",
      " 22  permit                 56344 non-null  object \n",
      " 23  construction_year      59400 non-null  int64  \n",
      " 24  extraction_type        59400 non-null  object \n",
      " 25  extraction_type_group  59400 non-null  object \n",
      " 26  extraction_type_class  59400 non-null  object \n",
      " 27  management             59400 non-null  object \n",
      " 28  management_group       59400 non-null  object \n",
      " 29  payment                59400 non-null  object \n",
      " 30  payment_type           59400 non-null  object \n",
      " 31  water_quality          59400 non-null  object \n",
      " 32  quality_group          59400 non-null  object \n",
      " 33  quantity               59400 non-null  object \n",
      " 34  quantity_group         59400 non-null  object \n",
      " 35  source                 59400 non-null  object \n",
      " 36  source_type            59400 non-null  object \n",
      " 37  source_class           59400 non-null  object \n",
      " 38  waterpoint_type        59400 non-null  object \n",
      " 39  waterpoint_type_group  59400 non-null  object \n",
      "dtypes: float64(3), int64(7), object(30)\n",
      "memory usage: 18.1+ MB\n"
     ]
    }
   ],
   "source": [
    "val.info()"
   ]
  },
  {
   "cell_type": "code",
   "execution_count": 11,
   "id": "9817eeda-76ae-44b6-9e5a-4421613b437e",
   "metadata": {},
   "outputs": [
    {
     "name": "stdout",
     "output_type": "stream",
     "text": [
      "<class 'pandas.core.frame.DataFrame'>\n",
      "RangeIndex: 59400 entries, 0 to 59399\n",
      "Data columns (total 2 columns):\n",
      " #   Column        Non-Null Count  Dtype \n",
      "---  ------        --------------  ----- \n",
      " 0   id            59400 non-null  int64 \n",
      " 1   status_group  59400 non-null  object\n",
      "dtypes: int64(1), object(1)\n",
      "memory usage: 928.2+ KB\n"
     ]
    }
   ],
   "source": [
    "labels.info()"
   ]
  },
  {
   "cell_type": "code",
   "execution_count": 12,
   "id": "f4ab15ed-f99e-4cbc-b0c9-093bff1d5bba",
   "metadata": {},
   "outputs": [
    {
     "data": {
      "text/plain": [
       "functional                 32259\n",
       "non functional             22824\n",
       "functional needs repair     4317\n",
       "Name: status_group, dtype: int64"
      ]
     },
     "execution_count": 12,
     "metadata": {},
     "output_type": "execute_result"
    }
   ],
   "source": [
    "labels['status_group'].value_counts()"
   ]
  },
  {
   "cell_type": "code",
   "execution_count": 13,
   "id": "e76e8833-98d8-4358-b1c2-d01d4289361f",
   "metadata": {},
   "outputs": [
    {
     "data": {
      "text/plain": [
       "functional                 0.543081\n",
       "non functional             0.384242\n",
       "functional needs repair    0.072677\n",
       "Name: status_group, dtype: float64"
      ]
     },
     "execution_count": 13,
     "metadata": {},
     "output_type": "execute_result"
    }
   ],
   "source": [
    "# Check target class (im)balance with percentages: Pretty significant imbalance!!\n",
    "labels['status_group'].value_counts(normalize=True)"
   ]
  },
  {
   "cell_type": "markdown",
   "id": "0885bcc7-2683-4c36-8f2f-f6fc6e792163",
   "metadata": {},
   "source": [
    "### Make the target binary:"
   ]
  },
  {
   "cell_type": "code",
   "execution_count": 14,
   "id": "c17ccb2a-6801-4c5c-8f4f-1ca35ed07515",
   "metadata": {},
   "outputs": [],
   "source": [
    "# make problem binary: change the status_group labels 'non functional' and 'functinoal needs repair' into 'needs repair'\n",
    "labels['status_group'] = labels['status_group'].map({'non functional':'needs repair',\n",
    "                                                       'functional needs repair':'needs repair',\n",
    "                                                       'functional':'functional'})"
   ]
  },
  {
   "cell_type": "code",
   "execution_count": 15,
   "id": "2acc043a-8841-48f5-957f-cdab7934e893",
   "metadata": {},
   "outputs": [
    {
     "data": {
      "text/plain": [
       "functional      32259\n",
       "needs repair    27141\n",
       "Name: status_group, dtype: int64"
      ]
     },
     "execution_count": 15,
     "metadata": {},
     "output_type": "execute_result"
    }
   ],
   "source": [
    "labels['status_group'].value_counts()"
   ]
  },
  {
   "cell_type": "code",
   "execution_count": 16,
   "id": "90241002-351e-446d-863a-b16001de4570",
   "metadata": {},
   "outputs": [
    {
     "data": {
      "text/plain": [
       "functional      0.543081\n",
       "needs repair    0.456919\n",
       "Name: status_group, dtype: float64"
      ]
     },
     "execution_count": 16,
     "metadata": {},
     "output_type": "execute_result"
    }
   ],
   "source": [
    "#although not all, this fixes a good amount of class imbalance\n",
    "labels['status_group'].value_counts(normalize=True)"
   ]
  },
  {
   "cell_type": "markdown",
   "id": "4b1badbe-d903-4773-acde-b047f2e4409a",
   "metadata": {},
   "source": [
    "### Combine Values & Labels into One Dataframe"
   ]
  },
  {
   "cell_type": "code",
   "execution_count": 17,
   "id": "61309614-047b-4565-8fce-73f62369ff0f",
   "metadata": {},
   "outputs": [
    {
     "data": {
      "text/html": [
       "<div>\n",
       "<style scoped>\n",
       "    .dataframe tbody tr th:only-of-type {\n",
       "        vertical-align: middle;\n",
       "    }\n",
       "\n",
       "    .dataframe tbody tr th {\n",
       "        vertical-align: top;\n",
       "    }\n",
       "\n",
       "    .dataframe thead th {\n",
       "        text-align: right;\n",
       "    }\n",
       "</style>\n",
       "<table border=\"1\" class=\"dataframe\">\n",
       "  <thead>\n",
       "    <tr style=\"text-align: right;\">\n",
       "      <th></th>\n",
       "      <th>id</th>\n",
       "      <th>amount_tsh</th>\n",
       "      <th>date_recorded</th>\n",
       "      <th>funder</th>\n",
       "      <th>gps_height</th>\n",
       "      <th>installer</th>\n",
       "      <th>longitude</th>\n",
       "      <th>latitude</th>\n",
       "      <th>wpt_name</th>\n",
       "      <th>num_private</th>\n",
       "      <th>...</th>\n",
       "      <th>water_quality</th>\n",
       "      <th>quality_group</th>\n",
       "      <th>quantity</th>\n",
       "      <th>quantity_group</th>\n",
       "      <th>source</th>\n",
       "      <th>source_type</th>\n",
       "      <th>source_class</th>\n",
       "      <th>waterpoint_type</th>\n",
       "      <th>waterpoint_type_group</th>\n",
       "      <th>status_group</th>\n",
       "    </tr>\n",
       "  </thead>\n",
       "  <tbody>\n",
       "    <tr>\n",
       "      <th>0</th>\n",
       "      <td>69572</td>\n",
       "      <td>6000.0</td>\n",
       "      <td>2011-03-14</td>\n",
       "      <td>Roman</td>\n",
       "      <td>1390</td>\n",
       "      <td>Roman</td>\n",
       "      <td>34.938093</td>\n",
       "      <td>-9.856322</td>\n",
       "      <td>none</td>\n",
       "      <td>0</td>\n",
       "      <td>...</td>\n",
       "      <td>soft</td>\n",
       "      <td>good</td>\n",
       "      <td>enough</td>\n",
       "      <td>enough</td>\n",
       "      <td>spring</td>\n",
       "      <td>spring</td>\n",
       "      <td>groundwater</td>\n",
       "      <td>communal standpipe</td>\n",
       "      <td>communal standpipe</td>\n",
       "      <td>functional</td>\n",
       "    </tr>\n",
       "    <tr>\n",
       "      <th>1</th>\n",
       "      <td>8776</td>\n",
       "      <td>0.0</td>\n",
       "      <td>2013-03-06</td>\n",
       "      <td>Grumeti</td>\n",
       "      <td>1399</td>\n",
       "      <td>GRUMETI</td>\n",
       "      <td>34.698766</td>\n",
       "      <td>-2.147466</td>\n",
       "      <td>Zahanati</td>\n",
       "      <td>0</td>\n",
       "      <td>...</td>\n",
       "      <td>soft</td>\n",
       "      <td>good</td>\n",
       "      <td>insufficient</td>\n",
       "      <td>insufficient</td>\n",
       "      <td>rainwater harvesting</td>\n",
       "      <td>rainwater harvesting</td>\n",
       "      <td>surface</td>\n",
       "      <td>communal standpipe</td>\n",
       "      <td>communal standpipe</td>\n",
       "      <td>functional</td>\n",
       "    </tr>\n",
       "    <tr>\n",
       "      <th>2</th>\n",
       "      <td>34310</td>\n",
       "      <td>25.0</td>\n",
       "      <td>2013-02-25</td>\n",
       "      <td>Lottery Club</td>\n",
       "      <td>686</td>\n",
       "      <td>World vision</td>\n",
       "      <td>37.460664</td>\n",
       "      <td>-3.821329</td>\n",
       "      <td>Kwa Mahundi</td>\n",
       "      <td>0</td>\n",
       "      <td>...</td>\n",
       "      <td>soft</td>\n",
       "      <td>good</td>\n",
       "      <td>enough</td>\n",
       "      <td>enough</td>\n",
       "      <td>dam</td>\n",
       "      <td>dam</td>\n",
       "      <td>surface</td>\n",
       "      <td>communal standpipe multiple</td>\n",
       "      <td>communal standpipe</td>\n",
       "      <td>functional</td>\n",
       "    </tr>\n",
       "    <tr>\n",
       "      <th>3</th>\n",
       "      <td>67743</td>\n",
       "      <td>0.0</td>\n",
       "      <td>2013-01-28</td>\n",
       "      <td>Unicef</td>\n",
       "      <td>263</td>\n",
       "      <td>UNICEF</td>\n",
       "      <td>38.486161</td>\n",
       "      <td>-11.155298</td>\n",
       "      <td>Zahanati Ya Nanyumbu</td>\n",
       "      <td>0</td>\n",
       "      <td>...</td>\n",
       "      <td>soft</td>\n",
       "      <td>good</td>\n",
       "      <td>dry</td>\n",
       "      <td>dry</td>\n",
       "      <td>machine dbh</td>\n",
       "      <td>borehole</td>\n",
       "      <td>groundwater</td>\n",
       "      <td>communal standpipe multiple</td>\n",
       "      <td>communal standpipe</td>\n",
       "      <td>needs repair</td>\n",
       "    </tr>\n",
       "    <tr>\n",
       "      <th>4</th>\n",
       "      <td>19728</td>\n",
       "      <td>0.0</td>\n",
       "      <td>2011-07-13</td>\n",
       "      <td>Action In A</td>\n",
       "      <td>0</td>\n",
       "      <td>Artisan</td>\n",
       "      <td>31.130847</td>\n",
       "      <td>-1.825359</td>\n",
       "      <td>Shuleni</td>\n",
       "      <td>0</td>\n",
       "      <td>...</td>\n",
       "      <td>soft</td>\n",
       "      <td>good</td>\n",
       "      <td>seasonal</td>\n",
       "      <td>seasonal</td>\n",
       "      <td>rainwater harvesting</td>\n",
       "      <td>rainwater harvesting</td>\n",
       "      <td>surface</td>\n",
       "      <td>communal standpipe</td>\n",
       "      <td>communal standpipe</td>\n",
       "      <td>functional</td>\n",
       "    </tr>\n",
       "  </tbody>\n",
       "</table>\n",
       "<p>5 rows × 41 columns</p>\n",
       "</div>"
      ],
      "text/plain": [
       "      id  amount_tsh date_recorded        funder  gps_height     installer  \\\n",
       "0  69572      6000.0    2011-03-14         Roman        1390         Roman   \n",
       "1   8776         0.0    2013-03-06       Grumeti        1399       GRUMETI   \n",
       "2  34310        25.0    2013-02-25  Lottery Club         686  World vision   \n",
       "3  67743         0.0    2013-01-28        Unicef         263        UNICEF   \n",
       "4  19728         0.0    2011-07-13   Action In A           0       Artisan   \n",
       "\n",
       "   longitude   latitude              wpt_name  num_private  ... water_quality  \\\n",
       "0  34.938093  -9.856322                  none            0  ...          soft   \n",
       "1  34.698766  -2.147466              Zahanati            0  ...          soft   \n",
       "2  37.460664  -3.821329           Kwa Mahundi            0  ...          soft   \n",
       "3  38.486161 -11.155298  Zahanati Ya Nanyumbu            0  ...          soft   \n",
       "4  31.130847  -1.825359               Shuleni            0  ...          soft   \n",
       "\n",
       "  quality_group      quantity  quantity_group                source  \\\n",
       "0          good        enough          enough                spring   \n",
       "1          good  insufficient    insufficient  rainwater harvesting   \n",
       "2          good        enough          enough                   dam   \n",
       "3          good           dry             dry           machine dbh   \n",
       "4          good      seasonal        seasonal  rainwater harvesting   \n",
       "\n",
       "            source_type source_class              waterpoint_type  \\\n",
       "0                spring  groundwater           communal standpipe   \n",
       "1  rainwater harvesting      surface           communal standpipe   \n",
       "2                   dam      surface  communal standpipe multiple   \n",
       "3              borehole  groundwater  communal standpipe multiple   \n",
       "4  rainwater harvesting      surface           communal standpipe   \n",
       "\n",
       "  waterpoint_type_group  status_group  \n",
       "0    communal standpipe    functional  \n",
       "1    communal standpipe    functional  \n",
       "2    communal standpipe    functional  \n",
       "3    communal standpipe  needs repair  \n",
       "4    communal standpipe    functional  \n",
       "\n",
       "[5 rows x 41 columns]"
      ]
     },
     "execution_count": 17,
     "metadata": {},
     "output_type": "execute_result"
    }
   ],
   "source": [
    "# Merge the two dataframes using shared 'id' column\n",
    "df = pd.merge(val, labels, how = 'left', on='id')\n",
    "df.head()"
   ]
  },
  {
   "cell_type": "code",
   "execution_count": 18,
   "id": "2ccd48dd-06ef-4c82-8d86-f16c2fcf8fd2",
   "metadata": {},
   "outputs": [
    {
     "data": {
      "text/plain": [
       "(59400, 41)"
      ]
     },
     "execution_count": 18,
     "metadata": {},
     "output_type": "execute_result"
    }
   ],
   "source": [
    "df.shape"
   ]
  },
  {
   "cell_type": "code",
   "execution_count": 19,
   "id": "37be859a-4605-466d-8748-aa6d9b050860",
   "metadata": {},
   "outputs": [
    {
     "data": {
      "text/plain": [
       "id                           0\n",
       "amount_tsh                   0\n",
       "date_recorded                0\n",
       "funder                    3635\n",
       "gps_height                   0\n",
       "installer                 3655\n",
       "longitude                    0\n",
       "latitude                     0\n",
       "wpt_name                     0\n",
       "num_private                  0\n",
       "basin                        0\n",
       "subvillage                 371\n",
       "region                       0\n",
       "region_code                  0\n",
       "district_code                0\n",
       "lga                          0\n",
       "ward                         0\n",
       "population                   0\n",
       "public_meeting            3334\n",
       "recorded_by                  0\n",
       "scheme_management         3877\n",
       "scheme_name              28166\n",
       "permit                    3056\n",
       "construction_year            0\n",
       "extraction_type              0\n",
       "extraction_type_group        0\n",
       "extraction_type_class        0\n",
       "management                   0\n",
       "management_group             0\n",
       "payment                      0\n",
       "payment_type                 0\n",
       "water_quality                0\n",
       "quality_group                0\n",
       "quantity                     0\n",
       "quantity_group               0\n",
       "source                       0\n",
       "source_type                  0\n",
       "source_class                 0\n",
       "waterpoint_type              0\n",
       "waterpoint_type_group        0\n",
       "status_group                 0\n",
       "dtype: int64"
      ]
     },
     "execution_count": 19,
     "metadata": {},
     "output_type": "execute_result"
    }
   ],
   "source": [
    "#Check for nulls\n",
    "df.isna().sum()"
   ]
  },
  {
   "cell_type": "markdown",
   "id": "8235b4cb-6c0a-4722-a3d5-6afb2a0949f4",
   "metadata": {},
   "source": [
    "## Cleaning Categorical Columns:"
   ]
  },
  {
   "cell_type": "markdown",
   "id": "2127208d-95f0-4c1f-b166-5705d087d782",
   "metadata": {},
   "source": [
    "Decide which columns to drop, which that have missing values, and which that we will One Hot Encode after splitting:"
   ]
  },
  {
   "cell_type": "code",
   "execution_count": 20,
   "id": "909abcc6-aede-4e5c-aa69-2ca0e7796288",
   "metadata": {},
   "outputs": [
    {
     "data": {
      "text/plain": [
       "['date_recorded',\n",
       " 'funder',\n",
       " 'installer',\n",
       " 'wpt_name',\n",
       " 'basin',\n",
       " 'subvillage',\n",
       " 'region',\n",
       " 'lga',\n",
       " 'ward',\n",
       " 'public_meeting',\n",
       " 'recorded_by',\n",
       " 'scheme_management',\n",
       " 'scheme_name',\n",
       " 'permit',\n",
       " 'extraction_type',\n",
       " 'extraction_type_group',\n",
       " 'extraction_type_class',\n",
       " 'management',\n",
       " 'management_group',\n",
       " 'payment',\n",
       " 'payment_type',\n",
       " 'water_quality',\n",
       " 'quality_group',\n",
       " 'quantity',\n",
       " 'quantity_group',\n",
       " 'source',\n",
       " 'source_type',\n",
       " 'source_class',\n",
       " 'waterpoint_type',\n",
       " 'waterpoint_type_group',\n",
       " 'status_group']"
      ]
     },
     "execution_count": 20,
     "metadata": {},
     "output_type": "execute_result"
    }
   ],
   "source": [
    "#Look further at categorical columns\n",
    "#compare columns that seem to have overlap and decide which to keep/which to get rid of (ensuring no multicolinearity)\n",
    "categorical = [var for var in df.columns if df[var].dtype=='O']\n",
    "categorical"
   ]
  },
  {
   "cell_type": "code",
   "execution_count": 21,
   "id": "77a7c2cd-1b6f-4ae4-8dd9-0114e4414c63",
   "metadata": {},
   "outputs": [
    {
     "data": {
      "text/plain": [
       "GeoData Consultants Ltd    59400\n",
       "Name: recorded_by, dtype: int64"
      ]
     },
     "execution_count": 21,
     "metadata": {},
     "output_type": "execute_result"
    }
   ],
   "source": [
    "#same value for every record, will drop\n",
    "df['recorded_by'].value_counts()"
   ]
  },
  {
   "cell_type": "code",
   "execution_count": 22,
   "id": "c09bea78-f007-41fe-99bf-185157ac4c70",
   "metadata": {},
   "outputs": [
    {
     "data": {
      "text/plain": [
       "Lake Victoria              10248\n",
       "Pangani                     8940\n",
       "Rufiji                      7976\n",
       "Internal                    7785\n",
       "Lake Tanganyika             6432\n",
       "Wami / Ruvu                 5987\n",
       "Lake Nyasa                  5085\n",
       "Ruvuma / Southern Coast     4493\n",
       "Lake Rukwa                  2454\n",
       "Name: basin, dtype: int64"
      ]
     },
     "execution_count": 22,
     "metadata": {},
     "output_type": "execute_result"
    }
   ],
   "source": [
    "#will keep for now\n",
    "df['basin'].value_counts()"
   ]
  },
  {
   "cell_type": "code",
   "execution_count": 23,
   "id": "ccd59b4c-00d1-4943-9b6e-f7e5e58bd50d",
   "metadata": {},
   "outputs": [
    {
     "data": {
      "text/plain": [
       "management_group  management      \n",
       "user-group        vwc                 40507\n",
       "                  wug                  6515\n",
       "                  water board          2933\n",
       "                  wua                  2535\n",
       "commercial        private operator     1971\n",
       "parastatal        parastatal           1768\n",
       "commercial        water authority       904\n",
       "other             other                 844\n",
       "commercial        company               685\n",
       "unknown           unknown               561\n",
       "other             other - school         99\n",
       "commercial        trust                  78\n",
       "dtype: int64"
      ]
     },
     "execution_count": 23,
     "metadata": {},
     "output_type": "execute_result"
    }
   ],
   "source": [
    "#management group is slightly broader categories of the management column, I'll keep management_group\n",
    "df[['management_group', 'management']].value_counts()"
   ]
  },
  {
   "cell_type": "code",
   "execution_count": 24,
   "id": "5d831eb5-a235-4eb9-9293-598f2464d5eb",
   "metadata": {},
   "outputs": [
    {
     "data": {
      "text/plain": [
       "waterpoint_type_group  waterpoint_type            \n",
       "communal standpipe     communal standpipe             28522\n",
       "hand pump              hand pump                      17488\n",
       "other                  other                           6380\n",
       "communal standpipe     communal standpipe multiple     6103\n",
       "improved spring        improved spring                  784\n",
       "cattle trough          cattle trough                    116\n",
       "dam                    dam                                7\n",
       "dtype: int64"
      ]
     },
     "execution_count": 24,
     "metadata": {},
     "output_type": "execute_result"
    }
   ],
   "source": [
    "#waterpoint_type_group and waterpoint_type columns contain the same information:\n",
    "df[['waterpoint_type_group', 'waterpoint_type']].value_counts()"
   ]
  },
  {
   "cell_type": "code",
   "execution_count": 25,
   "id": "9f0b211f-e81d-4a4c-b740-d575b22c3806",
   "metadata": {},
   "outputs": [
    {
     "data": {
      "text/plain": [
       "VWC                 36793\n",
       "WUG                  5206\n",
       "Water authority      3153\n",
       "WUA                  2883\n",
       "Water Board          2748\n",
       "Parastatal           1680\n",
       "Private operator     1063\n",
       "Company              1061\n",
       "Other                 766\n",
       "SWC                    97\n",
       "Trust                  72\n",
       "None                    1\n",
       "Name: scheme_management, dtype: int64"
      ]
     },
     "execution_count": 25,
     "metadata": {},
     "output_type": "execute_result"
    }
   ],
   "source": [
    "df['scheme_management'].value_counts()"
   ]
  },
  {
   "cell_type": "code",
   "execution_count": 26,
   "id": "14b0faa5-5b42-4866-ad6e-181eecb0cacf",
   "metadata": {},
   "outputs": [
    {
     "data": {
      "text/plain": [
       "K                       682\n",
       "None                    644\n",
       "Borehole                546\n",
       "Chalinze wate           405\n",
       "M                       400\n",
       "                       ... \n",
       "BL K puchini Sisters      1\n",
       "Kirachi water supply      1\n",
       "Maga                      1\n",
       "Rain water harest         1\n",
       "Kayugi spring source      1\n",
       "Name: scheme_name, Length: 2696, dtype: int64"
      ]
     },
     "execution_count": 26,
     "metadata": {},
     "output_type": "execute_result"
    }
   ],
   "source": [
    "#reminder scheme_name has over half null values- will drop this column\n",
    "df['scheme_name'].value_counts()"
   ]
  },
  {
   "cell_type": "code",
   "execution_count": 27,
   "id": "646741b5-4047-462e-8679-79bde0daf5de",
   "metadata": {},
   "outputs": [
    {
     "data": {
      "text/plain": [
       "extraction_type_class  extraction_type_group  extraction_type          \n",
       "gravity                gravity                gravity                      26780\n",
       "handpump               nira/tanira            nira/tanira                   8154\n",
       "other                  other                  other                         6430\n",
       "submersible            submersible            submersible                   4764\n",
       "handpump               swn 80                 swn 80                        3670\n",
       "motorpump              mono                   mono                          2865\n",
       "handpump               india mark ii          india mark ii                 2400\n",
       "                       afridev                afridev                       1770\n",
       "submersible            submersible            ksb                           1415\n",
       "rope pump              rope pump              other - rope pump              451\n",
       "handpump               other handpump         other - swn 81                 229\n",
       "wind-powered           wind-powered           windmill                       117\n",
       "handpump               india mark iii         india mark iii                  98\n",
       "motorpump              other motorpump        cemo                            90\n",
       "handpump               other handpump         other - play pump               85\n",
       "                                              walimi                          48\n",
       "motorpump              other motorpump        climax                          32\n",
       "handpump               other handpump         other - mkulima/shinyanga        2\n",
       "dtype: int64"
      ]
     },
     "execution_count": 27,
     "metadata": {},
     "output_type": "execute_result"
    }
   ],
   "source": [
    "#extraction columns are very similar, going to keep extraction_type_class as it is cleaner/concise (all \"other..\" are in one \"other\" column. \n",
    "df[['extraction_type_class', 'extraction_type_group' , 'extraction_type']].value_counts()"
   ]
  },
  {
   "cell_type": "code",
   "execution_count": 28,
   "id": "2d8d4c14-a6a9-46f1-909d-9f5bb6ef2a89",
   "metadata": {},
   "outputs": [
    {
     "data": {
      "text/plain": [
       "payment_type  payment              \n",
       "never pay     never pay                25348\n",
       "per bucket    pay per bucket            8985\n",
       "monthly       pay monthly               8300\n",
       "unknown       unknown                   8157\n",
       "on failure    pay when scheme fails     3914\n",
       "annually      pay annually              3642\n",
       "other         other                     1054\n",
       "dtype: int64"
      ]
     },
     "execution_count": 28,
     "metadata": {},
     "output_type": "execute_result"
    }
   ],
   "source": [
    "#these have the same info just slightly different labels\n",
    "df[['payment_type', 'payment']].value_counts()"
   ]
  },
  {
   "cell_type": "code",
   "execution_count": 29,
   "id": "642ce376-7040-40ae-a6d4-bd2bb71846e5",
   "metadata": {},
   "outputs": [
    {
     "data": {
      "text/plain": [
       "water_quality       quality_group\n",
       "soft                good             50818\n",
       "salty               salty             4856\n",
       "unknown             unknown           1876\n",
       "milky               milky              804\n",
       "coloured            colored            490\n",
       "salty abandoned     salty              339\n",
       "fluoride            fluoride           200\n",
       "fluoride abandoned  fluoride            17\n",
       "dtype: int64"
      ]
     },
     "execution_count": 29,
     "metadata": {},
     "output_type": "execute_result"
    }
   ],
   "source": [
    "#quality_group almost the same as water_quality, for both, over 85% of the values are the same , these offer litle information gain\n",
    "#and have significant LACK of variance\n",
    "#will drop for now\n",
    "df[['water_quality', 'quality_group']].value_counts()"
   ]
  },
  {
   "cell_type": "code",
   "execution_count": 33,
   "id": "267a85c9-7459-43cd-8ff9-7ea1c7ce370e",
   "metadata": {},
   "outputs": [
    {
     "data": {
      "text/plain": [
       "quantity_group  quantity    \n",
       "enough          enough          33186\n",
       "insufficient    insufficient    15129\n",
       "dry             dry              6246\n",
       "seasonal        seasonal         4050\n",
       "unknown         unknown           789\n",
       "dtype: int64"
      ]
     },
     "execution_count": 33,
     "metadata": {},
     "output_type": "execute_result"
    }
   ],
   "source": [
    "#quantity_group and quantity are duplicates\n",
    "df[['quantity_group', 'quantity']].value_counts()"
   ]
  },
  {
   "cell_type": "code",
   "execution_count": 34,
   "id": "0f1877d3-1bab-41ae-b1ba-28a7cf14ac0b",
   "metadata": {},
   "outputs": [
    {
     "data": {
      "text/plain": [
       "groundwater    45794\n",
       "surface        13328\n",
       "unknown          278\n",
       "Name: source_class, dtype: int64"
      ]
     },
     "execution_count": 34,
     "metadata": {},
     "output_type": "execute_result"
    }
   ],
   "source": [
    "df['source_class'].value_counts()"
   ]
  },
  {
   "cell_type": "code",
   "execution_count": 35,
   "id": "97ec1cc2-4488-468b-b7f1-00a15da0158e",
   "metadata": {},
   "outputs": [
    {
     "data": {
      "text/plain": [
       "spring                  17021\n",
       "shallow well            16824\n",
       "machine dbh             11075\n",
       "river                    9612\n",
       "rainwater harvesting     2295\n",
       "hand dtw                  874\n",
       "lake                      765\n",
       "dam                       656\n",
       "other                     212\n",
       "unknown                    66\n",
       "Name: source, dtype: int64"
      ]
     },
     "execution_count": 35,
     "metadata": {},
     "output_type": "execute_result"
    }
   ],
   "source": [
    "df['source'].value_counts()"
   ]
  },
  {
   "cell_type": "code",
   "execution_count": 36,
   "id": "1fea3cc1-1f2f-4cb9-b8cf-028886a54395",
   "metadata": {},
   "outputs": [
    {
     "data": {
      "text/plain": [
       "spring                  17021\n",
       "shallow well            16824\n",
       "borehole                11949\n",
       "river/lake              10377\n",
       "rainwater harvesting     2295\n",
       "dam                       656\n",
       "other                     278\n",
       "Name: source_type, dtype: int64"
      ]
     },
     "execution_count": 36,
     "metadata": {},
     "output_type": "execute_result"
    }
   ],
   "source": [
    "#going to keep source_type where the distribution is more balanced.\n",
    "df['source_type'].value_counts()"
   ]
  },
  {
   "cell_type": "code",
   "execution_count": 37,
   "id": "3c9d1ea2-3105-4abf-8509-a42e68491913",
   "metadata": {},
   "outputs": [
    {
     "data": {
      "text/plain": [
       "True     51011\n",
       "False     5055\n",
       "Name: public_meeting, dtype: int64"
      ]
     },
     "execution_count": 37,
     "metadata": {},
     "output_type": "execute_result"
    }
   ],
   "source": [
    "#will One Hot Encode\n",
    "df['public_meeting'].value_counts()"
   ]
  },
  {
   "cell_type": "code",
   "execution_count": 38,
   "id": "68e74a47-fa4c-47e8-929d-4aed507cb7cd",
   "metadata": {},
   "outputs": [
    {
     "data": {
      "text/plain": [
       "0.05612794612794613"
      ]
     },
     "execution_count": 38,
     "metadata": {},
     "output_type": "execute_result"
    }
   ],
   "source": [
    "#percent missing of public_meeting column:\n",
    "pub_meet_null = (df['public_meeting'].isnull().sum() / len(df['public_meeting']))\n",
    "pub_meet_null"
   ]
  },
  {
   "cell_type": "code",
   "execution_count": 39,
   "id": "4e4f54e7-8b62-4933-94b8-2fdbb7f4cce2",
   "metadata": {},
   "outputs": [
    {
     "data": {
      "text/plain": [
       "True     38852\n",
       "False    17492\n",
       "Name: permit, dtype: int64"
      ]
     },
     "execution_count": 39,
     "metadata": {},
     "output_type": "execute_result"
    }
   ],
   "source": [
    "#will One Hot Encode\n",
    "df['permit'].value_counts()"
   ]
  },
  {
   "cell_type": "code",
   "execution_count": 40,
   "id": "78c5d78e-a58b-4ecb-8f7a-31955ed12fb1",
   "metadata": {},
   "outputs": [
    {
     "data": {
      "text/plain": [
       "0.05144781144781145"
      ]
     },
     "execution_count": 40,
     "metadata": {},
     "output_type": "execute_result"
    }
   ],
   "source": [
    "#percent missing of permit column:\n",
    "perm_null = (df['permit'].isnull().sum() / len(df['permit']))\n",
    "perm_null"
   ]
  },
  {
   "cell_type": "code",
   "execution_count": 41,
   "id": "5e18f27a-a577-48da-87ce-a4e2697b9fde",
   "metadata": {},
   "outputs": [
    {
     "data": {
      "text/plain": [
       "none                    3563\n",
       "Shuleni                 1748\n",
       "Zahanati                 830\n",
       "Msikitini                535\n",
       "Kanisani                 323\n",
       "                        ... \n",
       "Kwa Stephano Kwowero       1\n",
       "Kwa Gabriel George         1\n",
       "Kameteri                   1\n",
       "Kwa Daudi Milyango         1\n",
       "Naulongo                   1\n",
       "Name: wpt_name, Length: 37400, dtype: int64"
      ]
     },
     "execution_count": 41,
     "metadata": {},
     "output_type": "execute_result"
    }
   ],
   "source": [
    "#will drop, just name for waterpoint\n",
    "df['wpt_name'].value_counts()"
   ]
  },
  {
   "cell_type": "code",
   "execution_count": null,
   "id": "9fd72586-b5a7-42d1-97b8-6ada0264079f",
   "metadata": {},
   "outputs": [],
   "source": []
  },
  {
   "cell_type": "markdown",
   "id": "f6e8e96b-24eb-4540-8e5e-c10ebd034766",
   "metadata": {
    "jp-MarkdownHeadingCollapsed": true
   },
   "source": [
    "### Cleaning Funder & Installer Columns"
   ]
  },
  {
   "cell_type": "markdown",
   "id": "cc0e36d9-8c76-4009-bbb1-6e4f89cc9915",
   "metadata": {},
   "source": [
    "#df[['funder', 'installer']].value_counts()"
   ]
  },
  {
   "cell_type": "markdown",
   "id": "0b0ad12b-a62a-4176-bbd0-1f14a5d24f18",
   "metadata": {
    "jupyter": {
     "source_hidden": true
    }
   },
   "source": [
    "#len(df['installer'].value_counts())"
   ]
  },
  {
   "cell_type": "markdown",
   "id": "f30fdfbb-f7fe-4b07-8ece-4a891633c348",
   "metadata": {},
   "source": [
    "#len(df['funder'].value_counts())"
   ]
  },
  {
   "cell_type": "markdown",
   "id": "e4d54db7-83e3-41a0-aab1-56c2a854f8a9",
   "metadata": {},
   "source": [
    "#matches = (df['funder'] == df['installer'])\n",
    "#sum_of_matches = matches.sum()\n",
    "#print(sum_of_matches)"
   ]
  },
  {
   "cell_type": "markdown",
   "id": "8dc7d37a-8ede-4f5e-aba8-f7b46614346f",
   "metadata": {},
   "source": [
    "#The following code cell is copied from Leonard Gachimu. It cleans up the installer column.\n",
    "#https://github.com/leogachimu/Tanzania_Water_Wells_Classification/blob/main/student.ipynb\n",
    "\n",
    " Replace close variations and misspellings in the installer column\n",
    "\n",
    "df['installer'] = df['installer'].replace(to_replace = ('Central government', 'Tanzania Government',\n",
    "                                          'Cental Government','Tanzania government','Cebtral Government', \n",
    "                                          'Centra Government', 'central government', 'CENTRAL GOVERNMENT', \n",
    "                                          'TANZANIA GOVERNMENT', 'TANZANIAN GOVERNMENT', 'Central govt', \n",
    "                                          'Centr', 'Centra govt', 'Tanzanian Government', 'Tanzania', \n",
    "                                          'Tanz', 'Tanza', 'GOVERNMENT', \n",
    "                                          'GOVER', 'GOVERNME', 'GOVERM', 'GOVERN', 'Gover', 'Gove', 'gover', \n",
    "                                          'Governme', 'Governmen', 'Got', 'Serikali', 'Serikari', 'Government',\n",
    "                                          'Central Government'), \n",
    "                                          value = 'Central Government')\n",
    "\n",
    "df['installer'] = df['installer'].replace(to_replace = ('IDARA', 'Idara ya maji', 'MINISTRY OF WATER',\n",
    "                                          'Ministry of water', 'Ministry of water engineer', 'MINISTRYOF WATER', \n",
    "                                          'MWE &', 'MWE', 'Wizara ya maji', 'WIZARA', 'wizara ya maji',\n",
    "                                          'Ministry of Water'), \n",
    "                                          value ='Ministry of Water')\n",
    "\n",
    "df['installer'] = df['installer'].replace(to_replace = ('District COUNCIL', 'DISTRICT COUNCIL',\n",
    "                                          'Counc','District council','District Counci', \n",
    "                                          'Council', 'COUN', 'Distri', 'Halmashauri ya wilaya',\n",
    "                                          'Halmashauri wilaya', 'District Council'), \n",
    "                                          value = 'District  Council')\n",
    "\n",
    "df['installer'] = df['installer'].replace(to_replace = ('District water depar', 'District Water Department', \n",
    "                                          'District water department', 'Distric Water Department'),\n",
    "                                          value = 'District Water Department')\n",
    "\n",
    "df['installer'] = df['installer'].replace(to_replace = ('villigers', 'villager', 'villagers', 'Villa', 'Village',\n",
    "                                          'Villi', 'Village Council', 'Village Counil', 'Villages', 'Vill', \n",
    "                                          'Village community', 'Villaers', 'Village Community', 'Villag',\n",
    "                                          'Villege Council', 'Village council', 'Villege Council', 'Villagerd', \n",
    "                                          'Villager', 'VILLAGER', 'Villagers',  'Villagerd', 'Village Technician', \n",
    "                                          'Village water attendant', 'Village Office', 'VILLAGE COUNCIL',\n",
    "                                          'VILLAGE COUNCIL .ODA', 'VILLAGE COUNCIL Orpha', 'Village community members', \n",
    "                                          'VILLAG', 'VILLAGE', 'Village Government', 'Village government', \n",
    "                                          'Village Govt', 'Village govt', 'VILLAGERS', 'VILLAGE WATER COMMISSION',\n",
    "                                          'Village water committee', 'Commu', 'Communit', 'commu', 'COMMU', 'COMMUNITY', \n",
    "                                           'Comunity', 'Communit', 'Kijiji', 'Serikali ya kijiji', 'Community'), \n",
    "                                          value ='Community')\n",
    "\n",
    "df['installer'] = df['installer'].replace(to_replace = ('FinW', 'Fini water', 'FINI WATER', 'FIN WATER',\n",
    "                                          'Finwater', 'FINN WATER', 'FinW', 'FW', 'FinWater', 'FiNI WATER', 'fini water',\n",
    "                                          'FinWate', 'FINLAND', 'Fin Water', 'Finland Government'), \n",
    "                                          value ='Finnish Government')\n",
    "\n",
    "df['installer'] = df['installer'].replace(to_replace = ('RC CHURCH', 'RC Churc', 'RC', 'RC Ch', 'RC C', 'RC CH',\n",
    "                                          'RC church', 'RC CATHORIC', 'Roman Church', 'Roman Catholic',\n",
    "                                          'Roman catholic', 'Roman Ca', 'Roman', 'Romam', 'Roma', \n",
    "                                          'ROMAN CATHOLIC', 'Kanisa', 'Kanisa katoliki'), \n",
    "                                          value ='Roman Catholic Church')\n",
    "\n",
    "df['installer'] = df['installer'].replace(to_replace = ('Dmdd', 'DMDD'), value ='DMDD') \n",
    "\n",
    "df['installer'] = df['installer'].replace(to_replace = ('TASA', 'Tasaf', 'TASAF 1', 'TASAF/', 'TASF',\n",
    "                                          'TASSAF', 'TASAF'), value ='TASAF') \n",
    "\n",
    "df['installer'] = df['installer'].replace(to_replace = ('RW', 'RWE'), value ='RWE')\n",
    "\n",
    "df['installer'] = df['installer'].replace(to_replace = ('SEMA CO LTD', 'SEMA Consultant', 'SEMA'), value ='SEMA')\n",
    "\n",
    "df['installer'] = df['installer'].replace(to_replace = ('DW E', 'DW#', 'DW$', 'DWE&', 'DWE/', 'DWE}', \n",
    "                                         'DWEB', 'DWE', 'DW'), value ='DWE')\n",
    "\n",
    "df['installer'] = df['installer'].replace(to_replace = ('No', 'NORA', 'Norad', 'NORAD/', 'NORAD'), \n",
    "                                          value ='NORAD') \n",
    "\n",
    "df['installer'] = df['installer'].replace(to_replace = ('Ox', 'OXFARM', 'OXFAM'), value ='OXFAM') \n",
    "\n",
    "df['installer'] = df['installer'].replace(to_replace = ('PRIV', 'Priva', 'Privat', 'private', 'Private company',\n",
    "                                          'Private individuals', 'PRIVATE INSTITUTIONS', 'Private owned',\n",
    "                                          'Private person', 'Private Technician', 'Private'), \n",
    "                                          value ='Private') \n",
    "\n",
    "df['installer'] = df['installer'].replace(to_replace = ('Ch', 'CH', 'Chiko', 'CHINA', 'China',\n",
    "                                            'China Goverment'), value ='Chinese Goverment')\n",
    "\n",
    "df['installer'] = df['installer'].replace(to_replace = ('Unisef','Unicef', 'UNICEF'), value ='UNICEF')\n",
    "                                          \n",
    "df['installer'] = df['installer'].replace(to_replace = ('Wedeco','WEDEKO', 'WEDECO'), value ='WEDECO')\n",
    "\n",
    "df['installer'] = df['installer'].replace(to_replace = ('Wo','WB', 'Word Bank', 'Word bank', 'WBK',\n",
    "                                          'WORDL BANK', 'World', 'world', 'WORLD BANK', 'World bank',\n",
    "                                          'world banks', 'World banks', 'WOULD BANK', 'World Bank'), \n",
    "                                          value ='World Bank')\n",
    "                                          \n",
    "df['installer'] = df['installer'].replace(to_replace = ('Lga', 'LGA'), value ='LGA')\n",
    "\n",
    "df['installer'] = df['installer'].replace(to_replace = ('World Division', 'World Visiin', \n",
    "                                         'World vision', 'WORLD VISION', 'world vision', 'World Vission', \n",
    "                                          'World Vision'), \n",
    "                                          value ='World Vision')\n",
    "\n",
    "df['installer'] = df['installer'].replace(to_replace = ('Local', 'Local technician', 'Local  technician',\n",
    "                                         'local  technician', 'LOCAL CONTRACT', 'local fundi', \n",
    "                                         'Local l technician', 'Local te', 'Local technical', 'Local technical tec',\n",
    "                                         'local technical tec', 'local technician', 'Local technitian',\n",
    "                                         'local technitian', 'Locall technician', 'Localtechnician',\n",
    "                                         'Local Contractor'), \n",
    "                                          value ='Local Contractor')\n",
    "                                          \n",
    "df['installer'] = df['installer'].replace(to_replace = ('DANID', 'DANNY', 'DANNIDA', 'DANIDS', \n",
    "                                         'DANIDA CO', 'DANID', 'Danid', 'DANIAD', 'Danda', 'DA',\n",
    "                                         'DENISH', 'DANIDA'), \n",
    "                                          value ='DANIDA')\n",
    "\n",
    "df['installer'] = df['installer'].replace(to_replace =('Adrs', 'Adra', 'ADRA'), value ='ADRA')\n",
    "                                          \n",
    "df['installer'] = df['installer'].replace(to_replace = ('Hesawa', 'hesawa', 'HESAW', 'hesaw',\n",
    "                                          'HESAWQ', 'HESAWS', 'HESAWZ', 'hesawz', 'hesewa', 'HSW',\n",
    "                                          'HESAWA'),\n",
    "                                          value ='HESAWA')\n",
    "\n",
    "df['installer'] = df['installer'].replace(to_replace = ('Jaica', 'JAICA', 'Jica', 'Jeica', 'JAICA CO', 'JALCA',\n",
    "                                          'Japan', 'JAPAN', 'JAPAN EMBASSY', 'Japan Government', 'Jicks',\n",
    "                                          'JIKA', 'jika', 'jiks', 'Embasy of Japan in Tanzania', 'JICA'), \n",
    "                                          value ='JICA')\n",
    "\n",
    "df['installer'] = df['installer'].replace(to_replace = ('KKT', 'KK', 'KKKT Church', 'KkKT', 'KKT C',\n",
    "                                          'KKKT'), value ='KKKT')\n",
    "\n",
    "df['installer'] = df['installer'].replace(to_replace = ('0', 'Not Known', 'not known', 'Not kno'), value ='other')"
   ]
  },
  {
   "cell_type": "markdown",
   "id": "c6c367b5-26c5-4556-84b5-2690d78c976f",
   "metadata": {},
   "source": [
    "#The following code cell is copied from Leonard Gachimu. I switched 'installer' to be 'funder' for this cell of code so that\\\n",
    "#it cleans up the funder column.\n",
    "#https://github.com/leogachimu/Tanzania_Water_Wells_Classification/blob/main/student.ipynb\n",
    "\n",
    " Replace close variations and misspellings in the funder column\n",
    "\n",
    "df['funder'] = df['funder'].replace(to_replace = ('Central government', 'Tanzania Government',\n",
    "                                          'Cental Government','Tanzania government','Cebtral Government', \n",
    "                                          'Centra Government', 'central government', 'CENTRAL GOVERNMENT', \n",
    "                                          'TANZANIA GOVERNMENT', 'TANZANIAN GOVERNMENT', 'Central govt', \n",
    "                                          'Centr', 'Centra govt', 'Tanzanian Government', 'Tanzania', \n",
    "                                          'Tanz', 'Tanza', 'GOVERNMENT', \n",
    "                                          'GOVER', 'GOVERNME', 'GOVERM', 'GOVERN', 'Gover', 'Gove', 'gover', \n",
    "                                          'Governme', 'Governmen', 'Got', 'Serikali', 'Serikari', 'Government',\n",
    "                                          'Central Government'), \n",
    "                                          value = 'Central Government')\n",
    "\n",
    "df['funder'] = df['funder'].replace(to_replace = ('IDARA', 'Idara ya maji', 'MINISTRY OF WATER',\n",
    "                                          'Ministry of water', 'Ministry of water engineer', 'MINISTRYOF WATER', \n",
    "                                          'MWE &', 'MWE', 'Wizara ya maji', 'WIZARA', 'wizara ya maji',\n",
    "                                          'Ministry of Water'), \n",
    "                                          value ='Ministry of Water')\n",
    "\n",
    "df['funder'] = df['funder'].replace(to_replace = ('District COUNCIL', 'DISTRICT COUNCIL',\n",
    "                                          'Counc','District council','District Counci', \n",
    "                                          'Council', 'COUN', 'Distri', 'Halmashauri ya wilaya',\n",
    "                                          'Halmashauri wilaya', 'District Council'), \n",
    "                                          value = 'District  Council')\n",
    "\n",
    "df['funder'] = df['funder'].replace(to_replace = ('District water depar', 'District Water Department', \n",
    "                                          'District water department', 'Distric Water Department'),\n",
    "                                          value = 'District Water Department')\n",
    "\n",
    "df['funder'] = df['funder'].replace(to_replace = ('villigers', 'villager', 'villagers', 'Villa', 'Village',\n",
    "                                          'Villi', 'Village Council', 'Village Counil', 'Villages', 'Vill', \n",
    "                                          'Village community', 'Villaers', 'Village Community', 'Villag',\n",
    "                                          'Villege Council', 'Village council', 'Villege Council', 'Villagerd', \n",
    "                                          'Villager', 'VILLAGER', 'Villagers',  'Villagerd', 'Village Technician', \n",
    "                                          'Village water attendant', 'Village Office', 'VILLAGE COUNCIL',\n",
    "                                          'VILLAGE COUNCIL .ODA', 'VILLAGE COUNCIL Orpha', 'Village community members', \n",
    "                                          'VILLAG', 'VILLAGE', 'Village Government', 'Village government', \n",
    "                                          'Village Govt', 'Village govt', 'VILLAGERS', 'VILLAGE WATER COMMISSION',\n",
    "                                          'Village water committee', 'Commu', 'Communit', 'commu', 'COMMU', 'COMMUNITY', \n",
    "                                           'Comunity', 'Communit', 'Kijiji', 'Serikali ya kijiji', 'Community'), \n",
    "                                          value ='Community')\n",
    "\n",
    "df['funder'] = df['funder'].replace(to_replace = ('FinW', 'Fini water', 'FINI WATER', 'FIN WATER',\n",
    "                                          'Finwater', 'FINN WATER', 'FinW', 'FW', 'FinWater', 'FiNI WATER', 'fini water', \n",
    "                                          'FinWate', 'FINLAND', 'Fin Water', 'Finland Government'), \n",
    "                                          value ='Finnish Government')\n",
    "\n",
    "df['funder'] = df['funder'].replace(to_replace = ('RC CHURCH', 'RC Churc', 'RC', 'RC Ch', 'RC C', 'RC CH',\n",
    "                                          'RC church', 'RC CATHORIC', 'Roman Church', 'Roman Catholic',\n",
    "                                          'Roman catholic', 'Roman Ca', 'Roman', 'Romam', 'Roma', \n",
    "                                          'ROMAN CATHOLIC', 'Kanisa', 'Kanisa katoliki'), \n",
    "                                          value ='Roman Catholic Church')\n",
    "\n",
    "df['funder'] = df['funder'].replace(to_replace = ('Dmdd', 'DMDD'), value ='DMDD') \n",
    "\n",
    "df['funder'] = df['funder'].replace(to_replace = ('TASA', 'Tasaf', 'TASAF 1', 'TASAF/', 'TASF',\n",
    "                                          'TASSAF', 'TASAF'), value ='TASAF') \n",
    "\n",
    "df['funder'] = df['funder'].replace(to_replace = ('RW', 'RWE'), value ='RWE')\n",
    "\n",
    "df['funder'] = df['funder'].replace(to_replace = ('SEMA CO LTD', 'SEMA Consultant', 'SEMA'), value ='SEMA')\n",
    "\n",
    "df['funder'] = df['funder'].replace(to_replace = ('DW E', 'DW#', 'DW$', 'DWE&', 'DWE/', 'DWE}', \n",
    "                                         'DWEB', 'DWE', 'DW'), value ='DWE')\n",
    "\n",
    "df['funder'] = df['funder'].replace(to_replace = ('No', 'NORA', 'Norad', 'NORAD/', 'NORAD'), \n",
    "                                          value ='NORAD') \n",
    "\n",
    "df['funder'] = df['funder'].replace(to_replace = ('Ox', 'OXFARM', 'OXFAM'), value ='OXFAM') \n",
    "\n",
    "df['funder'] = df['funder'].replace(to_replace = ('PRIV', 'Priva', 'Privat', 'private', 'Private company',\n",
    "                                          'Private individuals', 'PRIVATE INSTITUTIONS', 'Private owned',\n",
    "                                          'Private person', 'Private Technician', 'Private'), \n",
    "                                          value ='Private') \n",
    "\n",
    "df['funder'] = df['funder'].replace(to_replace = ('Ch', 'CH', 'Chiko', 'CHINA', 'China',\n",
    "                                            'China Goverment'), value ='Chinese Goverment')\n",
    "\n",
    "df['funder'] = df['funder'].replace(to_replace = ('Unisef','Unicef', 'UNICEF'), value ='UNICEF')\n",
    "                                          \n",
    "df['funder'] = df['funder'].replace(to_replace = ('Wedeco','WEDEKO', 'WEDECO'), value ='WEDECO')\n",
    "\n",
    "df['funder'] = df['funder'].replace(to_replace = ('Wo','WB', 'Word Bank', 'Word bank', 'WBK',\n",
    "                                          'WORDL BANK', 'World', 'world', 'WORLD BANK', 'World bank',\n",
    "                                          'world banks', 'World banks', 'WOULD BANK', 'World Bank'), \n",
    "                                          value ='World Bank')\n",
    "                                          \n",
    "df['funder'] = df['funder'].replace(to_replace = ('Lga', 'LGA'), value ='LGA')\n",
    "\n",
    "df['funder'] = df['funder'].replace(to_replace = ('World Division', 'World Visiin', \n",
    "                                         'World vision', 'WORLD VISION', 'world vision', 'World Vission', \n",
    "                                          'World Vision'), \n",
    "                                          value ='World Vision')\n",
    "\n",
    "df['funder'] = df['funder'].replace(to_replace = ('Local', 'Local technician', 'Local  technician',\n",
    "                                         'local  technician', 'LOCAL CONTRACT', 'local fundi', \n",
    "                                         'Local l technician', 'Local te', 'Local technical', 'Local technical tec',\n",
    "                                         'local technical tec', 'local technician', 'Local technitian',\n",
    "                                         'local technitian', 'Locall technician', 'Localtechnician',\n",
    "                                         'Local Contractor'), \n",
    "                                          value ='Local Contractor')\n",
    "                                          \n",
    "df['funder'] = df['funder'].replace(to_replace = ('DANID', 'DANNY', 'DANNIDA', 'DANIDS', \n",
    "                                         'DANIDA CO', 'DANID', 'Danid', 'DANIAD', 'Danda', 'DA',\n",
    "                                         'DENISH', 'DANIDA'), \n",
    "                                          value ='DANIDA')\n",
    "\n",
    "df['funder'] = df['funder'].replace(to_replace =('Adrs', 'Adra', 'ADRA'), value ='ADRA')\n",
    "                                          \n",
    "df['funder'] = df['funder'].replace(to_replace = ('Hesawa', 'hesawa', 'HESAW', 'hesaw',\n",
    "                                          'HESAWQ', 'HESAWS', 'HESAWZ', 'hesawz', 'hesewa', 'HSW',\n",
    "                                          'HESAWA'),\n",
    "                                          value ='HESAWA')\n",
    "\n",
    "df['funder'] = df['funder'].replace(to_replace = ('Jaica', 'JAICA', 'Jica', 'Jeica', 'JAICA CO', 'JALCA',\n",
    "                                          'Japan', 'JAPAN', 'JAPAN EMBASSY', 'Japan Government', 'Jicks',\n",
    "                                          'JIKA', 'jika', 'jiks', 'Embasy of Japan in Tanzania', 'JICA'), \n",
    "                                          value ='JICA')\n",
    "\n",
    "df['funder'] = df['funder'].replace(to_replace = ('KKT', 'KK', 'KKKT Church', 'KkKT', 'KKT C',\n",
    "                                          'KKKT'), value ='KKKT')\n",
    "\n",
    "df['funder'] = df['funder'].replace(to_replace = ('0', 'Not Known', 'not known', 'Not kno'), value ='other')"
   ]
  },
  {
   "cell_type": "markdown",
   "id": "8758fa05-55ba-458b-9809-291fb4b3e755",
   "metadata": {},
   "source": [
    "#df['funder'] = df['funder'].str.lower()\n",
    "#df['installer'] = df['installer'].str.lower()"
   ]
  },
  {
   "cell_type": "markdown",
   "id": "ae374f47-3288-4742-9c74-e3c764a9d888",
   "metadata": {},
   "source": [
    "#matches = (df['funder'] == df['installer'])\n",
    "#sum_of_matches = matches.sum()\n",
    "#print(sum_of_matches)"
   ]
  },
  {
   "cell_type": "markdown",
   "id": "13f738c8-28eb-495f-8760-14d17adac462",
   "metadata": {
    "scrolled": true
   },
   "source": [
    "#df['funder'].value_counts()"
   ]
  },
  {
   "cell_type": "markdown",
   "id": "734ce514-8f28-4faa-9560-ea7a17fbfc84",
   "metadata": {},
   "source": [
    "#df['installer'].value_counts()"
   ]
  },
  {
   "cell_type": "markdown",
   "id": "5e3eb89c-1c29-4fbd-9656-9e72972662ec",
   "metadata": {},
   "source": [
    "#funder_counts = df['funder'].value_counts()\n",
    "#rare_funders = funder_counts[funder_counts < 50].index\n",
    "#df['funder'] = df['funder'].replace(rare_funders, 'other')"
   ]
  },
  {
   "cell_type": "markdown",
   "id": "dedd1693-3c2e-40e6-ac74-b9bab46bddd5",
   "metadata": {},
   "source": [
    "#installer_counts = df['installer'].value_counts()\n",
    "#rare_installers = installer_counts[installer_counts < 50].index\n",
    "#df['installer'] = df['installer'].replace(rare_installers, 'other')"
   ]
  },
  {
   "cell_type": "markdown",
   "id": "d4d42e19-c26f-40ee-87df-56f5bd45b8bb",
   "metadata": {},
   "source": [
    "#len(df['installer'].value_counts())"
   ]
  },
  {
   "cell_type": "markdown",
   "id": "232f57e7-7dbd-4bcd-ad57-fcabb82c1257",
   "metadata": {},
   "source": [
    "#len(df['funder'].value_counts())"
   ]
  },
  {
   "cell_type": "markdown",
   "id": "3683356d-1d7f-4c57-a213-a17aebad82e1",
   "metadata": {},
   "source": [
    "#df['installer'].value_counts()[:50]"
   ]
  },
  {
   "cell_type": "markdown",
   "id": "79e8e921-2cfc-49eb-bdb5-aa0f0ab1d307",
   "metadata": {},
   "source": [
    "#df['funder'].value_counts()"
   ]
  },
  {
   "cell_type": "markdown",
   "id": "b2f3c148-03e1-4d82-8a35-b0ecb144fff7",
   "metadata": {},
   "source": [
    "#df.isna().sum()"
   ]
  },
  {
   "cell_type": "markdown",
   "id": "1b9d500f-58ec-4b13-b891-cbc64a4f4606",
   "metadata": {},
   "source": [
    "#rows with missing data in funder and installer account for about 6% each of the rows of the data. will drop these rows.\n",
    "#df = df.dropna(subset=['funder', 'installer'])"
   ]
  },
  {
   "cell_type": "markdown",
   "id": "30d2d94a-3a91-400c-8c3e-a5f137cb5dc2",
   "metadata": {},
   "source": [
    "#df.shape"
   ]
  },
  {
   "cell_type": "markdown",
   "id": "a465bbf1-3843-43cf-9ded-83e95f152bbb",
   "metadata": {},
   "source": [
    "#52057/59400"
   ]
  },
  {
   "cell_type": "markdown",
   "id": "b5ef52d0-d714-485b-87cb-df15c4f99a10",
   "metadata": {},
   "source": [
    "#Use chi2_contingency to check which column has a stronger relationship with status_group\n",
    "from scipy.stats import chi2_contingency\n",
    "\n",
    "#contingency table for funder vs status_group\n",
    "funder_contingency_table = pd.crosstab(df['funder'], df['status_group'])\n",
    "chi2_funder, p_funder, _, _ = chi2_contingency(funder_contingency_table)\n",
    "\n",
    "#contingency table for installer vs status_group\n",
    "installer_contingency_table = pd.crosstab(df['installer'], df['status_group'])\n",
    "chi2_installer, p_installer, _, _ = chi2_contingency(installer_contingency_table)\n",
    "\n",
    "print(f\"Funder Chi-Square Statistic: {chi2_funder:.2f}, P-value: {p_funder:.4f}\")\n",
    "print(f\"Installer Chi-Square Statistic: {chi2_installer:.2f}, P-value: {p_installer:.4f}\")\n",
    "\n",
    "#compare and print results:\n",
    "if chi2_funder > chi2_installer:\n",
    "    print(\"\\n 'funder' has a stronger relationship with the target.\")\n",
    "else:\n",
    "    print(\"\\n 'installer' has a stronger relationship with the target.\")"
   ]
  },
  {
   "cell_type": "markdown",
   "id": "4fc19e92-5c87-40b5-810b-62a762cf3626",
   "metadata": {},
   "source": [
    "## Dropping Categorical Columns:"
   ]
  },
  {
   "cell_type": "markdown",
   "id": "9a9fcd6a-6189-473b-82a9-31e7527f5df4",
   "metadata": {},
   "source": [
    "As you can see, many categorical column pairs have duplicate and/or very similar information. The following are the categorical columns that I will drop as well as the reason to drop:\\\n",
    "**recorded_by**: This is the same string for every entry\\\n",
    "**management**: I will keep management_group which contains slightly broader categories of management\\\n",
    "**waterpoint_type**: redundant with waterpoint_type_group\\\n",
    "**payment**: redundant with payment_type\\\n",
    "**extraction_type** & **extraction_type_group**: keeping extraction_type_class so these are not necessary\\\n",
    "**date_recorded**: I'm keeping construction_year so this is not necessary\\\n",
    "**source_class** & **source**: dropping these as I'll be keeping source_type\\\n",
    "**quantity_group**: redundant with quantity\\\n",
    "**quality_group** & **water_quality**: both have 85% of the values that are the same, lack of variance \\\n",
    "**wpt_name**: just a name for the waterpoint, won't help with modeling\\\n",
    "**subvillage**, **lga**, **ward**: can all be represented by region column\\\n",
    "**scheme_name**: contains too many unique values and too many nulls, keeping scheme_management\\\n",
    "**funder** & **installer**: both have very very high cardinality"
   ]
  },
  {
   "cell_type": "code",
   "execution_count": 42,
   "id": "c0cd0170-9aed-4249-b424-e12136eedcd3",
   "metadata": {},
   "outputs": [],
   "source": [
    "df_cleaned = df.drop(['recorded_by', 'management', 'waterpoint_type', 'payment', 'extraction_type', 'extraction_type_group', \n",
    "        'date_recorded', 'source_class', 'source', 'quantity_group', 'quality_group', 'water_quality', 'wpt_name', 'subvillage', 'lga', 'ward',\n",
    "         'scheme_name', 'funder', 'installer'], axis=1)"
   ]
  },
  {
   "cell_type": "code",
   "execution_count": 43,
   "id": "8bc43e54-2251-43cc-a7ad-134f91477cb6",
   "metadata": {},
   "outputs": [
    {
     "name": "stdout",
     "output_type": "stream",
     "text": [
      "Percentage of null values per column:\n",
      "                         column_name  percent_missing\n",
      "scheme_management  scheme_management         6.526936\n",
      "public_meeting        public_meeting         5.612795\n",
      "permit                        permit         5.144781\n"
     ]
    }
   ],
   "source": [
    "#check what's left that has missing values:\n",
    "percent_missing = (df_cleaned.isnull().sum() / len(df_cleaned)) * 100\n",
    "\n",
    "#only show columns with nulls\n",
    "missing_value_df = pd.DataFrame({'column_name': df_cleaned.columns,\n",
    "                                 'percent_missing': percent_missing})\n",
    "missing_value_df = missing_value_df[missing_value_df['percent_missing'] > 0]\n",
    "\n",
    "#print result\n",
    "print(\"Percentage of null values per column:\")\n",
    "print(missing_value_df.sort_values('percent_missing', ascending=False))"
   ]
  },
  {
   "cell_type": "code",
   "execution_count": 44,
   "id": "a38dc5f6-c2e5-4232-b7a2-7d53bc6e8390",
   "metadata": {},
   "outputs": [],
   "source": [
    "#drop rows where permit, public_meeting, and scheme_management have missing values:\n",
    "df_cleaned1 = df_cleaned.dropna(subset=['permit', 'public_meeting', 'scheme_management'])"
   ]
  },
  {
   "cell_type": "code",
   "execution_count": 45,
   "id": "4733fde7-7c1b-45b7-b11c-2cb8944988ec",
   "metadata": {},
   "outputs": [
    {
     "data": {
      "text/plain": [
       "(49841, 22)"
      ]
     },
     "execution_count": 45,
     "metadata": {},
     "output_type": "execute_result"
    }
   ],
   "source": [
    "df_cleaned1.shape"
   ]
  },
  {
   "cell_type": "code",
   "execution_count": 46,
   "id": "b7d5c226-bfd3-4181-b17f-2a62aa3345ad",
   "metadata": {},
   "outputs": [
    {
     "data": {
      "text/html": [
       "<div>\n",
       "<style scoped>\n",
       "    .dataframe tbody tr th:only-of-type {\n",
       "        vertical-align: middle;\n",
       "    }\n",
       "\n",
       "    .dataframe tbody tr th {\n",
       "        vertical-align: top;\n",
       "    }\n",
       "\n",
       "    .dataframe thead th {\n",
       "        text-align: right;\n",
       "    }\n",
       "</style>\n",
       "<table border=\"1\" class=\"dataframe\">\n",
       "  <thead>\n",
       "    <tr style=\"text-align: right;\">\n",
       "      <th></th>\n",
       "      <th>id</th>\n",
       "      <th>amount_tsh</th>\n",
       "      <th>gps_height</th>\n",
       "      <th>longitude</th>\n",
       "      <th>latitude</th>\n",
       "      <th>num_private</th>\n",
       "      <th>basin</th>\n",
       "      <th>region</th>\n",
       "      <th>region_code</th>\n",
       "      <th>district_code</th>\n",
       "      <th>...</th>\n",
       "      <th>scheme_management</th>\n",
       "      <th>permit</th>\n",
       "      <th>construction_year</th>\n",
       "      <th>extraction_type_class</th>\n",
       "      <th>management_group</th>\n",
       "      <th>payment_type</th>\n",
       "      <th>quantity</th>\n",
       "      <th>source_type</th>\n",
       "      <th>waterpoint_type_group</th>\n",
       "      <th>status_group</th>\n",
       "    </tr>\n",
       "  </thead>\n",
       "  <tbody>\n",
       "    <tr>\n",
       "      <th>0</th>\n",
       "      <td>69572</td>\n",
       "      <td>6000.0</td>\n",
       "      <td>1390</td>\n",
       "      <td>34.938093</td>\n",
       "      <td>-9.856322</td>\n",
       "      <td>0</td>\n",
       "      <td>Lake Nyasa</td>\n",
       "      <td>Iringa</td>\n",
       "      <td>11</td>\n",
       "      <td>5</td>\n",
       "      <td>...</td>\n",
       "      <td>VWC</td>\n",
       "      <td>False</td>\n",
       "      <td>1999</td>\n",
       "      <td>gravity</td>\n",
       "      <td>user-group</td>\n",
       "      <td>annually</td>\n",
       "      <td>enough</td>\n",
       "      <td>spring</td>\n",
       "      <td>communal standpipe</td>\n",
       "      <td>functional</td>\n",
       "    </tr>\n",
       "    <tr>\n",
       "      <th>2</th>\n",
       "      <td>34310</td>\n",
       "      <td>25.0</td>\n",
       "      <td>686</td>\n",
       "      <td>37.460664</td>\n",
       "      <td>-3.821329</td>\n",
       "      <td>0</td>\n",
       "      <td>Pangani</td>\n",
       "      <td>Manyara</td>\n",
       "      <td>21</td>\n",
       "      <td>4</td>\n",
       "      <td>...</td>\n",
       "      <td>VWC</td>\n",
       "      <td>True</td>\n",
       "      <td>2009</td>\n",
       "      <td>gravity</td>\n",
       "      <td>user-group</td>\n",
       "      <td>per bucket</td>\n",
       "      <td>enough</td>\n",
       "      <td>dam</td>\n",
       "      <td>communal standpipe</td>\n",
       "      <td>functional</td>\n",
       "    </tr>\n",
       "    <tr>\n",
       "      <th>3</th>\n",
       "      <td>67743</td>\n",
       "      <td>0.0</td>\n",
       "      <td>263</td>\n",
       "      <td>38.486161</td>\n",
       "      <td>-11.155298</td>\n",
       "      <td>0</td>\n",
       "      <td>Ruvuma / Southern Coast</td>\n",
       "      <td>Mtwara</td>\n",
       "      <td>90</td>\n",
       "      <td>63</td>\n",
       "      <td>...</td>\n",
       "      <td>VWC</td>\n",
       "      <td>True</td>\n",
       "      <td>1986</td>\n",
       "      <td>submersible</td>\n",
       "      <td>user-group</td>\n",
       "      <td>never pay</td>\n",
       "      <td>dry</td>\n",
       "      <td>borehole</td>\n",
       "      <td>communal standpipe</td>\n",
       "      <td>needs repair</td>\n",
       "    </tr>\n",
       "    <tr>\n",
       "      <th>5</th>\n",
       "      <td>9944</td>\n",
       "      <td>20.0</td>\n",
       "      <td>0</td>\n",
       "      <td>39.172796</td>\n",
       "      <td>-4.765587</td>\n",
       "      <td>0</td>\n",
       "      <td>Pangani</td>\n",
       "      <td>Tanga</td>\n",
       "      <td>4</td>\n",
       "      <td>8</td>\n",
       "      <td>...</td>\n",
       "      <td>VWC</td>\n",
       "      <td>True</td>\n",
       "      <td>2009</td>\n",
       "      <td>submersible</td>\n",
       "      <td>user-group</td>\n",
       "      <td>per bucket</td>\n",
       "      <td>enough</td>\n",
       "      <td>other</td>\n",
       "      <td>communal standpipe</td>\n",
       "      <td>functional</td>\n",
       "    </tr>\n",
       "    <tr>\n",
       "      <th>6</th>\n",
       "      <td>19816</td>\n",
       "      <td>0.0</td>\n",
       "      <td>0</td>\n",
       "      <td>33.362410</td>\n",
       "      <td>-3.766365</td>\n",
       "      <td>0</td>\n",
       "      <td>Internal</td>\n",
       "      <td>Shinyanga</td>\n",
       "      <td>17</td>\n",
       "      <td>3</td>\n",
       "      <td>...</td>\n",
       "      <td>VWC</td>\n",
       "      <td>True</td>\n",
       "      <td>0</td>\n",
       "      <td>handpump</td>\n",
       "      <td>user-group</td>\n",
       "      <td>never pay</td>\n",
       "      <td>enough</td>\n",
       "      <td>borehole</td>\n",
       "      <td>hand pump</td>\n",
       "      <td>needs repair</td>\n",
       "    </tr>\n",
       "  </tbody>\n",
       "</table>\n",
       "<p>5 rows × 22 columns</p>\n",
       "</div>"
      ],
      "text/plain": [
       "      id  amount_tsh  gps_height  longitude   latitude  num_private  \\\n",
       "0  69572      6000.0        1390  34.938093  -9.856322            0   \n",
       "2  34310        25.0         686  37.460664  -3.821329            0   \n",
       "3  67743         0.0         263  38.486161 -11.155298            0   \n",
       "5   9944        20.0           0  39.172796  -4.765587            0   \n",
       "6  19816         0.0           0  33.362410  -3.766365            0   \n",
       "\n",
       "                     basin     region  region_code  district_code  ...  \\\n",
       "0               Lake Nyasa     Iringa           11              5  ...   \n",
       "2                  Pangani    Manyara           21              4  ...   \n",
       "3  Ruvuma / Southern Coast     Mtwara           90             63  ...   \n",
       "5                  Pangani      Tanga            4              8  ...   \n",
       "6                 Internal  Shinyanga           17              3  ...   \n",
       "\n",
       "   scheme_management permit construction_year extraction_type_class  \\\n",
       "0                VWC  False              1999               gravity   \n",
       "2                VWC   True              2009               gravity   \n",
       "3                VWC   True              1986           submersible   \n",
       "5                VWC   True              2009           submersible   \n",
       "6                VWC   True                 0              handpump   \n",
       "\n",
       "   management_group payment_type quantity source_type waterpoint_type_group  \\\n",
       "0        user-group     annually   enough      spring    communal standpipe   \n",
       "2        user-group   per bucket   enough         dam    communal standpipe   \n",
       "3        user-group    never pay      dry    borehole    communal standpipe   \n",
       "5        user-group   per bucket   enough       other    communal standpipe   \n",
       "6        user-group    never pay   enough    borehole             hand pump   \n",
       "\n",
       "   status_group  \n",
       "0    functional  \n",
       "2    functional  \n",
       "3  needs repair  \n",
       "5    functional  \n",
       "6  needs repair  \n",
       "\n",
       "[5 rows x 22 columns]"
      ]
     },
     "execution_count": 46,
     "metadata": {},
     "output_type": "execute_result"
    }
   ],
   "source": [
    "df_cleaned1.head()"
   ]
  },
  {
   "cell_type": "code",
   "execution_count": 47,
   "id": "ad220cba-f6bb-47b3-9d36-a3545e8d9556",
   "metadata": {},
   "outputs": [
    {
     "data": {
      "text/plain": [
       "['basin',\n",
       " 'region',\n",
       " 'public_meeting',\n",
       " 'scheme_management',\n",
       " 'permit',\n",
       " 'extraction_type_class',\n",
       " 'management_group',\n",
       " 'payment_type',\n",
       " 'quantity',\n",
       " 'source_type',\n",
       " 'waterpoint_type_group',\n",
       " 'status_group']"
      ]
     },
     "execution_count": 47,
     "metadata": {},
     "output_type": "execute_result"
    }
   ],
   "source": [
    "#print categorical columns after dropping some:\n",
    "cat_clean = [var for var in df_cleaned1.columns if df_cleaned1[var].dtype=='O']\n",
    "cat_clean"
   ]
  },
  {
   "cell_type": "code",
   "execution_count": 48,
   "id": "f3eedd4c-b21b-4170-bba2-96a98fbd594b",
   "metadata": {},
   "outputs": [
    {
     "data": {
      "text/plain": [
       "id                       0\n",
       "amount_tsh               0\n",
       "gps_height               0\n",
       "longitude                0\n",
       "latitude                 0\n",
       "num_private              0\n",
       "basin                    0\n",
       "region                   0\n",
       "region_code              0\n",
       "district_code            0\n",
       "population               0\n",
       "public_meeting           0\n",
       "scheme_management        0\n",
       "permit                   0\n",
       "construction_year        0\n",
       "extraction_type_class    0\n",
       "management_group         0\n",
       "payment_type             0\n",
       "quantity                 0\n",
       "source_type              0\n",
       "waterpoint_type_group    0\n",
       "status_group             0\n",
       "dtype: int64"
      ]
     },
     "execution_count": 48,
     "metadata": {},
     "output_type": "execute_result"
    }
   ],
   "source": [
    "#double check for nulls:\n",
    "df_cleaned1.isna().sum()"
   ]
  },
  {
   "cell_type": "markdown",
   "id": "86eca9c8-aa2a-4ba6-8fdd-6f62d655fd01",
   "metadata": {},
   "source": [
    "### Cleaning Numerical Columns:"
   ]
  },
  {
   "cell_type": "code",
   "execution_count": 49,
   "id": "b8255f78-18c0-49f8-848a-af31460b3c00",
   "metadata": {},
   "outputs": [
    {
     "data": {
      "text/plain": [
       "['id',\n",
       " 'amount_tsh',\n",
       " 'gps_height',\n",
       " 'longitude',\n",
       " 'latitude',\n",
       " 'num_private',\n",
       " 'region_code',\n",
       " 'district_code',\n",
       " 'population',\n",
       " 'construction_year']"
      ]
     },
     "execution_count": 49,
     "metadata": {},
     "output_type": "execute_result"
    }
   ],
   "source": [
    "#print numerical columns\n",
    "numerical = [var for var in df_cleaned1.columns if df_cleaned1[var].dtype!='O']\n",
    "numerical"
   ]
  },
  {
   "cell_type": "code",
   "execution_count": 50,
   "id": "e90a17f3-ac67-47f2-8d13-18c78052d038",
   "metadata": {},
   "outputs": [
    {
     "data": {
      "text/plain": [
       "0"
      ]
     },
     "execution_count": 50,
     "metadata": {},
     "output_type": "execute_result"
    }
   ],
   "source": [
    "#check for duplicate records using the id column, if no duplicates in id column, i will assume each row is its own pump\n",
    "df_cleaned1.duplicated(subset=['id']).sum()"
   ]
  },
  {
   "cell_type": "code",
   "execution_count": 51,
   "id": "3423fd3e-cdb6-4e20-b65f-6d2fc606f6db",
   "metadata": {},
   "outputs": [
    {
     "name": "stdout",
     "output_type": "stream",
     "text": [
      "Numeric Column Summary Statistics:\n",
      "                 id     amount_tsh    gps_height     longitude      latitude  \\\n",
      "count  49841.000000   49841.000000  49841.000000  49841.000000  4.984100e+04   \n",
      "mean   37111.313316     352.215854    680.790253     34.228834 -5.750202e+00   \n",
      "std    21437.495653    2793.448736    698.628110      6.260939  2.867979e+00   \n",
      "min        2.000000       0.000000    -90.000000      0.000000 -1.164944e+01   \n",
      "25%    18545.000000       0.000000      0.000000     33.060320 -8.431873e+00   \n",
      "50%    37032.000000       0.000000    404.000000     35.125791 -5.099327e+00   \n",
      "75%    55641.000000      30.000000   1323.000000     37.314108 -3.342912e+00   \n",
      "max    74247.000000  250000.000000   2770.000000     40.323402 -2.000000e-08   \n",
      "\n",
      "        num_private   region_code  district_code    population  \\\n",
      "count  49841.000000  49841.000000   49841.000000  49841.000000   \n",
      "mean       0.537168     14.751891       5.865231    172.184507   \n",
      "std       13.092193     17.157662       9.901819    466.902049   \n",
      "min        0.000000      1.000000       0.000000      0.000000   \n",
      "25%        0.000000      5.000000       2.000000      0.000000   \n",
      "50%        0.000000     12.000000       3.000000     25.000000   \n",
      "75%        0.000000     17.000000       5.000000    200.000000   \n",
      "max     1776.000000     99.000000      80.000000  30500.000000   \n",
      "\n",
      "       construction_year  \n",
      "count       49841.000000  \n",
      "mean         1302.614956  \n",
      "std           950.938838  \n",
      "min             0.000000  \n",
      "25%             0.000000  \n",
      "50%          1985.000000  \n",
      "75%          2004.000000  \n",
      "max          2013.000000  \n"
     ]
    }
   ],
   "source": [
    "#look at Summary Statistics for Numerical Columns:\n",
    "print(\"Numeric Column Summary Statistics:\")\n",
    "numerical_stats = df_cleaned1.describe()\n",
    "print(numerical_stats)"
   ]
  },
  {
   "cell_type": "code",
   "execution_count": 52,
   "id": "ca16e57a-27b4-476c-8ae9-f98e32f1836a",
   "metadata": {},
   "outputs": [
    {
     "data": {
      "text/plain": [
       "0.0         33667\n",
       "500.0        2790\n",
       "50.0         2042\n",
       "1000.0       1382\n",
       "20.0         1381\n",
       "            ...  \n",
       "5400.0          1\n",
       "200000.0        1\n",
       "900.0           1\n",
       "53.0            1\n",
       "12.0            1\n",
       "Name: amount_tsh, Length: 91, dtype: int64"
      ]
     },
     "execution_count": 52,
     "metadata": {},
     "output_type": "execute_result"
    }
   ],
   "source": [
    "#amount total static head- many records have 0.0 but technically, 0.0 could be accurrate, i.e. if the source is groundwater..\n",
    "df_cleaned1['amount_tsh'].value_counts()"
   ]
  },
  {
   "cell_type": "code",
   "execution_count": 53,
   "id": "db285344-7204-4232-9c10-e2eba7184585",
   "metadata": {},
   "outputs": [
    {
     "data": {
      "text/plain": [
       "0     49119\n",
       "6        73\n",
       "1        68\n",
       "8        46\n",
       "5        44\n",
       "32       40\n",
       "45       36\n",
       "15       35\n",
       "39       30\n",
       "93       28\n",
       "Name: num_private, dtype: int64"
      ]
     },
     "execution_count": 53,
     "metadata": {},
     "output_type": "execute_result"
    }
   ],
   "source": [
    "#Over 98% have value 0, will drop as this won't be helpful for modeling..\n",
    "df_cleaned1['num_private'].value_counts()[:10]"
   ]
  },
  {
   "cell_type": "code",
   "execution_count": 55,
   "id": "d5802531-1451-4cb2-af36-9a8e26cb1e43",
   "metadata": {},
   "outputs": [
    {
     "data": {
      "text/plain": [
       " 0       17148\n",
       "-15         56\n",
       "-13         48\n",
       " 1290       47\n",
       "-20         44\n",
       "         ...  \n",
       " 2332        1\n",
       " 2417        1\n",
       " 616         1\n",
       " 2464        1\n",
       " 2285        1\n",
       "Name: gps_height, Length: 2426, dtype: int64"
      ]
     },
     "execution_count": 55,
     "metadata": {},
     "output_type": "execute_result"
    }
   ],
   "source": [
    "#a large portion are listed as 0. will check later to see if 0 is the actual elevation or a placeholder value:\n",
    "df_cleaned1['gps_height'].value_counts()"
   ]
  },
  {
   "cell_type": "code",
   "execution_count": 56,
   "id": "eb89e7f4-c01e-4029-916f-ed2f140c9886",
   "metadata": {},
   "outputs": [
    {
     "data": {
      "text/plain": [
       "0.000000     1336\n",
       "33.090347       2\n",
       "32.967009       2\n",
       "38.180538       2\n",
       "37.538602       2\n",
       "             ... \n",
       "35.399587       1\n",
       "33.556570       1\n",
       "35.833951       1\n",
       "39.341224       1\n",
       "35.416063       1\n",
       "Name: longitude, Length: 48459, dtype: int64"
      ]
     },
     "execution_count": 56,
     "metadata": {},
     "output_type": "execute_result"
    }
   ],
   "source": [
    "#similar to gps_height, many listed as 0. will address this later:\n",
    "df_cleaned1['longitude'].value_counts()"
   ]
  },
  {
   "cell_type": "code",
   "execution_count": 57,
   "id": "62be4c34-6429-4b9b-87fb-b5b99ad417d8",
   "metadata": {},
   "outputs": [
    {
     "data": {
      "text/plain": [
       "-2.000000e-08    1336\n",
       "-2.480043e+00       2\n",
       "-7.104923e+00       2\n",
       "-2.467137e+00       2\n",
       "-2.491942e+00       2\n",
       "                 ... \n",
       "-3.293825e+00       1\n",
       "-1.223421e+00       1\n",
       "-4.127133e+00       1\n",
       "-1.401503e+00       1\n",
       "-1.101275e+01       1\n",
       "Name: latitude, Length: 48461, dtype: int64"
      ]
     },
     "execution_count": 57,
     "metadata": {},
     "output_type": "execute_result"
    }
   ],
   "source": [
    "#similar to longitude, same 1336 values are listed as very close to 0, will address this later:\n",
    "df_cleaned1['latitude'].value_counts()"
   ]
  },
  {
   "cell_type": "markdown",
   "id": "c343c84e-6042-4bb8-b81c-4ba390dba1cf",
   "metadata": {},
   "source": [
    "### Dropping Numerical Columns"
   ]
  },
  {
   "cell_type": "markdown",
   "id": "208b0096-79a1-41e4-a3ce-dfddc9bcbcbf",
   "metadata": {},
   "source": [
    "The following are the numerical columns I will drop as well as the reason to drop:\\\n",
    "**id**: this is just a unique identifier, will not help with modeling\\\n",
    "**num_private**: over 98% have the value 0\\\n",
    "**region_code** & **district_code**: too similar/redundant with region column\\"
   ]
  },
  {
   "cell_type": "code",
   "execution_count": 58,
   "id": "49b44eb5-7cc3-4ddc-b15f-1659aa46f044",
   "metadata": {},
   "outputs": [],
   "source": [
    "df_cleaned2 = df_cleaned1.drop(['id', 'num_private', 'region_code', 'district_code'], axis=1)"
   ]
  },
  {
   "cell_type": "code",
   "execution_count": 59,
   "id": "de1ea971-8889-4c96-b304-67af786a0767",
   "metadata": {},
   "outputs": [
    {
     "data": {
      "text/html": [
       "<div>\n",
       "<style scoped>\n",
       "    .dataframe tbody tr th:only-of-type {\n",
       "        vertical-align: middle;\n",
       "    }\n",
       "\n",
       "    .dataframe tbody tr th {\n",
       "        vertical-align: top;\n",
       "    }\n",
       "\n",
       "    .dataframe thead th {\n",
       "        text-align: right;\n",
       "    }\n",
       "</style>\n",
       "<table border=\"1\" class=\"dataframe\">\n",
       "  <thead>\n",
       "    <tr style=\"text-align: right;\">\n",
       "      <th></th>\n",
       "      <th>amount_tsh</th>\n",
       "      <th>gps_height</th>\n",
       "      <th>longitude</th>\n",
       "      <th>latitude</th>\n",
       "      <th>basin</th>\n",
       "      <th>region</th>\n",
       "      <th>population</th>\n",
       "      <th>public_meeting</th>\n",
       "      <th>scheme_management</th>\n",
       "      <th>permit</th>\n",
       "      <th>construction_year</th>\n",
       "      <th>extraction_type_class</th>\n",
       "      <th>management_group</th>\n",
       "      <th>payment_type</th>\n",
       "      <th>quantity</th>\n",
       "      <th>source_type</th>\n",
       "      <th>waterpoint_type_group</th>\n",
       "      <th>status_group</th>\n",
       "    </tr>\n",
       "  </thead>\n",
       "  <tbody>\n",
       "    <tr>\n",
       "      <th>0</th>\n",
       "      <td>6000.0</td>\n",
       "      <td>1390</td>\n",
       "      <td>34.938093</td>\n",
       "      <td>-9.856322</td>\n",
       "      <td>Lake Nyasa</td>\n",
       "      <td>Iringa</td>\n",
       "      <td>109</td>\n",
       "      <td>True</td>\n",
       "      <td>VWC</td>\n",
       "      <td>False</td>\n",
       "      <td>1999</td>\n",
       "      <td>gravity</td>\n",
       "      <td>user-group</td>\n",
       "      <td>annually</td>\n",
       "      <td>enough</td>\n",
       "      <td>spring</td>\n",
       "      <td>communal standpipe</td>\n",
       "      <td>functional</td>\n",
       "    </tr>\n",
       "    <tr>\n",
       "      <th>2</th>\n",
       "      <td>25.0</td>\n",
       "      <td>686</td>\n",
       "      <td>37.460664</td>\n",
       "      <td>-3.821329</td>\n",
       "      <td>Pangani</td>\n",
       "      <td>Manyara</td>\n",
       "      <td>250</td>\n",
       "      <td>True</td>\n",
       "      <td>VWC</td>\n",
       "      <td>True</td>\n",
       "      <td>2009</td>\n",
       "      <td>gravity</td>\n",
       "      <td>user-group</td>\n",
       "      <td>per bucket</td>\n",
       "      <td>enough</td>\n",
       "      <td>dam</td>\n",
       "      <td>communal standpipe</td>\n",
       "      <td>functional</td>\n",
       "    </tr>\n",
       "    <tr>\n",
       "      <th>3</th>\n",
       "      <td>0.0</td>\n",
       "      <td>263</td>\n",
       "      <td>38.486161</td>\n",
       "      <td>-11.155298</td>\n",
       "      <td>Ruvuma / Southern Coast</td>\n",
       "      <td>Mtwara</td>\n",
       "      <td>58</td>\n",
       "      <td>True</td>\n",
       "      <td>VWC</td>\n",
       "      <td>True</td>\n",
       "      <td>1986</td>\n",
       "      <td>submersible</td>\n",
       "      <td>user-group</td>\n",
       "      <td>never pay</td>\n",
       "      <td>dry</td>\n",
       "      <td>borehole</td>\n",
       "      <td>communal standpipe</td>\n",
       "      <td>needs repair</td>\n",
       "    </tr>\n",
       "    <tr>\n",
       "      <th>5</th>\n",
       "      <td>20.0</td>\n",
       "      <td>0</td>\n",
       "      <td>39.172796</td>\n",
       "      <td>-4.765587</td>\n",
       "      <td>Pangani</td>\n",
       "      <td>Tanga</td>\n",
       "      <td>1</td>\n",
       "      <td>True</td>\n",
       "      <td>VWC</td>\n",
       "      <td>True</td>\n",
       "      <td>2009</td>\n",
       "      <td>submersible</td>\n",
       "      <td>user-group</td>\n",
       "      <td>per bucket</td>\n",
       "      <td>enough</td>\n",
       "      <td>other</td>\n",
       "      <td>communal standpipe</td>\n",
       "      <td>functional</td>\n",
       "    </tr>\n",
       "    <tr>\n",
       "      <th>6</th>\n",
       "      <td>0.0</td>\n",
       "      <td>0</td>\n",
       "      <td>33.362410</td>\n",
       "      <td>-3.766365</td>\n",
       "      <td>Internal</td>\n",
       "      <td>Shinyanga</td>\n",
       "      <td>0</td>\n",
       "      <td>True</td>\n",
       "      <td>VWC</td>\n",
       "      <td>True</td>\n",
       "      <td>0</td>\n",
       "      <td>handpump</td>\n",
       "      <td>user-group</td>\n",
       "      <td>never pay</td>\n",
       "      <td>enough</td>\n",
       "      <td>borehole</td>\n",
       "      <td>hand pump</td>\n",
       "      <td>needs repair</td>\n",
       "    </tr>\n",
       "  </tbody>\n",
       "</table>\n",
       "</div>"
      ],
      "text/plain": [
       "   amount_tsh  gps_height  longitude   latitude                    basin  \\\n",
       "0      6000.0        1390  34.938093  -9.856322               Lake Nyasa   \n",
       "2        25.0         686  37.460664  -3.821329                  Pangani   \n",
       "3         0.0         263  38.486161 -11.155298  Ruvuma / Southern Coast   \n",
       "5        20.0           0  39.172796  -4.765587                  Pangani   \n",
       "6         0.0           0  33.362410  -3.766365                 Internal   \n",
       "\n",
       "      region  population public_meeting scheme_management permit  \\\n",
       "0     Iringa         109           True               VWC  False   \n",
       "2    Manyara         250           True               VWC   True   \n",
       "3     Mtwara          58           True               VWC   True   \n",
       "5      Tanga           1           True               VWC   True   \n",
       "6  Shinyanga           0           True               VWC   True   \n",
       "\n",
       "   construction_year extraction_type_class management_group payment_type  \\\n",
       "0               1999               gravity       user-group     annually   \n",
       "2               2009               gravity       user-group   per bucket   \n",
       "3               1986           submersible       user-group    never pay   \n",
       "5               2009           submersible       user-group   per bucket   \n",
       "6                  0              handpump       user-group    never pay   \n",
       "\n",
       "  quantity source_type waterpoint_type_group  status_group  \n",
       "0   enough      spring    communal standpipe    functional  \n",
       "2   enough         dam    communal standpipe    functional  \n",
       "3      dry    borehole    communal standpipe  needs repair  \n",
       "5   enough       other    communal standpipe    functional  \n",
       "6   enough    borehole             hand pump  needs repair  "
      ]
     },
     "execution_count": 59,
     "metadata": {},
     "output_type": "execute_result"
    }
   ],
   "source": [
    "#Longitude column has 1336 rows with 0.0 and latitude has a matching amount of rows with -2.000000e-08 which is basically zero\n",
    "#I'll assume these are placeholders as the true values are most likely unknown\n",
    "#I will drop these rows at it accounts for less than 3% of our remaining data.\n",
    "df_clean = df_cleaned2[(df_cleaned2['longitude'] != 0.0) | (df_cleaned2['latitude'] != -2.000000e-08)]\n",
    "df_clean.head()"
   ]
  },
  {
   "cell_type": "code",
   "execution_count": 60,
   "id": "ad9f7114-a921-4ec4-aaa9-a8a4703881f8",
   "metadata": {},
   "outputs": [
    {
     "data": {
      "text/plain": [
       "(48505, 18)"
      ]
     },
     "execution_count": 60,
     "metadata": {},
     "output_type": "execute_result"
    }
   ],
   "source": [
    "df_clean.shape"
   ]
  },
  {
   "cell_type": "code",
   "execution_count": 61,
   "id": "059e40b7-ea43-4f16-805e-b816c6f77cd7",
   "metadata": {},
   "outputs": [
    {
     "data": {
      "text/plain": [
       "0.8165824915824916"
      ]
     },
     "execution_count": 61,
     "metadata": {},
     "output_type": "execute_result"
    }
   ],
   "source": [
    "48505/59400"
   ]
  },
  {
   "cell_type": "code",
   "execution_count": 62,
   "id": "fbb38819-33d8-4186-a3df-870bb1d33ebf",
   "metadata": {},
   "outputs": [
    {
     "data": {
      "text/plain": [
       "Index(['amount_tsh', 'gps_height', 'longitude', 'latitude', 'basin', 'region',\n",
       "       'population', 'public_meeting', 'scheme_management', 'permit',\n",
       "       'construction_year', 'extraction_type_class', 'management_group',\n",
       "       'payment_type', 'quantity', 'source_type', 'waterpoint_type_group',\n",
       "       'status_group'],\n",
       "      dtype='object')"
      ]
     },
     "execution_count": 62,
     "metadata": {},
     "output_type": "execute_result"
    }
   ],
   "source": [
    "df_clean.columns"
   ]
  },
  {
   "cell_type": "code",
   "execution_count": 65,
   "id": "ff54700d-e0f5-4808-8af0-6c734c16ccc9",
   "metadata": {},
   "outputs": [
    {
     "data": {
      "text/plain": [
       "0       15990\n",
       "2008     2431\n",
       "2009     2306\n",
       "2010     2012\n",
       "2007     1425\n",
       "2006     1329\n",
       "2000     1253\n",
       "2003     1191\n",
       "2011     1032\n",
       "1978      999\n",
       "2004      989\n",
       "2002      955\n",
       "2005      881\n",
       "1999      881\n",
       "2012      836\n",
       "1998      790\n",
       "1995      783\n",
       "1985      767\n",
       "1984      711\n",
       "1982      695\n",
       "Name: construction_year, dtype: int64"
      ]
     },
     "execution_count": 65,
     "metadata": {},
     "output_type": "execute_result"
    }
   ],
   "source": [
    "#will need to fix years listed as 0:\n",
    "df_clean['construction_year'].value_counts()[:20]"
   ]
  },
  {
   "cell_type": "code",
   "execution_count": 66,
   "id": "51aaca5c-44fa-4947-8126-e75c98c035b8",
   "metadata": {},
   "outputs": [
    {
     "name": "stdout",
     "output_type": "stream",
     "text": [
      "<class 'pandas.core.frame.DataFrame'>\n",
      "Int64Index: 15812 entries, 5 to 59398\n",
      "Data columns (total 3 columns):\n",
      " #   Column      Non-Null Count  Dtype  \n",
      "---  ------      --------------  -----  \n",
      " 0   latitude    15812 non-null  float64\n",
      " 1   longitude   15812 non-null  float64\n",
      " 2   gps_height  15812 non-null  int64  \n",
      "dtypes: float64(2), int64(1)\n",
      "memory usage: 494.1 KB\n"
     ]
    }
   ],
   "source": [
    "#new location data frame where I'm keeping rows where gps_height is 0.0 and I will sample and research the longitude/latitude\n",
    "#and see if the height is actually 0.\n",
    "df_loc = df_clean.loc[df_clean['gps_height'] == 0.0, ['latitude','longitude', 'gps_height']]\n",
    "df_loc.info()"
   ]
  },
  {
   "cell_type": "code",
   "execution_count": 67,
   "id": "720ebd38-bfcc-4acd-aaf0-b5e57ef1c91a",
   "metadata": {},
   "outputs": [
    {
     "name": "stdout",
     "output_type": "stream",
     "text": [
      "       latitude  longitude  gps_height\n",
      "6643  -3.337309  33.858162           0\n",
      "40539 -1.260201  31.428574           0\n",
      "45411 -4.620133  35.757263           0\n",
      "5545  -2.535985  33.026691           0\n",
      "43586 -8.668906  32.347582           0\n",
      "18807 -1.605952  31.700896           0\n",
      "37047 -3.415161  33.814108           0\n",
      "34761 -2.961184  33.376135           0\n",
      "35718 -9.517648  33.692377           0\n",
      "44001 -3.870144  33.172784           0\n"
     ]
    }
   ],
   "source": [
    "#taking a random sample:\n",
    "random_sample = df_loc.sample(n=10)\n",
    "print(random_sample)"
   ]
  },
  {
   "cell_type": "markdown",
   "id": "0ec8451e-0458-4524-86fa-676d2f984e46",
   "metadata": {},
   "source": [
    "After looking the above locations up, I found that none of them have a true elevation of 0, meaning 0 is definitely used as a placeholder value."
   ]
  },
  {
   "cell_type": "code",
   "execution_count": 68,
   "id": "3cb1f7e4-f065-4003-8bf2-a2b796753994",
   "metadata": {},
   "outputs": [
    {
     "data": {
      "text/plain": [
       "0      16752\n",
       "1       5763\n",
       "150     1690\n",
       "200     1503\n",
       "250     1279\n",
       "300     1100\n",
       "50      1020\n",
       "100      918\n",
       "120      812\n",
       "350      798\n",
       "500      794\n",
       "400      566\n",
       "30       560\n",
       "60       543\n",
       "40       526\n",
       "80       462\n",
       "20       428\n",
       "450      390\n",
       "230      324\n",
       "600      308\n",
       "Name: population, dtype: int64"
      ]
     },
     "execution_count": 68,
     "metadata": {},
     "output_type": "execute_result"
    }
   ],
   "source": [
    "df_clean['population'].value_counts()[:20]"
   ]
  },
  {
   "cell_type": "code",
   "execution_count": 69,
   "id": "61520397-32cc-4e8b-8af7-4e4c3bab837c",
   "metadata": {},
   "outputs": [
    {
     "data": {
      "text/plain": [
       "['amount_tsh',\n",
       " 'gps_height',\n",
       " 'longitude',\n",
       " 'latitude',\n",
       " 'population',\n",
       " 'construction_year']"
      ]
     },
     "execution_count": 69,
     "metadata": {},
     "output_type": "execute_result"
    }
   ],
   "source": [
    "#look at numerical columns after dropping some:\n",
    "num_clean = [var for var in df_clean.columns if df_clean[var].dtype!='O']\n",
    "num_clean"
   ]
  },
  {
   "cell_type": "code",
   "execution_count": 70,
   "id": "1b5aff75-cf42-4f25-a821-92bbf996f379",
   "metadata": {},
   "outputs": [
    {
     "data": {
      "image/png": "[encoded data removed]",
      "text/plain": [
       "<Figure size 1080x720 with 6 Axes>"
      ]
     },
     "metadata": {
      "needs_background": "light"
     },
     "output_type": "display_data"
    }
   ],
   "source": [
    "#check outliers:\n",
    "plt.figure(figsize=(15,10))\n",
    "\n",
    "plt.subplot(2, 3, 1)\n",
    "fig = df_clean.boxplot(column='amount_tsh')\n",
    "fig.set_title('')\n",
    "fig.set_ylabel('Amount Total Static Head')\n",
    "\n",
    "plt.subplot(2, 3, 2)\n",
    "fig = df_clean.boxplot(column='gps_height')\n",
    "fig.set_title('')\n",
    "fig.set_ylabel('GPS Height')\n",
    "\n",
    "plt.subplot(2, 3, 3)\n",
    "fig = df_clean.boxplot(column='longitude')\n",
    "fig.set_title('')\n",
    "fig.set_ylabel('Longitude')\n",
    "\n",
    "plt.subplot(2, 3, 4)\n",
    "fig = df_clean.boxplot(column='latitude')\n",
    "fig.set_title('')\n",
    "fig.set_ylabel('Latitude')\n",
    "\n",
    "plt.subplot(2, 3, 5)\n",
    "fig = df_clean.boxplot(column='population')\n",
    "fig.set_title('')\n",
    "fig.set_ylabel('Population')\n",
    "\n",
    "plt.subplot(2, 3, 6)\n",
    "fig = df_clean.boxplot(column= 'construction_year')\n",
    "fig.set_title('')\n",
    "fig.set_ylabel('Construction Year')\n",
    "\n",
    "plt.show()"
   ]
  },
  {
   "cell_type": "markdown",
   "id": "e22b50b6-edbf-4a94-979a-da4ac1f2a33e",
   "metadata": {},
   "source": [
    "## Modeling"
   ]
  },
  {
   "cell_type": "code",
   "execution_count": 71,
   "id": "c9b40ae2-1c34-4a4d-9b85-8649078a16f2",
   "metadata": {},
   "outputs": [],
   "source": [
    "# Label Encode target variable, status_group\n",
    "le = LabelEncoder()\n",
    "y = le.fit_transform(df_clean['status_group'])\n",
    "\n",
    "# Set X to dataframe features without target variable\n",
    "X = df_clean.drop('status_group', axis=1)\n",
    "\n",
    "# Split data into training and testing sets\n",
    "X_train, X_test, y_train, y_test = train_test_split(X, y, test_size=0.2, random_state=42, stratify=y)"
   ]
  },
  {
   "cell_type": "code",
   "execution_count": 72,
   "id": "fb826acc-f3ae-49a5-be20-72fd52b149d1",
   "metadata": {},
   "outputs": [
    {
     "name": "stdout",
     "output_type": "stream",
     "text": [
      "Mapping of original labels to integers:\n",
      "functional is encoded as 0\n",
      "needs repair is encoded as 1\n"
     ]
    }
   ],
   "source": [
    "print(\"Mapping of original labels to integers:\")\n",
    "for i, label in enumerate(le.classes_):\n",
    "    print(f\"{label} is encoded as {i}\")"
   ]
  },
  {
   "cell_type": "code",
   "execution_count": 73,
   "id": "7e8fd56a-1f4a-4b74-9434-c1cd4890d177",
   "metadata": {},
   "outputs": [
    {
     "data": {
      "text/plain": [
       "((38804, 17), (9701, 17))"
      ]
     },
     "execution_count": 73,
     "metadata": {},
     "output_type": "execute_result"
    }
   ],
   "source": [
    "X_train.shape, X_test.shape"
   ]
  },
  {
   "cell_type": "code",
   "execution_count": 77,
   "id": "f5d427c3-bceb-4e6e-a931-469c8918702c",
   "metadata": {},
   "outputs": [],
   "source": [
    "#Population Column Imputation (dealing with placeholder values in population column)\n",
    "#Create indicator column in both sets is_population_missing\n",
    "X_train['is_population_missing'] = (X_train['population'] == 0)\n",
    "X_test['is_population_missing'] = (X_test['population'] == 0)\n",
    "\n",
    "#Calculate median poplation on the TRAINING data only by region:\n",
    "median_by_region = X_train[X_train['population'] != 0].groupby('region')['population'].median()\n",
    "\n",
    "#Fill missing values in both sets using the training data's median\n",
    "X_train['population'] = X_train.apply(\n",
    "    lambda row: median_by_region.get(row['region'], 0) if row['population'] == 0 else row['population'],\n",
    "    axis=1\n",
    ")\n",
    "X_test['population'] = X_test.apply(\n",
    "    lambda row: median_by_region.get(row['region'], 0) if row['population'] == 0 else row['population'],\n",
    "    axis=1\n",
    ")"
   ]
  },
  {
   "cell_type": "code",
   "execution_count": 78,
   "id": "b6eee94d-1435-4ddb-8a62-b2fa59cba4fd",
   "metadata": {},
   "outputs": [],
   "source": [
    "#Construction Year Column Imputation (dealing with placeholder values in construction_year)\n",
    "#Create indicator column in both sets is_year_missing\n",
    "X_train['is_year_missing'] = (X_train['construction_year'] == 0)\n",
    "X_test['is_year_missing'] = (X_test['construction_year'] == 0)\n",
    "\n",
    "#Calculate the median year on the TRAINING data only\n",
    "median_year = X_train.loc[X_train['construction_year'] != 0, 'construction_year'].median()\n",
    "\n",
    "# Replace the 0s in both sets with the TRAINING median\n",
    "X_train['construction_year'] = X_train['construction_year'].replace(0, median_year)\n",
    "X_test['construction_year'] = X_test['construction_year'].replace(0, median_year)"
   ]
  },
  {
   "cell_type": "code",
   "execution_count": 79,
   "id": "66fa7525-9dca-4dcf-8e45-0545a8ccc0e2",
   "metadata": {},
   "outputs": [],
   "source": [
    "#GPS Height Column Imputation (using KNN) (dealing with placeholder values in gps_height column)\n",
    "from sklearn.impute import KNNImputer\n",
    "\n",
    "#Replace the 0.0 values with NaN in both sets\n",
    "X_train['gps_height'] = X_train['gps_height'].replace(0.0, np.nan)\n",
    "X_test['gps_height'] = X_test['gps_height'].replace(0.0, np.nan)\n",
    "\n",
    "#Create a KNN imputer and fit it on the TRAINING data (for every data point that is missing gps_height, this uses longitude and latitude\n",
    "#columns to find the 5 nearest points, and calculates the average from them, the average is used to fill in the missing value.)\n",
    "imputer = KNNImputer(n_neighbors=5)\n",
    "imputer.fit(X_train[['longitude', 'latitude', 'gps_height']])\n",
    "\n",
    "#Transform both datasets using the fitted imputer:\n",
    "X_train[['longitude', 'latitude', 'gps_height']] = imputer.transform(X_train[['longitude', 'latitude', 'gps_height']])\n",
    "X_test[['longitude', 'latitude', 'gps_height']] = imputer.transform(X_test[['longitude', 'latitude', 'gps_height']])"
   ]
  },
  {
   "cell_type": "code",
   "execution_count": 80,
   "id": "51b66fd6-19cd-4ea5-b410-cefb49cb436a",
   "metadata": {},
   "outputs": [],
   "source": [
    "#Select categorical columns to one hot encode:\n",
    "categorical_features = ['basin', 'region', 'public_meeting', 'scheme_management', 'permit', 'extraction_type_class', 'management_group', 'payment_type', 'quantity', 'source_type', 'waterpoint_type_group']\n",
    "\n",
    "#Instantiate Encoder\n",
    "ohe = OneHotEncoder(handle_unknown='ignore', sparse=False)\n",
    "\n",
    "#Fit encoder on the training data only\n",
    "ohe.fit(X_train[categorical_features])\n",
    "\n",
    "# Transform both the training and testing sets\n",
    "X_train_ohe = ohe.transform(X_train[categorical_features])\n",
    "X_test_ohe = ohe.transform(X_test[categorical_features])\n"
   ]
  },
  {
   "cell_type": "code",
   "execution_count": 81,
   "id": "302f3e05-6b49-4b78-9352-bbd33f7e52a2",
   "metadata": {},
   "outputs": [
    {
     "name": "stdout",
     "output_type": "stream",
     "text": [
      "Final training data shape: (38804, 91)\n",
      "Final testing data shape: (9701, 91)\n",
      "\n",
      "Final training data head (showing a sample of columns):\n",
      "       amount_tsh  gps_height  longitude  latitude  population  \\\n",
      "45897       100.0      1156.0  34.961715 -6.343662         150   \n",
      "10168        20.0       -37.0  39.201443 -7.845144           1   \n",
      "34653         0.0      1306.8  33.881841 -3.175948         500   \n",
      "5170          0.0      1288.0  31.214473 -8.433142         150   \n",
      "15316       100.0       304.0  39.043658 -9.918431        1200   \n",
      "\n",
      "       construction_year  is_population_missing  is_year_missing  \\\n",
      "45897               1981                  False            False   \n",
      "10168               2003                  False            False   \n",
      "34653               2000                  False            False   \n",
      "5170                1986                  False            False   \n",
      "15316               2007                  False            False   \n",
      "\n",
      "       basin_Internal  basin_Lake Nyasa  ...  \\\n",
      "45897             0.0               0.0  ...   \n",
      "10168             0.0               0.0  ...   \n",
      "34653             0.0               0.0  ...   \n",
      "5170              0.0               0.0  ...   \n",
      "15316             0.0               0.0  ...   \n",
      "\n",
      "       source_type_rainwater harvesting  source_type_river/lake  \\\n",
      "45897                               0.0                     0.0   \n",
      "10168                               0.0                     0.0   \n",
      "34653                               0.0                     0.0   \n",
      "5170                                0.0                     1.0   \n",
      "15316                               0.0                     0.0   \n",
      "\n",
      "       source_type_shallow well  source_type_spring  \\\n",
      "45897                       0.0                 0.0   \n",
      "10168                       1.0                 0.0   \n",
      "34653                       0.0                 0.0   \n",
      "5170                        0.0                 0.0   \n",
      "15316                       0.0                 0.0   \n",
      "\n",
      "       waterpoint_type_group_cattle trough  \\\n",
      "45897                                  0.0   \n",
      "10168                                  0.0   \n",
      "34653                                  0.0   \n",
      "5170                                   0.0   \n",
      "15316                                  0.0   \n",
      "\n",
      "       waterpoint_type_group_communal standpipe  waterpoint_type_group_dam  \\\n",
      "45897                                       1.0                        0.0   \n",
      "10168                                       0.0                        0.0   \n",
      "34653                                       1.0                        0.0   \n",
      "5170                                        1.0                        0.0   \n",
      "15316                                       1.0                        0.0   \n",
      "\n",
      "       waterpoint_type_group_hand pump  waterpoint_type_group_improved spring  \\\n",
      "45897                              0.0                                    0.0   \n",
      "10168                              1.0                                    0.0   \n",
      "34653                              0.0                                    0.0   \n",
      "5170                               0.0                                    0.0   \n",
      "15316                              0.0                                    0.0   \n",
      "\n",
      "       waterpoint_type_group_other  \n",
      "45897                          0.0  \n",
      "10168                          0.0  \n",
      "34653                          0.0  \n",
      "5170                           0.0  \n",
      "15316                          0.0  \n",
      "\n",
      "[5 rows x 91 columns]\n"
     ]
    }
   ],
   "source": [
    "#Need to combine the encoded categorical features back with the numerical features:\n",
    "#Numeric list to select the columns from our original X_train/X_test\n",
    "numeric_features = X_train.drop(columns=categorical_features).columns\n",
    "\n",
    "#Create data frames for the one-hot encoded data\n",
    "#get_feature_names() to get the new column names\n",
    "ohe_feature_names = ohe.get_feature_names(categorical_features)\n",
    "\n",
    "X_train_ohe_df = pd.DataFrame(X_train_ohe, index=X_train.index, columns=ohe_feature_names)\n",
    "X_test_ohe_df = pd.DataFrame(X_test_ohe, index=X_test.index, columns=ohe_feature_names)\n",
    "\n",
    "#Concatenate the numerical and one-hot encoded dataframes into \"final\" versions we can use to model\n",
    "X_train_final = pd.concat([X_train[numeric_features], X_train_ohe_df], axis=1)\n",
    "X_test_final = pd.concat([X_test[numeric_features], X_test_ohe_df], axis=1)\n",
    "\n",
    "#Check the shape and head of \"final\" datasets\n",
    "print(\"Final training data shape:\", X_train_final.shape)\n",
    "print(\"Final testing data shape:\", X_test_final.shape)\n",
    "\n",
    "print(\"\\nFinal training data head (showing a sample of columns):\")\n",
    "print(X_train_final.head())"
   ]
  },
  {
   "cell_type": "code",
   "execution_count": 82,
   "id": "039b80a2-a6aa-4a53-bf71-a84058c8d771",
   "metadata": {},
   "outputs": [
    {
     "name": "stdout",
     "output_type": "stream",
     "text": [
      "Individual recall scores from each fold: [0.73998196 0.73998196 0.73212215 0.7317356  0.75206186]\n",
      "Mean recall score (your baseline): 0.7391767056269983\n"
     ]
    }
   ],
   "source": [
    "from sklearn.model_selection import cross_val_score\n",
    "\n",
    "# 1. Instantiate the model\n",
    "# max_iter is set high to ensure the model converges\n",
    "baseline_model = LogisticRegression(random_state=42, max_iter=2000)\n",
    "\n",
    "# 2. Use cross-validation to get the recall scores\n",
    "# 'recall_weighted' is used because it's a multiclass problem and\n",
    "# it accounts for class imbalance by weighting the scores by the number of samples in each class.\n",
    "recall_scores = cross_val_score(baseline_model, X_train_final, y_train, cv=5, scoring='recall_weighted')\n",
    "\n",
    "# 3. Print the results\n",
    "print(\"Individual recall scores from each fold:\", recall_scores)\n",
    "print(\"Mean recall score (your baseline):\", np.mean(recall_scores))"
   ]
  },
  {
   "cell_type": "markdown",
   "id": "0c8b327b-dc2c-4576-aa96-b4cc2fb54a49",
   "metadata": {},
   "source": [
    "# Conclusions"
   ]
  },
  {
   "cell_type": "markdown",
   "id": "c161aac0-0043-4007-9cf6-75c634dccc44",
   "metadata": {},
   "source": [
    "## Limitations"
   ]
  },
  {
   "cell_type": "markdown",
   "id": "c0ae3672-938b-4b76-ae45-15b352c74a87",
   "metadata": {},
   "source": [
    "## Recommendations"
   ]
  },
  {
   "cell_type": "markdown",
   "id": "6cbb8b4f-a687-4963-af98-f29d78046a84",
   "metadata": {},
   "source": [
    "## Next Steps"
   ]
  }
 ],
 "metadata": {
  "kernelspec": {
   "display_name": "Python (learn-env)",
   "language": "python",
   "name": "learn-env"
  },
  "language_info": {
   "codemirror_mode": {
    "name": "ipython",
    "version": 3
   },
   "file_extension": ".py",
   "mimetype": "text/x-python",
   "name": "python",
   "nbconvert_exporter": "python",
   "pygments_lexer": "ipython3",
   "version": "3.8.5"
  }
 },
 "nbformat": 4,
 "nbformat_minor": 5
}
