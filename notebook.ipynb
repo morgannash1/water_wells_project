{
 "cells": [
  {
   "cell_type": "markdown",
   "id": "fad7a2f7-bf65-43aa-9f55-74c3d94a3170",
   "metadata": {},
   "source": [
    "# Tanzania Water Wells Project"
   ]
  },
  {
   "cell_type": "markdown",
   "id": "b66eea99-6ddc-4914-bc00-2dc8ecde384c",
   "metadata": {},
   "source": [
    "Morgan Nash"
   ]
  },
  {
   "cell_type": "markdown",
   "id": "d5627793-3168-48fd-a4a3-01487e7b4b68",
   "metadata": {},
   "source": [
    "August 2025"
   ]
  },
  {
   "cell_type": "markdown",
   "id": "cf55a236-1911-4358-87e6-7af9a2efe473",
   "metadata": {},
   "source": [
    "# Overview"
   ]
  },
  {
   "cell_type": "markdown",
   "id": "9dc4a10d-22fd-4e5f-8bcb-de60d5e40627",
   "metadata": {},
   "source": [
    "## Business Understanding"
   ]
  },
  {
   "cell_type": "markdown",
   "id": "0def51f0-6dda-434b-86f6-3d2015b93262",
   "metadata": {},
   "source": [
    "clean drinking water, look deeper to see looking at different features like pump creation or water to predict pump is functional or needs repair\n",
    "\n"
   ]
  },
  {
   "cell_type": "code",
   "execution_count": 1,
   "id": "cfa1757e-fb65-423b-8486-36b916a04086",
   "metadata": {},
   "outputs": [],
   "source": [
    "### copied but helpful: \"\"\"\"With the ongoing global climate change, water scarcity has become an increasing problem in Tanzania, as some regions experience either intense and destructive rainfall or long dry spells.\n",
    "\n",
    "###According to the World Bank, only 61% of households in Tanzania currently have access to a basic water-supply, 32% have access to basic sanitation, and 48% have access to basic hygiene. About 31,000 deaths each year emanate from lack of or poor quality water and sanitation, which is costly to the economy.\n",
    "\n",
    "###The average water project in Tanzania about USD 6,000 to USD 8,000 for a hand pump water point, impacting 600-700 lives per well. For mechanized systems, the cost is atleast USD 12,000.\n",
    "\n",
    "###The above cost is too high for a developing country, and given that up to 90% of pumps and other water extraction equipment in Tanzania fail due to lack of repair and maintenance, the country can only provide water to more millions of its people by following effective installation methods and proper maintenance of existing water projects.\n",
    "\n",
    "###I intend to partner with the Government of Tanzania in solving the clean and safe water crisis.\"\"\"\"\"  \n",
    "\n",
    "###Is it possible to correctly predict whether a pump is functional, functional-but-needs-repair, or non-functional given data such as the kind of pump, when it was installed, the installer, the region, and so on?\n",
    "###Which are the 20 most important factors that influence whether a pump is functional, functional-but-needs-repair, or non-functional?\n",
    "###What is the geographical distribution of pumps in terms of the three classes of functional, functional-but-needs-repair, and non-functional?\n",
    "###Is there a relationship between a pump's total static head and its reliability?\n",
    "###What is the relationship between installation year and a pump's functionality?\n",
    "###What is the relationship between population and a pump's functionality?"
   ]
  },
  {
   "cell_type": "markdown",
   "id": "7cf2002f-5f5d-4a25-b09f-9b2ee9c6eb4c",
   "metadata": {},
   "source": [
    "## Data Understanding"
   ]
  },
  {
   "cell_type": "markdown",
   "id": "f44af231-a015-4180-a9d0-7896fce3ec51",
   "metadata": {},
   "source": [
    "The data for this project comes from"
   ]
  },
  {
   "cell_type": "markdown",
   "id": "fd67f495-7134-4a60-b10b-12c0ae6a005f",
   "metadata": {},
   "source": [
    "\n",
    "* id: Unique identifier for each water pump\n",
    "* amount_tsh: Total static head (amount of water available to pump)\n",
    "* date_recorded: Date the pump data was recorded\n",
    "* funder: Person or org funded the pump installation\n",
    "* gps_height: Altitude of the pump location\n",
    "* installer: Person or org that installed the pump\n",
    "* longitude: GPS longitude coordinate of the pump location\n",
    "* latitude: GPS latitude coordinate of the pump location\n",
    "* wpt_name: Name of the waterpoint (if available)\n",
    "* num_private: Number of private plots reserved for the waterpoint\n",
    "* basin: Geographic basin of the pump location\n",
    "* subvillage: Geographic location within the village\n",
    "* region: Geographic location\n",
    "* region_code: Coded- geographic region\n",
    "* district_code: Coded- administrative district\n",
    "* lga: Geographic location (Local Government Area)\n",
    "* ward: Geographic lovation (Administrative division)\n",
    "* population: Population served by the well\n",
    "* public_meeting: T/F Indicator of whether there was a public meeting about the well\n",
    "* recorded_by: Group entering this row of data\n",
    "* scheme_management: Who operates the waterpoint\n",
    "* scheme_name: Who operates the waterpoint\n",
    "* permit: Indicator of whether the waterpoint is permitted\n",
    "* construction_year: Year the pump was installed\n",
    "* extraction_type: The kind of extraction the waterpoint uses\n",
    "* extraction_type_group: The kind of extraction the waterpoint uses\n",
    "* extraction_type_class: The kind of extraction the waterpoint uses\n",
    "* management: Type of management for the pump\n",
    "* management_group: Grouped management type\n",
    "* payment: Payment type for water service\n",
    "* payment_type: Type of payment\n",
    "* water_quality: Quality of water provided by the pump\n",
    "* quality_group - The quality of the water\n",
    "* quantity - The quantity of water\n",
    "* quantity_group - The quantity of water\n",
    "* source - The source of the water\n",
    "* source_type - The source of the water\n",
    "* source_class - The source of the water\n",
    "* waterpoint_type - The kind of waterpoint\n",
    "* waterpoint_type_group - The kind of waterpoint"
   ]
  },
  {
   "cell_type": "markdown",
   "id": "ee3c8158-5488-4da0-84c2-ce0d9b61b17f",
   "metadata": {},
   "source": [
    "# Exploratory Data Analysis"
   ]
  },
  {
   "cell_type": "markdown",
   "id": "e4b2b448-abe2-40e2-9c85-60332ccc5f5d",
   "metadata": {},
   "source": [
    "## Data Preparation & Cleaning"
   ]
  },
  {
   "cell_type": "code",
   "execution_count": 2,
   "id": "0534272e-6782-4775-907d-12455d108908",
   "metadata": {},
   "outputs": [],
   "source": [
    "#import relevant libraries\n",
    "import pandas as pd\n",
    "import numpy as np\n",
    "import matplotlib.pyplot as plt\n",
    "import seaborn as sns\n",
    "from sklearn.model_selection import train_test_split\n",
    "from sklearn.preprocessing import LabelEncoder, OneHotEncoder, StandardScaler\n",
    "from sklearn.impute import SimpleImputer\n",
    "from sklearn.linear_model import LogisticRegression\n",
    "from sklearn.metrics import accuracy_score, classification_report, confusion_matrix\n",
    "from sklearn.impute import SimpleImputer"
   ]
  },
  {
   "cell_type": "code",
   "execution_count": 3,
   "id": "78717973-96d4-4911-87e9-ca3c4106e500",
   "metadata": {},
   "outputs": [
    {
     "data": {
      "text/html": [
       "<div>\n",
       "<style scoped>\n",
       "    .dataframe tbody tr th:only-of-type {\n",
       "        vertical-align: middle;\n",
       "    }\n",
       "\n",
       "    .dataframe tbody tr th {\n",
       "        vertical-align: top;\n",
       "    }\n",
       "\n",
       "    .dataframe thead th {\n",
       "        text-align: right;\n",
       "    }\n",
       "</style>\n",
       "<table border=\"1\" class=\"dataframe\">\n",
       "  <thead>\n",
       "    <tr style=\"text-align: right;\">\n",
       "      <th></th>\n",
       "      <th>id</th>\n",
       "      <th>amount_tsh</th>\n",
       "      <th>date_recorded</th>\n",
       "      <th>funder</th>\n",
       "      <th>gps_height</th>\n",
       "      <th>installer</th>\n",
       "      <th>longitude</th>\n",
       "      <th>latitude</th>\n",
       "      <th>wpt_name</th>\n",
       "      <th>num_private</th>\n",
       "      <th>...</th>\n",
       "      <th>payment_type</th>\n",
       "      <th>water_quality</th>\n",
       "      <th>quality_group</th>\n",
       "      <th>quantity</th>\n",
       "      <th>quantity_group</th>\n",
       "      <th>source</th>\n",
       "      <th>source_type</th>\n",
       "      <th>source_class</th>\n",
       "      <th>waterpoint_type</th>\n",
       "      <th>waterpoint_type_group</th>\n",
       "    </tr>\n",
       "  </thead>\n",
       "  <tbody>\n",
       "    <tr>\n",
       "      <th>0</th>\n",
       "      <td>69572</td>\n",
       "      <td>6000.0</td>\n",
       "      <td>2011-03-14</td>\n",
       "      <td>Roman</td>\n",
       "      <td>1390</td>\n",
       "      <td>Roman</td>\n",
       "      <td>34.938093</td>\n",
       "      <td>-9.856322</td>\n",
       "      <td>none</td>\n",
       "      <td>0</td>\n",
       "      <td>...</td>\n",
       "      <td>annually</td>\n",
       "      <td>soft</td>\n",
       "      <td>good</td>\n",
       "      <td>enough</td>\n",
       "      <td>enough</td>\n",
       "      <td>spring</td>\n",
       "      <td>spring</td>\n",
       "      <td>groundwater</td>\n",
       "      <td>communal standpipe</td>\n",
       "      <td>communal standpipe</td>\n",
       "    </tr>\n",
       "    <tr>\n",
       "      <th>1</th>\n",
       "      <td>8776</td>\n",
       "      <td>0.0</td>\n",
       "      <td>2013-03-06</td>\n",
       "      <td>Grumeti</td>\n",
       "      <td>1399</td>\n",
       "      <td>GRUMETI</td>\n",
       "      <td>34.698766</td>\n",
       "      <td>-2.147466</td>\n",
       "      <td>Zahanati</td>\n",
       "      <td>0</td>\n",
       "      <td>...</td>\n",
       "      <td>never pay</td>\n",
       "      <td>soft</td>\n",
       "      <td>good</td>\n",
       "      <td>insufficient</td>\n",
       "      <td>insufficient</td>\n",
       "      <td>rainwater harvesting</td>\n",
       "      <td>rainwater harvesting</td>\n",
       "      <td>surface</td>\n",
       "      <td>communal standpipe</td>\n",
       "      <td>communal standpipe</td>\n",
       "    </tr>\n",
       "    <tr>\n",
       "      <th>2</th>\n",
       "      <td>34310</td>\n",
       "      <td>25.0</td>\n",
       "      <td>2013-02-25</td>\n",
       "      <td>Lottery Club</td>\n",
       "      <td>686</td>\n",
       "      <td>World vision</td>\n",
       "      <td>37.460664</td>\n",
       "      <td>-3.821329</td>\n",
       "      <td>Kwa Mahundi</td>\n",
       "      <td>0</td>\n",
       "      <td>...</td>\n",
       "      <td>per bucket</td>\n",
       "      <td>soft</td>\n",
       "      <td>good</td>\n",
       "      <td>enough</td>\n",
       "      <td>enough</td>\n",
       "      <td>dam</td>\n",
       "      <td>dam</td>\n",
       "      <td>surface</td>\n",
       "      <td>communal standpipe multiple</td>\n",
       "      <td>communal standpipe</td>\n",
       "    </tr>\n",
       "    <tr>\n",
       "      <th>3</th>\n",
       "      <td>67743</td>\n",
       "      <td>0.0</td>\n",
       "      <td>2013-01-28</td>\n",
       "      <td>Unicef</td>\n",
       "      <td>263</td>\n",
       "      <td>UNICEF</td>\n",
       "      <td>38.486161</td>\n",
       "      <td>-11.155298</td>\n",
       "      <td>Zahanati Ya Nanyumbu</td>\n",
       "      <td>0</td>\n",
       "      <td>...</td>\n",
       "      <td>never pay</td>\n",
       "      <td>soft</td>\n",
       "      <td>good</td>\n",
       "      <td>dry</td>\n",
       "      <td>dry</td>\n",
       "      <td>machine dbh</td>\n",
       "      <td>borehole</td>\n",
       "      <td>groundwater</td>\n",
       "      <td>communal standpipe multiple</td>\n",
       "      <td>communal standpipe</td>\n",
       "    </tr>\n",
       "    <tr>\n",
       "      <th>4</th>\n",
       "      <td>19728</td>\n",
       "      <td>0.0</td>\n",
       "      <td>2011-07-13</td>\n",
       "      <td>Action In A</td>\n",
       "      <td>0</td>\n",
       "      <td>Artisan</td>\n",
       "      <td>31.130847</td>\n",
       "      <td>-1.825359</td>\n",
       "      <td>Shuleni</td>\n",
       "      <td>0</td>\n",
       "      <td>...</td>\n",
       "      <td>never pay</td>\n",
       "      <td>soft</td>\n",
       "      <td>good</td>\n",
       "      <td>seasonal</td>\n",
       "      <td>seasonal</td>\n",
       "      <td>rainwater harvesting</td>\n",
       "      <td>rainwater harvesting</td>\n",
       "      <td>surface</td>\n",
       "      <td>communal standpipe</td>\n",
       "      <td>communal standpipe</td>\n",
       "    </tr>\n",
       "  </tbody>\n",
       "</table>\n",
       "<p>5 rows × 40 columns</p>\n",
       "</div>"
      ],
      "text/plain": [
       "      id  amount_tsh date_recorded        funder  gps_height     installer  \\\n",
       "0  69572      6000.0    2011-03-14         Roman        1390         Roman   \n",
       "1   8776         0.0    2013-03-06       Grumeti        1399       GRUMETI   \n",
       "2  34310        25.0    2013-02-25  Lottery Club         686  World vision   \n",
       "3  67743         0.0    2013-01-28        Unicef         263        UNICEF   \n",
       "4  19728         0.0    2011-07-13   Action In A           0       Artisan   \n",
       "\n",
       "   longitude   latitude              wpt_name  num_private  ... payment_type  \\\n",
       "0  34.938093  -9.856322                  none            0  ...     annually   \n",
       "1  34.698766  -2.147466              Zahanati            0  ...    never pay   \n",
       "2  37.460664  -3.821329           Kwa Mahundi            0  ...   per bucket   \n",
       "3  38.486161 -11.155298  Zahanati Ya Nanyumbu            0  ...    never pay   \n",
       "4  31.130847  -1.825359               Shuleni            0  ...    never pay   \n",
       "\n",
       "  water_quality quality_group      quantity  quantity_group  \\\n",
       "0          soft          good        enough          enough   \n",
       "1          soft          good  insufficient    insufficient   \n",
       "2          soft          good        enough          enough   \n",
       "3          soft          good           dry             dry   \n",
       "4          soft          good      seasonal        seasonal   \n",
       "\n",
       "                 source           source_type  source_class  \\\n",
       "0                spring                spring   groundwater   \n",
       "1  rainwater harvesting  rainwater harvesting       surface   \n",
       "2                   dam                   dam       surface   \n",
       "3           machine dbh              borehole   groundwater   \n",
       "4  rainwater harvesting  rainwater harvesting       surface   \n",
       "\n",
       "               waterpoint_type waterpoint_type_group  \n",
       "0           communal standpipe    communal standpipe  \n",
       "1           communal standpipe    communal standpipe  \n",
       "2  communal standpipe multiple    communal standpipe  \n",
       "3  communal standpipe multiple    communal standpipe  \n",
       "4           communal standpipe    communal standpipe  \n",
       "\n",
       "[5 rows x 40 columns]"
      ]
     },
     "execution_count": 3,
     "metadata": {},
     "output_type": "execute_result"
    }
   ],
   "source": [
    "#load the data\n",
    "val = pd.read_csv('data/Training_set_values.csv')\n",
    "val.head()"
   ]
  },
  {
   "cell_type": "code",
   "execution_count": 4,
   "id": "346f074f-9a80-46d7-a088-71c66e6b2a7f",
   "metadata": {},
   "outputs": [],
   "source": [
    "#Initially looks like there's many categorical columns that will need to be OneHotEncoded!"
   ]
  },
  {
   "cell_type": "code",
   "execution_count": 5,
   "id": "ac2ceddc-3514-4086-8fcd-194d339b6857",
   "metadata": {},
   "outputs": [
    {
     "data": {
      "text/html": [
       "<div>\n",
       "<style scoped>\n",
       "    .dataframe tbody tr th:only-of-type {\n",
       "        vertical-align: middle;\n",
       "    }\n",
       "\n",
       "    .dataframe tbody tr th {\n",
       "        vertical-align: top;\n",
       "    }\n",
       "\n",
       "    .dataframe thead th {\n",
       "        text-align: right;\n",
       "    }\n",
       "</style>\n",
       "<table border=\"1\" class=\"dataframe\">\n",
       "  <thead>\n",
       "    <tr style=\"text-align: right;\">\n",
       "      <th></th>\n",
       "      <th>id</th>\n",
       "      <th>status_group</th>\n",
       "    </tr>\n",
       "  </thead>\n",
       "  <tbody>\n",
       "    <tr>\n",
       "      <th>0</th>\n",
       "      <td>69572</td>\n",
       "      <td>functional</td>\n",
       "    </tr>\n",
       "    <tr>\n",
       "      <th>1</th>\n",
       "      <td>8776</td>\n",
       "      <td>functional</td>\n",
       "    </tr>\n",
       "    <tr>\n",
       "      <th>2</th>\n",
       "      <td>34310</td>\n",
       "      <td>functional</td>\n",
       "    </tr>\n",
       "    <tr>\n",
       "      <th>3</th>\n",
       "      <td>67743</td>\n",
       "      <td>non functional</td>\n",
       "    </tr>\n",
       "    <tr>\n",
       "      <th>4</th>\n",
       "      <td>19728</td>\n",
       "      <td>functional</td>\n",
       "    </tr>\n",
       "  </tbody>\n",
       "</table>\n",
       "</div>"
      ],
      "text/plain": [
       "      id    status_group\n",
       "0  69572      functional\n",
       "1   8776      functional\n",
       "2  34310      functional\n",
       "3  67743  non functional\n",
       "4  19728      functional"
      ]
     },
     "execution_count": 5,
     "metadata": {},
     "output_type": "execute_result"
    }
   ],
   "source": [
    "#load the data\n",
    "labels = pd.read_csv('data/Training_set_labels.csv')\n",
    "labels.head()"
   ]
  },
  {
   "cell_type": "code",
   "execution_count": 6,
   "id": "2df90434-3d9c-412c-8c39-3e409f6ee6c4",
   "metadata": {},
   "outputs": [
    {
     "name": "stdout",
     "output_type": "stream",
     "text": [
      "<class 'pandas.core.frame.DataFrame'>\n",
      "RangeIndex: 59400 entries, 0 to 59399\n",
      "Data columns (total 40 columns):\n",
      " #   Column                 Non-Null Count  Dtype  \n",
      "---  ------                 --------------  -----  \n",
      " 0   id                     59400 non-null  int64  \n",
      " 1   amount_tsh             59400 non-null  float64\n",
      " 2   date_recorded          59400 non-null  object \n",
      " 3   funder                 55765 non-null  object \n",
      " 4   gps_height             59400 non-null  int64  \n",
      " 5   installer              55745 non-null  object \n",
      " 6   longitude              59400 non-null  float64\n",
      " 7   latitude               59400 non-null  float64\n",
      " 8   wpt_name               59400 non-null  object \n",
      " 9   num_private            59400 non-null  int64  \n",
      " 10  basin                  59400 non-null  object \n",
      " 11  subvillage             59029 non-null  object \n",
      " 12  region                 59400 non-null  object \n",
      " 13  region_code            59400 non-null  int64  \n",
      " 14  district_code          59400 non-null  int64  \n",
      " 15  lga                    59400 non-null  object \n",
      " 16  ward                   59400 non-null  object \n",
      " 17  population             59400 non-null  int64  \n",
      " 18  public_meeting         56066 non-null  object \n",
      " 19  recorded_by            59400 non-null  object \n",
      " 20  scheme_management      55523 non-null  object \n",
      " 21  scheme_name            31234 non-null  object \n",
      " 22  permit                 56344 non-null  object \n",
      " 23  construction_year      59400 non-null  int64  \n",
      " 24  extraction_type        59400 non-null  object \n",
      " 25  extraction_type_group  59400 non-null  object \n",
      " 26  extraction_type_class  59400 non-null  object \n",
      " 27  management             59400 non-null  object \n",
      " 28  management_group       59400 non-null  object \n",
      " 29  payment                59400 non-null  object \n",
      " 30  payment_type           59400 non-null  object \n",
      " 31  water_quality          59400 non-null  object \n",
      " 32  quality_group          59400 non-null  object \n",
      " 33  quantity               59400 non-null  object \n",
      " 34  quantity_group         59400 non-null  object \n",
      " 35  source                 59400 non-null  object \n",
      " 36  source_type            59400 non-null  object \n",
      " 37  source_class           59400 non-null  object \n",
      " 38  waterpoint_type        59400 non-null  object \n",
      " 39  waterpoint_type_group  59400 non-null  object \n",
      "dtypes: float64(3), int64(7), object(30)\n",
      "memory usage: 18.1+ MB\n"
     ]
    }
   ],
   "source": [
    "val.info()"
   ]
  },
  {
   "cell_type": "code",
   "execution_count": 7,
   "id": "9817eeda-76ae-44b6-9e5a-4421613b437e",
   "metadata": {},
   "outputs": [
    {
     "name": "stdout",
     "output_type": "stream",
     "text": [
      "<class 'pandas.core.frame.DataFrame'>\n",
      "RangeIndex: 59400 entries, 0 to 59399\n",
      "Data columns (total 2 columns):\n",
      " #   Column        Non-Null Count  Dtype \n",
      "---  ------        --------------  ----- \n",
      " 0   id            59400 non-null  int64 \n",
      " 1   status_group  59400 non-null  object\n",
      "dtypes: int64(1), object(1)\n",
      "memory usage: 928.2+ KB\n"
     ]
    }
   ],
   "source": [
    "labels.info()"
   ]
  },
  {
   "cell_type": "code",
   "execution_count": 8,
   "id": "f4ab15ed-f99e-4cbc-b0c9-093bff1d5bba",
   "metadata": {},
   "outputs": [
    {
     "data": {
      "text/plain": [
       "functional                 32259\n",
       "non functional             22824\n",
       "functional needs repair     4317\n",
       "Name: status_group, dtype: int64"
      ]
     },
     "execution_count": 8,
     "metadata": {},
     "output_type": "execute_result"
    }
   ],
   "source": [
    "labels['status_group'].value_counts()"
   ]
  },
  {
   "cell_type": "code",
   "execution_count": 9,
   "id": "e76e8833-98d8-4358-b1c2-d01d4289361f",
   "metadata": {},
   "outputs": [
    {
     "data": {
      "text/plain": [
       "functional                 0.543081\n",
       "non functional             0.384242\n",
       "functional needs repair    0.072677\n",
       "Name: status_group, dtype: float64"
      ]
     },
     "execution_count": 9,
     "metadata": {},
     "output_type": "execute_result"
    }
   ],
   "source": [
    "# Check class balance with percentages: Pretty significant imbalance!!\n",
    "labels['status_group'].value_counts(normalize=True)"
   ]
  },
  {
   "cell_type": "code",
   "execution_count": 10,
   "id": "c17ccb2a-6801-4c5c-8f4f-1ca35ed07515",
   "metadata": {},
   "outputs": [],
   "source": [
    "# make problem binary: change the status_group labels 'non functional' and 'functinoal needs repair' into 'needs repair'\n",
    "labels['status_group'] = labels['status_group'].map({'non functional':'needs repair',\n",
    "                                                       'functional needs repair':'needs repair',\n",
    "                                                       'functional':'functional'})"
   ]
  },
  {
   "cell_type": "code",
   "execution_count": 11,
   "id": "2acc043a-8841-48f5-957f-cdab7934e893",
   "metadata": {},
   "outputs": [
    {
     "data": {
      "text/plain": [
       "functional      32259\n",
       "needs repair    27141\n",
       "Name: status_group, dtype: int64"
      ]
     },
     "execution_count": 11,
     "metadata": {},
     "output_type": "execute_result"
    }
   ],
   "source": [
    "labels['status_group'].value_counts()"
   ]
  },
  {
   "cell_type": "code",
   "execution_count": 12,
   "id": "90241002-351e-446d-863a-b16001de4570",
   "metadata": {},
   "outputs": [
    {
     "data": {
      "text/plain": [
       "functional      0.543081\n",
       "needs repair    0.456919\n",
       "Name: status_group, dtype: float64"
      ]
     },
     "execution_count": 12,
     "metadata": {},
     "output_type": "execute_result"
    }
   ],
   "source": [
    "#although not all, this fixes a good amount of class imbalance\n",
    "labels['status_group'].value_counts(normalize=True)"
   ]
  },
  {
   "cell_type": "code",
   "execution_count": 13,
   "id": "61309614-047b-4565-8fce-73f62369ff0f",
   "metadata": {},
   "outputs": [
    {
     "data": {
      "text/html": [
       "<div>\n",
       "<style scoped>\n",
       "    .dataframe tbody tr th:only-of-type {\n",
       "        vertical-align: middle;\n",
       "    }\n",
       "\n",
       "    .dataframe tbody tr th {\n",
       "        vertical-align: top;\n",
       "    }\n",
       "\n",
       "    .dataframe thead th {\n",
       "        text-align: right;\n",
       "    }\n",
       "</style>\n",
       "<table border=\"1\" class=\"dataframe\">\n",
       "  <thead>\n",
       "    <tr style=\"text-align: right;\">\n",
       "      <th></th>\n",
       "      <th>id</th>\n",
       "      <th>amount_tsh</th>\n",
       "      <th>date_recorded</th>\n",
       "      <th>funder</th>\n",
       "      <th>gps_height</th>\n",
       "      <th>installer</th>\n",
       "      <th>longitude</th>\n",
       "      <th>latitude</th>\n",
       "      <th>wpt_name</th>\n",
       "      <th>num_private</th>\n",
       "      <th>...</th>\n",
       "      <th>water_quality</th>\n",
       "      <th>quality_group</th>\n",
       "      <th>quantity</th>\n",
       "      <th>quantity_group</th>\n",
       "      <th>source</th>\n",
       "      <th>source_type</th>\n",
       "      <th>source_class</th>\n",
       "      <th>waterpoint_type</th>\n",
       "      <th>waterpoint_type_group</th>\n",
       "      <th>status_group</th>\n",
       "    </tr>\n",
       "  </thead>\n",
       "  <tbody>\n",
       "    <tr>\n",
       "      <th>0</th>\n",
       "      <td>69572</td>\n",
       "      <td>6000.0</td>\n",
       "      <td>2011-03-14</td>\n",
       "      <td>Roman</td>\n",
       "      <td>1390</td>\n",
       "      <td>Roman</td>\n",
       "      <td>34.938093</td>\n",
       "      <td>-9.856322</td>\n",
       "      <td>none</td>\n",
       "      <td>0</td>\n",
       "      <td>...</td>\n",
       "      <td>soft</td>\n",
       "      <td>good</td>\n",
       "      <td>enough</td>\n",
       "      <td>enough</td>\n",
       "      <td>spring</td>\n",
       "      <td>spring</td>\n",
       "      <td>groundwater</td>\n",
       "      <td>communal standpipe</td>\n",
       "      <td>communal standpipe</td>\n",
       "      <td>functional</td>\n",
       "    </tr>\n",
       "    <tr>\n",
       "      <th>1</th>\n",
       "      <td>8776</td>\n",
       "      <td>0.0</td>\n",
       "      <td>2013-03-06</td>\n",
       "      <td>Grumeti</td>\n",
       "      <td>1399</td>\n",
       "      <td>GRUMETI</td>\n",
       "      <td>34.698766</td>\n",
       "      <td>-2.147466</td>\n",
       "      <td>Zahanati</td>\n",
       "      <td>0</td>\n",
       "      <td>...</td>\n",
       "      <td>soft</td>\n",
       "      <td>good</td>\n",
       "      <td>insufficient</td>\n",
       "      <td>insufficient</td>\n",
       "      <td>rainwater harvesting</td>\n",
       "      <td>rainwater harvesting</td>\n",
       "      <td>surface</td>\n",
       "      <td>communal standpipe</td>\n",
       "      <td>communal standpipe</td>\n",
       "      <td>functional</td>\n",
       "    </tr>\n",
       "    <tr>\n",
       "      <th>2</th>\n",
       "      <td>34310</td>\n",
       "      <td>25.0</td>\n",
       "      <td>2013-02-25</td>\n",
       "      <td>Lottery Club</td>\n",
       "      <td>686</td>\n",
       "      <td>World vision</td>\n",
       "      <td>37.460664</td>\n",
       "      <td>-3.821329</td>\n",
       "      <td>Kwa Mahundi</td>\n",
       "      <td>0</td>\n",
       "      <td>...</td>\n",
       "      <td>soft</td>\n",
       "      <td>good</td>\n",
       "      <td>enough</td>\n",
       "      <td>enough</td>\n",
       "      <td>dam</td>\n",
       "      <td>dam</td>\n",
       "      <td>surface</td>\n",
       "      <td>communal standpipe multiple</td>\n",
       "      <td>communal standpipe</td>\n",
       "      <td>functional</td>\n",
       "    </tr>\n",
       "    <tr>\n",
       "      <th>3</th>\n",
       "      <td>67743</td>\n",
       "      <td>0.0</td>\n",
       "      <td>2013-01-28</td>\n",
       "      <td>Unicef</td>\n",
       "      <td>263</td>\n",
       "      <td>UNICEF</td>\n",
       "      <td>38.486161</td>\n",
       "      <td>-11.155298</td>\n",
       "      <td>Zahanati Ya Nanyumbu</td>\n",
       "      <td>0</td>\n",
       "      <td>...</td>\n",
       "      <td>soft</td>\n",
       "      <td>good</td>\n",
       "      <td>dry</td>\n",
       "      <td>dry</td>\n",
       "      <td>machine dbh</td>\n",
       "      <td>borehole</td>\n",
       "      <td>groundwater</td>\n",
       "      <td>communal standpipe multiple</td>\n",
       "      <td>communal standpipe</td>\n",
       "      <td>needs repair</td>\n",
       "    </tr>\n",
       "    <tr>\n",
       "      <th>4</th>\n",
       "      <td>19728</td>\n",
       "      <td>0.0</td>\n",
       "      <td>2011-07-13</td>\n",
       "      <td>Action In A</td>\n",
       "      <td>0</td>\n",
       "      <td>Artisan</td>\n",
       "      <td>31.130847</td>\n",
       "      <td>-1.825359</td>\n",
       "      <td>Shuleni</td>\n",
       "      <td>0</td>\n",
       "      <td>...</td>\n",
       "      <td>soft</td>\n",
       "      <td>good</td>\n",
       "      <td>seasonal</td>\n",
       "      <td>seasonal</td>\n",
       "      <td>rainwater harvesting</td>\n",
       "      <td>rainwater harvesting</td>\n",
       "      <td>surface</td>\n",
       "      <td>communal standpipe</td>\n",
       "      <td>communal standpipe</td>\n",
       "      <td>functional</td>\n",
       "    </tr>\n",
       "  </tbody>\n",
       "</table>\n",
       "<p>5 rows × 41 columns</p>\n",
       "</div>"
      ],
      "text/plain": [
       "      id  amount_tsh date_recorded        funder  gps_height     installer  \\\n",
       "0  69572      6000.0    2011-03-14         Roman        1390         Roman   \n",
       "1   8776         0.0    2013-03-06       Grumeti        1399       GRUMETI   \n",
       "2  34310        25.0    2013-02-25  Lottery Club         686  World vision   \n",
       "3  67743         0.0    2013-01-28        Unicef         263        UNICEF   \n",
       "4  19728         0.0    2011-07-13   Action In A           0       Artisan   \n",
       "\n",
       "   longitude   latitude              wpt_name  num_private  ... water_quality  \\\n",
       "0  34.938093  -9.856322                  none            0  ...          soft   \n",
       "1  34.698766  -2.147466              Zahanati            0  ...          soft   \n",
       "2  37.460664  -3.821329           Kwa Mahundi            0  ...          soft   \n",
       "3  38.486161 -11.155298  Zahanati Ya Nanyumbu            0  ...          soft   \n",
       "4  31.130847  -1.825359               Shuleni            0  ...          soft   \n",
       "\n",
       "  quality_group      quantity  quantity_group                source  \\\n",
       "0          good        enough          enough                spring   \n",
       "1          good  insufficient    insufficient  rainwater harvesting   \n",
       "2          good        enough          enough                   dam   \n",
       "3          good           dry             dry           machine dbh   \n",
       "4          good      seasonal        seasonal  rainwater harvesting   \n",
       "\n",
       "            source_type source_class              waterpoint_type  \\\n",
       "0                spring  groundwater           communal standpipe   \n",
       "1  rainwater harvesting      surface           communal standpipe   \n",
       "2                   dam      surface  communal standpipe multiple   \n",
       "3              borehole  groundwater  communal standpipe multiple   \n",
       "4  rainwater harvesting      surface           communal standpipe   \n",
       "\n",
       "  waterpoint_type_group  status_group  \n",
       "0    communal standpipe    functional  \n",
       "1    communal standpipe    functional  \n",
       "2    communal standpipe    functional  \n",
       "3    communal standpipe  needs repair  \n",
       "4    communal standpipe    functional  \n",
       "\n",
       "[5 rows x 41 columns]"
      ]
     },
     "execution_count": 13,
     "metadata": {},
     "output_type": "execute_result"
    }
   ],
   "source": [
    "# Merge the two dataframes based the common index column 'id'\n",
    "df = pd.merge(val, labels, how = 'left', on='id')\n",
    "df.head()"
   ]
  },
  {
   "cell_type": "code",
   "execution_count": 14,
   "id": "dc1d1bd7-ac02-4c4d-97f8-cea32c20317e",
   "metadata": {},
   "outputs": [],
   "source": [
    "#Note: many columns seem to contain the same/similar information"
   ]
  },
  {
   "cell_type": "code",
   "execution_count": 15,
   "id": "37be859a-4605-466d-8748-aa6d9b050860",
   "metadata": {},
   "outputs": [
    {
     "data": {
      "text/plain": [
       "id                           0\n",
       "amount_tsh                   0\n",
       "date_recorded                0\n",
       "funder                    3635\n",
       "gps_height                   0\n",
       "installer                 3655\n",
       "longitude                    0\n",
       "latitude                     0\n",
       "wpt_name                     0\n",
       "num_private                  0\n",
       "basin                        0\n",
       "subvillage                 371\n",
       "region                       0\n",
       "region_code                  0\n",
       "district_code                0\n",
       "lga                          0\n",
       "ward                         0\n",
       "population                   0\n",
       "public_meeting            3334\n",
       "recorded_by                  0\n",
       "scheme_management         3877\n",
       "scheme_name              28166\n",
       "permit                    3056\n",
       "construction_year            0\n",
       "extraction_type              0\n",
       "extraction_type_group        0\n",
       "extraction_type_class        0\n",
       "management                   0\n",
       "management_group             0\n",
       "payment                      0\n",
       "payment_type                 0\n",
       "water_quality                0\n",
       "quality_group                0\n",
       "quantity                     0\n",
       "quantity_group               0\n",
       "source                       0\n",
       "source_type                  0\n",
       "source_class                 0\n",
       "waterpoint_type              0\n",
       "waterpoint_type_group        0\n",
       "status_group                 0\n",
       "dtype: int64"
      ]
     },
     "execution_count": 15,
     "metadata": {},
     "output_type": "execute_result"
    }
   ],
   "source": [
    "df.isna().sum()"
   ]
  },
  {
   "cell_type": "code",
   "execution_count": 16,
   "id": "489f69e8-063f-4a47-a13b-4b3ce7dc753b",
   "metadata": {},
   "outputs": [
    {
     "name": "stdout",
     "output_type": "stream",
     "text": [
      "<class 'pandas.core.frame.DataFrame'>\n",
      "Int64Index: 59400 entries, 0 to 59399\n",
      "Data columns (total 41 columns):\n",
      " #   Column                 Non-Null Count  Dtype  \n",
      "---  ------                 --------------  -----  \n",
      " 0   id                     59400 non-null  int64  \n",
      " 1   amount_tsh             59400 non-null  float64\n",
      " 2   date_recorded          59400 non-null  object \n",
      " 3   funder                 55765 non-null  object \n",
      " 4   gps_height             59400 non-null  int64  \n",
      " 5   installer              55745 non-null  object \n",
      " 6   longitude              59400 non-null  float64\n",
      " 7   latitude               59400 non-null  float64\n",
      " 8   wpt_name               59400 non-null  object \n",
      " 9   num_private            59400 non-null  int64  \n",
      " 10  basin                  59400 non-null  object \n",
      " 11  subvillage             59029 non-null  object \n",
      " 12  region                 59400 non-null  object \n",
      " 13  region_code            59400 non-null  int64  \n",
      " 14  district_code          59400 non-null  int64  \n",
      " 15  lga                    59400 non-null  object \n",
      " 16  ward                   59400 non-null  object \n",
      " 17  population             59400 non-null  int64  \n",
      " 18  public_meeting         56066 non-null  object \n",
      " 19  recorded_by            59400 non-null  object \n",
      " 20  scheme_management      55523 non-null  object \n",
      " 21  scheme_name            31234 non-null  object \n",
      " 22  permit                 56344 non-null  object \n",
      " 23  construction_year      59400 non-null  int64  \n",
      " 24  extraction_type        59400 non-null  object \n",
      " 25  extraction_type_group  59400 non-null  object \n",
      " 26  extraction_type_class  59400 non-null  object \n",
      " 27  management             59400 non-null  object \n",
      " 28  management_group       59400 non-null  object \n",
      " 29  payment                59400 non-null  object \n",
      " 30  payment_type           59400 non-null  object \n",
      " 31  water_quality          59400 non-null  object \n",
      " 32  quality_group          59400 non-null  object \n",
      " 33  quantity               59400 non-null  object \n",
      " 34  quantity_group         59400 non-null  object \n",
      " 35  source                 59400 non-null  object \n",
      " 36  source_type            59400 non-null  object \n",
      " 37  source_class           59400 non-null  object \n",
      " 38  waterpoint_type        59400 non-null  object \n",
      " 39  waterpoint_type_group  59400 non-null  object \n",
      " 40  status_group           59400 non-null  object \n",
      "dtypes: float64(3), int64(7), object(31)\n",
      "memory usage: 19.0+ MB\n"
     ]
    }
   ],
   "source": [
    "df.info()"
   ]
  },
  {
   "cell_type": "code",
   "execution_count": 17,
   "id": "3423fd3e-cdb6-4e20-b65f-6d2fc606f6db",
   "metadata": {},
   "outputs": [
    {
     "name": "stdout",
     "output_type": "stream",
     "text": [
      "Numerical Feature Summary Statistics:\n",
      "                 id     amount_tsh    gps_height     longitude      latitude  \\\n",
      "count  59400.000000   59400.000000  59400.000000  59400.000000  5.940000e+04   \n",
      "mean   37115.131768     317.650385    668.297239     34.077427 -5.706033e+00   \n",
      "std    21453.128371    2997.574558    693.116350      6.567432  2.946019e+00   \n",
      "min        0.000000       0.000000    -90.000000      0.000000 -1.164944e+01   \n",
      "25%    18519.750000       0.000000      0.000000     33.090347 -8.540621e+00   \n",
      "50%    37061.500000       0.000000    369.000000     34.908743 -5.021597e+00   \n",
      "75%    55656.500000      20.000000   1319.250000     37.178387 -3.326156e+00   \n",
      "max    74247.000000  350000.000000   2770.000000     40.345193 -2.000000e-08   \n",
      "\n",
      "        num_private   region_code  district_code    population  \\\n",
      "count  59400.000000  59400.000000   59400.000000  59400.000000   \n",
      "mean       0.474141     15.297003       5.629747    179.909983   \n",
      "std       12.236230     17.587406       9.633649    471.482176   \n",
      "min        0.000000      1.000000       0.000000      0.000000   \n",
      "25%        0.000000      5.000000       2.000000      0.000000   \n",
      "50%        0.000000     12.000000       3.000000     25.000000   \n",
      "75%        0.000000     17.000000       5.000000    215.000000   \n",
      "max     1776.000000     99.000000      80.000000  30500.000000   \n",
      "\n",
      "       construction_year  \n",
      "count       59400.000000  \n",
      "mean         1300.652475  \n",
      "std           951.620547  \n",
      "min             0.000000  \n",
      "25%             0.000000  \n",
      "50%          1986.000000  \n",
      "75%          2004.000000  \n",
      "max          2013.000000  \n",
      "\n",
      "\n",
      "Summary statistics of categorical features:\n",
      "       date_recorded                  funder installer wpt_name  \\\n",
      "count          59400                   55765     55745    59400   \n",
      "unique           356                    1897      2145    37400   \n",
      "top       2011-03-15  Government Of Tanzania       DWE     none   \n",
      "freq             572                    9084     17402     3563   \n",
      "\n",
      "                basin subvillage  region     lga   ward public_meeting  ...  \\\n",
      "count           59400      59029   59400   59400  59400          56066  ...   \n",
      "unique              9      19287      21     125   2092              2  ...   \n",
      "top     Lake Victoria   Madukani  Iringa  Njombe  Igosi           True  ...   \n",
      "freq            10248        508    5294    2503    307          51011  ...   \n",
      "\n",
      "       water_quality quality_group quantity quantity_group  source  \\\n",
      "count          59400         59400    59400          59400   59400   \n",
      "unique             8             6        5              5      10   \n",
      "top             soft          good   enough         enough  spring   \n",
      "freq           50818         50818    33186          33186   17021   \n",
      "\n",
      "       source_type source_class     waterpoint_type waterpoint_type_group  \\\n",
      "count        59400        59400               59400                 59400   \n",
      "unique           7            3                   7                     6   \n",
      "top         spring  groundwater  communal standpipe    communal standpipe   \n",
      "freq         17021        45794               28522                 34625   \n",
      "\n",
      "       status_group  \n",
      "count         59400  \n",
      "unique            2  \n",
      "top      functional  \n",
      "freq          32259  \n",
      "\n",
      "[4 rows x 31 columns]\n"
     ]
    }
   ],
   "source": [
    "#Take a look at Summary Statistics for Numerical and Categorical Columns:\n",
    "print(\"Numerical Feature Summary Statistics:\")\n",
    "numerical_stats = df.describe()\n",
    "print(numerical_stats)\n",
    "print(\"\\n\")\n",
    "    \n",
    "\n",
    "print(\"Summary statistics of categorical features:\")\n",
    "categorical_stats = df.describe(include=['object'])\n",
    "print(categorical_stats)"
   ]
  },
  {
   "cell_type": "code",
   "execution_count": 18,
   "id": "909abcc6-aede-4e5c-aa69-2ca0e7796288",
   "metadata": {},
   "outputs": [
    {
     "data": {
      "text/plain": [
       "Index(['date_recorded', 'funder', 'installer', 'wpt_name', 'basin',\n",
       "       'subvillage', 'region', 'lga', 'ward', 'public_meeting', 'recorded_by',\n",
       "       'scheme_management', 'scheme_name', 'permit', 'extraction_type',\n",
       "       'extraction_type_group', 'extraction_type_class', 'management',\n",
       "       'management_group', 'payment', 'payment_type', 'water_quality',\n",
       "       'quality_group', 'quantity', 'quantity_group', 'source', 'source_type',\n",
       "       'source_class', 'waterpoint_type', 'waterpoint_type_group',\n",
       "       'status_group'],\n",
       "      dtype='object')"
      ]
     },
     "execution_count": 18,
     "metadata": {},
     "output_type": "execute_result"
    }
   ],
   "source": [
    "# Look at categorical columns\n",
    "df.select_dtypes(include=['object']).columns"
   ]
  },
  {
   "cell_type": "code",
   "execution_count": 19,
   "id": "127e860e-1ca2-44ad-aae4-06a7232bfd65",
   "metadata": {},
   "outputs": [],
   "source": [
    "#compare columns that seem to have overlap and decide which to keep/which to get rid of (ensuring no multicolinearity)"
   ]
  },
  {
   "cell_type": "code",
   "execution_count": 20,
   "id": "ccd59b4c-00d1-4943-9b6e-f7e5e58bd50d",
   "metadata": {},
   "outputs": [
    {
     "data": {
      "text/plain": [
       "management_group  management      \n",
       "user-group        vwc                 40507\n",
       "                  wug                  6515\n",
       "                  water board          2933\n",
       "                  wua                  2535\n",
       "commercial        private operator     1971\n",
       "parastatal        parastatal           1768\n",
       "commercial        water authority       904\n",
       "other             other                 844\n",
       "commercial        company               685\n",
       "unknown           unknown               561\n",
       "other             other - school         99\n",
       "commercial        trust                  78\n",
       "dtype: int64"
      ]
     },
     "execution_count": 20,
     "metadata": {},
     "output_type": "execute_result"
    }
   ],
   "source": [
    "df[['management_group', 'management']].value_counts()\n"
   ]
  },
  {
   "cell_type": "code",
   "execution_count": 21,
   "id": "5d831eb5-a235-4eb9-9293-598f2464d5eb",
   "metadata": {},
   "outputs": [
    {
     "data": {
      "text/plain": [
       "waterpoint_type_group  waterpoint_type            \n",
       "communal standpipe     communal standpipe             28522\n",
       "hand pump              hand pump                      17488\n",
       "other                  other                           6380\n",
       "communal standpipe     communal standpipe multiple     6103\n",
       "improved spring        improved spring                  784\n",
       "cattle trough          cattle trough                    116\n",
       "dam                    dam                                7\n",
       "dtype: int64"
      ]
     },
     "execution_count": 21,
     "metadata": {},
     "output_type": "execute_result"
    }
   ],
   "source": [
    "df[['waterpoint_type_group', 'waterpoint_type']].value_counts()"
   ]
  },
  {
   "cell_type": "code",
   "execution_count": 22,
   "id": "16cceb48-afd2-48b5-bd9f-1c4dde01fb6d",
   "metadata": {},
   "outputs": [
    {
     "data": {
      "text/plain": [
       "funder                          installer           \n",
       "Government Of Tanzania          DWE                     4254\n",
       "                                Government              1607\n",
       "Hesawa                          DWE                     1296\n",
       "Danida                          DANIDA                  1046\n",
       "Rwssp                           DWE                      914\n",
       "                                                        ... \n",
       "Ola                             OLS                        1\n",
       "Okutu Village Community         Gerald Mila                1\n",
       "Oikos E.Africa/ European Union  Oikos E .Africa            1\n",
       "Oda                             VILLAGE COUNCIL .ODA       1\n",
       "Msikiti Masji                   ms                         1\n",
       "Length: 3697, dtype: int64"
      ]
     },
     "execution_count": 22,
     "metadata": {},
     "output_type": "execute_result"
    }
   ],
   "source": [
    "df[['funder', 'installer']].value_counts()"
   ]
  },
  {
   "cell_type": "code",
   "execution_count": 23,
   "id": "b3a1b308-5cc6-4ad5-8a3c-ad9c02e17516",
   "metadata": {},
   "outputs": [
    {
     "data": {
      "text/plain": [
       "scheme_management  scheme_name               \n",
       "VWC                K                             571\n",
       "WUA                Chalinze wate                 404\n",
       "VWC                DANIDA                        378\n",
       "                   M                             331\n",
       "WUG                None                          325\n",
       "                                                ... \n",
       "VWC                NKENJA                          1\n",
       "                   NYA/ MAK/ BUK piped scheme      1\n",
       "                   NYA/MAK/BUK  piped scheme       1\n",
       "                   NYA/MAK/BUK piped scheme        1\n",
       "Company            BFFS                            1\n",
       "Length: 3077, dtype: int64"
      ]
     },
     "execution_count": 23,
     "metadata": {},
     "output_type": "execute_result"
    }
   ],
   "source": [
    "df[['scheme_management', 'scheme_name']].value_counts()"
   ]
  },
  {
   "cell_type": "code",
   "execution_count": 24,
   "id": "646741b5-4047-462e-8679-79bde0daf5de",
   "metadata": {},
   "outputs": [
    {
     "data": {
      "text/plain": [
       "extraction_type_class  extraction_type_group  extraction_type          \n",
       "gravity                gravity                gravity                      26780\n",
       "handpump               nira/tanira            nira/tanira                   8154\n",
       "other                  other                  other                         6430\n",
       "submersible            submersible            submersible                   4764\n",
       "handpump               swn 80                 swn 80                        3670\n",
       "motorpump              mono                   mono                          2865\n",
       "handpump               india mark ii          india mark ii                 2400\n",
       "                       afridev                afridev                       1770\n",
       "submersible            submersible            ksb                           1415\n",
       "rope pump              rope pump              other - rope pump              451\n",
       "handpump               other handpump         other - swn 81                 229\n",
       "wind-powered           wind-powered           windmill                       117\n",
       "handpump               india mark iii         india mark iii                  98\n",
       "motorpump              other motorpump        cemo                            90\n",
       "handpump               other handpump         other - play pump               85\n",
       "                                              walimi                          48\n",
       "motorpump              other motorpump        climax                          32\n",
       "handpump               other handpump         other - mkulima/shinyanga        2\n",
       "dtype: int64"
      ]
     },
     "execution_count": 24,
     "metadata": {},
     "output_type": "execute_result"
    }
   ],
   "source": [
    "df[['extraction_type_class', 'extraction_type_group' , 'extraction_type']].value_counts()"
   ]
  },
  {
   "cell_type": "code",
   "execution_count": 25,
   "id": "2d8d4c14-a6a9-46f1-909d-9f5bb6ef2a89",
   "metadata": {},
   "outputs": [
    {
     "data": {
      "text/plain": [
       "payment_type  payment              \n",
       "never pay     never pay                25348\n",
       "per bucket    pay per bucket            8985\n",
       "monthly       pay monthly               8300\n",
       "unknown       unknown                   8157\n",
       "on failure    pay when scheme fails     3914\n",
       "annually      pay annually              3642\n",
       "other         other                     1054\n",
       "dtype: int64"
      ]
     },
     "execution_count": 25,
     "metadata": {},
     "output_type": "execute_result"
    }
   ],
   "source": [
    "df[['payment_type', 'payment']].value_counts()"
   ]
  },
  {
   "cell_type": "code",
   "execution_count": 26,
   "id": "642ce376-7040-40ae-a6d4-bd2bb71846e5",
   "metadata": {},
   "outputs": [
    {
     "data": {
      "text/plain": [
       "quality_group  water_quality     \n",
       "good           soft                  50818\n",
       "salty          salty                  4856\n",
       "unknown        unknown                1876\n",
       "milky          milky                   804\n",
       "colored        coloured                490\n",
       "salty          salty abandoned         339\n",
       "fluoride       fluoride                200\n",
       "               fluoride abandoned       17\n",
       "dtype: int64"
      ]
     },
     "execution_count": 26,
     "metadata": {},
     "output_type": "execute_result"
    }
   ],
   "source": [
    "df[['quality_group', 'water_quality']].value_counts()"
   ]
  },
  {
   "cell_type": "code",
   "execution_count": 27,
   "id": "97ec1cc2-4488-468b-b7f1-00a15da0158e",
   "metadata": {},
   "outputs": [
    {
     "data": {
      "text/plain": [
       "source_class  source_type           source              \n",
       "groundwater   spring                spring                  17021\n",
       "              shallow well          shallow well            16824\n",
       "              borehole              machine dbh             11075\n",
       "surface       river/lake            river                    9612\n",
       "              rainwater harvesting  rainwater harvesting     2295\n",
       "groundwater   borehole              hand dtw                  874\n",
       "surface       river/lake            lake                      765\n",
       "              dam                   dam                       656\n",
       "unknown       other                 other                     212\n",
       "                                    unknown                    66\n",
       "dtype: int64"
      ]
     },
     "execution_count": 27,
     "metadata": {},
     "output_type": "execute_result"
    }
   ],
   "source": [
    "df[['source_class', 'source_type', 'source']].value_counts()"
   ]
  },
  {
   "cell_type": "markdown",
   "id": "8012a844-444a-47a5-af8f-dc76cdaac66c",
   "metadata": {},
   "source": [
    "* extraction_type_group: Grouped extraction type (redundant with 'extraction_type').\n",
    "* extraction_type_class: Classification of extraction type (redundant with 'extraction_type').\n",
    "* management_group: Grouped management type (redundant with 'management').\n",
    "* payment_type: Payment method (redundant with 'payment').\n",
    "* quality_group: Grouped water quality (redundant with 'water_quality').\n",
    "* quantity_group: Grouped water quantity (redundant with 'quantity').\n",
    "* source_type: Source type (redundant with 'source').\n",
    "* source_class: Source class (redundant with 'source').\n",
    "* waterpoint_type_group: Grouped waterpoint type (redundant with 'waterpoint_type').\n"
   ]
  },
  {
   "cell_type": "code",
   "execution_count": 28,
   "id": "ba97b31d-35c0-4839-a079-17627c6ae5e8",
   "metadata": {},
   "outputs": [
    {
     "data": {
      "text/plain": [
       "['date_recorded',\n",
       " 'funder',\n",
       " 'installer',\n",
       " 'wpt_name',\n",
       " 'basin',\n",
       " 'subvillage',\n",
       " 'region',\n",
       " 'lga',\n",
       " 'ward',\n",
       " 'public_meeting',\n",
       " 'recorded_by',\n",
       " 'scheme_management',\n",
       " 'scheme_name',\n",
       " 'permit',\n",
       " 'extraction_type',\n",
       " 'extraction_type_group',\n",
       " 'extraction_type_class',\n",
       " 'management',\n",
       " 'management_group',\n",
       " 'payment',\n",
       " 'payment_type',\n",
       " 'water_quality',\n",
       " 'quality_group',\n",
       " 'quantity',\n",
       " 'quantity_group',\n",
       " 'source',\n",
       " 'source_type',\n",
       " 'source_class',\n",
       " 'waterpoint_type',\n",
       " 'waterpoint_type_group',\n",
       " 'status_group']"
      ]
     },
     "execution_count": 28,
     "metadata": {},
     "output_type": "execute_result"
    }
   ],
   "source": [
    "categorical = [var for var in df.columns if df[var].dtype=='O']\n",
    "categorical"
   ]
  },
  {
   "cell_type": "code",
   "execution_count": 29,
   "id": "b8255f78-18c0-49f8-848a-af31460b3c00",
   "metadata": {},
   "outputs": [
    {
     "data": {
      "text/plain": [
       "['id',\n",
       " 'amount_tsh',\n",
       " 'gps_height',\n",
       " 'longitude',\n",
       " 'latitude',\n",
       " 'num_private',\n",
       " 'region_code',\n",
       " 'district_code',\n",
       " 'population',\n",
       " 'construction_year']"
      ]
     },
     "execution_count": 29,
     "metadata": {},
     "output_type": "execute_result"
    }
   ],
   "source": [
    "numerical = [var for var in df.columns if df[var].dtype!='O']\n",
    "numerical"
   ]
  },
  {
   "cell_type": "markdown",
   "id": "b995993e-84f1-44bc-95a8-9a8f57c75eec",
   "metadata": {},
   "source": [
    "## Modeling"
   ]
  },
  {
   "cell_type": "markdown",
   "id": "0c8b327b-dc2c-4576-aa96-b4cc2fb54a49",
   "metadata": {},
   "source": [
    "# Conclusions"
   ]
  },
  {
   "cell_type": "markdown",
   "id": "c161aac0-0043-4007-9cf6-75c634dccc44",
   "metadata": {},
   "source": [
    "## Limitations"
   ]
  },
  {
   "cell_type": "markdown",
   "id": "c0ae3672-938b-4b76-ae45-15b352c74a87",
   "metadata": {},
   "source": [
    "## Recommendations"
   ]
  },
  {
   "cell_type": "markdown",
   "id": "6cbb8b4f-a687-4963-af98-f29d78046a84",
   "metadata": {},
   "source": [
    "## Next Steps"
   ]
  }
 ],
 "metadata": {
  "kernelspec": {
   "display_name": "Python (learn-env)",
   "language": "python",
   "name": "learn-env"
  },
  "language_info": {
   "codemirror_mode": {
    "name": "ipython",
    "version": 3
   },
   "file_extension": ".py",
   "mimetype": "text/x-python",
   "name": "python",
   "nbconvert_exporter": "python",
   "pygments_lexer": "ipython3",
   "version": "3.8.5"
  }
 },
 "nbformat": 4,
 "nbformat_minor": 5
}
